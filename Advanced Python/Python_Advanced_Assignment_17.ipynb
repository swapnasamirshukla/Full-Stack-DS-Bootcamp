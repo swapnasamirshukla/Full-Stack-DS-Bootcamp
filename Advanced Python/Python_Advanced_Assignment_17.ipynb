{
 "cells": [
  {
   "cell_type": "markdown",
   "id": "7782ab52",
   "metadata": {},
   "source": [
    "**Q1. Explain the difference between greedy and non-greedy syntax with visual terms in as few words as possible. What is the bare minimum effort required to transform a greedy pattern into a non-greedy one? What characters or characters can you introduce or change?**\n",
    "\n",
    "- **Greedy:** Matches the longest possible substring that satisfies the pattern.\n",
    "- **Non-greedy:** Matches the shortest possible substring that satisfies the pattern.\n",
    "To transform a greedy pattern into a non-greedy one, add `?` after the quantifier. For example, change `*` to `*?`.\n",
    "\n",
    "**Q2. When exactly does greedy versus non-greedy make a difference? What if you're looking for a non-greedy match but the only one available is greedy?**\n",
    "\n",
    "Greedy vs. non-greedy matters when the pattern has overlapping matches. If only a greedy match is available, you can still use it, but you might need to adjust your pattern or use additional logic to achieve the desired result.\n",
    "\n",
    "**Q3. In a simple match of a string, which looks only for one match and does not do any replacement, is the use of a nontagged group likely to make any practical difference?**\n",
    "\n",
    "In a simple match without replacement, using a non-capturing group (nontagged group) doesn't make a practical difference in terms of the final matched content. However, it can affect the grouping and capturing behavior for more complex patterns.\n",
    "\n",
    "**Q4. Describe a scenario in which using a nontagged category would have a significant impact on the program's outcomes.**\n",
    "\n",
    "When using alternation with capturing groups, using a nontagged category for a subpattern within the alternation can prevent the overall pattern from capturing unnecessary groups. This can impact the structure of the match objects and the data you extract.\n",
    "\n",
    "**Q5. Unlike a normal regex pattern, a look-ahead condition does not consume the characters it examines. Describe a situation in which this could make a difference in the results of your program.**\n",
    "\n",
    "In a situation where you want to match specific characters that are followed by certain characters, but you don't want to include the characters in the match, a positive look-ahead can help. For example, matching digits that are followed by a letter but not including the letter in the match.\n",
    "\n",
    "**Q6. In standard expressions, what is the difference between positive look-ahead and negative look-ahead?**\n",
    "\n",
    "- **Positive Look-ahead:** Asserts that a certain pattern must be present after the current position.\n",
    "- **Negative Look-ahead:** Asserts that a certain pattern must not be present after the current position.\n",
    "\n",
    "**Q7. What is the benefit of referring to groups by name rather than by number in a standard expression?**\n",
    "\n",
    "Referring to groups by name makes your regex patterns more readable and maintainable. It's especially useful in complex patterns with multiple capturing groups. Named groups also allow you to change the order or structure of capturing groups without affecting referencing.\n",
    "\n",
    "**Q8. Can you identify repeated items within a target string using named groups, as in \"The cow jumped over the moon\"?**\n",
    "\n",
    "Yes, you can use named groups to capture repeated items in a target string. For example, using `(?P<word>\\w+)` to capture repeated words.\n",
    "\n",
    "**Q9. When parsing a string, what is at least one thing that the Scanner interface does for you that the re.findall feature does not?**\n",
    "\n",
    "The Scanner interface in Python allows you to parse a string incrementally, processing tokens step by step. It's useful for cases where you need to apply different actions based on the matched tokens, which is more complex than what `re.findall()` does.\n",
    "\n",
    "**Q10. Does a scanner object have to be named scanner?**\n",
    "\n",
    "No, a scanner object does not have to be named \"scanner.\" You can use any valid variable name to refer to a scanner object. The name you choose should be descriptive and meaningful in the context of your code."
   ]
  },
  {
   "cell_type": "code",
   "execution_count": null,
   "id": "bccc826c",
   "metadata": {},
   "outputs": [],
   "source": []
  }
 ],
 "metadata": {
  "kernelspec": {
   "display_name": "Python 3 (ipykernel)",
   "language": "python",
   "name": "python3"
  },
  "language_info": {
   "codemirror_mode": {
    "name": "ipython",
    "version": 3
   },
   "file_extension": ".py",
   "mimetype": "text/x-python",
   "name": "python",
   "nbconvert_exporter": "python",
   "pygments_lexer": "ipython3",
   "version": "3.10.9"
  }
 },
 "nbformat": 4,
 "nbformat_minor": 5
}
