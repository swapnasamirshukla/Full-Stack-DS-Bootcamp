{
 "cells": [
  {
   "cell_type": "markdown",
   "id": "382e9748",
   "metadata": {},
   "source": [
    "**Q1. What is the purpose of Python's OOP?**\n",
    "\n",
    "The purpose of Python's Object-Oriented Programming (OOP) is to model real-world entities and their interactions in a structured manner using objects and classes. OOP provides a way to organize code into reusable, modular units, making it easier to understand, maintain, and scale. OOP principles, including encapsulation, inheritance, and polymorphism, help create efficient, organized, and modular code.\n",
    "\n",
    "**Q2. Where does an inheritance search look for an attribute?**\n",
    "\n",
    "In Python, an inheritance search for an attribute looks first in the instance itself, then in its class, and then in its class's superclasses (base classes) in a depth-first order. This search is known as the Method Resolution Order (MRO) and is determined by the C3 linearization algorithm.\n",
    "\n",
    "**Q3. How do you distinguish between a class object and an instance object?**\n",
    "\n",
    "- A class object is the blueprint or template that defines the structure and behavior of objects. It is created using the `class` keyword.\n",
    "- An instance object is a specific realization of a class. It is created by calling the class as if it were a function, resulting in an object that inherits the attributes and methods defined in the class.\n",
    "\n",
    "**Q4. What makes the first argument in a class’s method function special?**\n",
    "\n",
    "The first argument in a class's method function, conventionally named `self`, refers to the instance of the class that the method is being called on. It allows the method to access and manipulate the attributes and methods of that instance. It is automatically passed when calling a method on an instance and is a way for the instance to interact with itself.\n",
    "\n",
    "**Q5. What is the purpose of the __init__ method?**\n",
    "\n",
    "The `__init__` method is a special method in Python classes that serves as a constructor. It is called automatically when a new instance of the class is created. Its purpose is to initialize the attributes of the instance with the provided values. This method allows you to set up the initial state of the object.\n",
    "\n",
    "**Q6. What is the process for creating a class instance?**\n",
    "\n",
    "To create a class instance in Python:\n",
    "1. Define a class with attributes and methods.\n",
    "2. Instantiate the class by calling it like a function. This creates an instance object.\n",
    "3. The `__init__` method of the class is automatically called to initialize the instance's attributes.\n",
    "4. You can then use the instance to access and modify attributes and call its methods.\n",
    "\n",
    "**Q7. What is the process for creating a class?**\n",
    "\n",
    "To create a class in Python:\n",
    "1. Use the `class` keyword followed by the class name (usually capitalized).\n",
    "2. Define attributes and methods within the class body.\n",
    "3. Optionally, define the `__init__` method to initialize instance attributes.\n",
    "4. You can then create instances of the class by calling it as a function.\n",
    "\n",
    "**Q8. How would you define the superclasses of a class?**\n",
    "\n",
    "In Python, you can define superclasses (base classes) of a class by specifying them inside the parentheses following the class name when defining the class. This creates a class that inherits attributes and methods from its superclasses.\n",
    "\n",
    "For example:\n",
    "```python\n",
    "class ChildClass(SuperClass1, SuperClass2):\n",
    "    # Class attributes and methods\n",
    "```\n",
    "\n",
    "In this example, `ChildClass` is defined as a subclass that inherits from both `SuperClass1` and `SuperClass2`. The order of superclass names determines the Method Resolution Order (MRO) and the order of attribute search in case of inheritance."
   ]
  },
  {
   "cell_type": "code",
   "execution_count": null,
   "id": "0c1ad507",
   "metadata": {},
   "outputs": [],
   "source": []
  }
 ],
 "metadata": {
  "kernelspec": {
   "display_name": "Python 3 (ipykernel)",
   "language": "python",
   "name": "python3"
  },
  "language_info": {
   "codemirror_mode": {
    "name": "ipython",
    "version": 3
   },
   "file_extension": ".py",
   "mimetype": "text/x-python",
   "name": "python",
   "nbconvert_exporter": "python",
   "pygments_lexer": "ipython3",
   "version": "3.10.9"
  }
 },
 "nbformat": 4,
 "nbformat_minor": 5
}
