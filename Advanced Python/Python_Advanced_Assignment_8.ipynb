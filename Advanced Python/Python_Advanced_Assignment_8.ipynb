{
 "cells": [
  {
   "cell_type": "markdown",
   "id": "867c3add",
   "metadata": {},
   "source": [
    "\n",
    "**Q1. What are the two latest user-defined exception constraints in Python 3.X?**\n",
    "\n",
    "In Python 3.X, two latest user-defined exception constraints are:\n",
    "1. **Exception Context (PEP 3134):** This constraint allows exceptions to carry an additional context. It provides more information about the exception and its context when it's raised, aiding in debugging and error diagnosis.\n",
    "2. **Exception Chaining (PEP 3134):** This constraint enables exceptions to chain together, showing the cause and effect relationship between exceptions. This helps in understanding the sequence of events that led to the error.\n",
    "\n",
    "**Q2. How are class-based exceptions that have been raised matched to handlers?**\n",
    "\n",
    "Class-based exceptions are matched to handlers based on the hierarchy of exception classes. Python traverses the exception classes in the order they appear in the `except` blocks. It searches for the first matching exception class or its superclass in the order of the inheritance chain.\n",
    "\n",
    "**Q3. Describe two methods for attaching context information to exception artifacts.**\n",
    "\n",
    "Two methods for attaching context information to exception artifacts are:\n",
    "1. **Exception Context Manager:** You can use the `contextlib.ExitStack` context manager to attach context information to exceptions. This allows you to add information to exceptions without catching and re-raising them.\n",
    "2. **Using Custom Exception Classes:** You can create custom exception classes that include additional attributes to store context information. When raising the exception, you can provide values for these attributes.\n",
    "\n",
    "**Q4. Describe two methods for specifying the text of an exception object's error message.**\n",
    "\n",
    "Two methods for specifying the text of an exception object's error message are:\n",
    "1. **Passing a String to the Exception Class:** When raising an exception, you can pass a string argument to the exception class constructor, which will become the error message associated with the exception.\n",
    "2. **Overriding the __str__ Method:** You can override the `__str__` method in your custom exception class to define how the exception's error message should be generated.\n",
    "\n",
    "**Q5. Why do you no longer use string-based exceptions?**\n",
    "\n",
    "String-based exceptions were used in earlier versions of Python, but they were replaced by class-based exceptions for several reasons:\n",
    "- Class-based exceptions provide better organization and hierarchy for exceptions, making it easier to categorize and manage them.\n",
    "- They allow for more precise exception handling by matching exception types.\n",
    "- Class-based exceptions can carry additional context and information, aiding in debugging and error diagnosis.\n",
    "- They promote better code maintainability and readability by using descriptive exception names instead of relying on cryptic error messages."
   ]
  },
  {
   "cell_type": "code",
   "execution_count": null,
   "id": "e83ba818",
   "metadata": {},
   "outputs": [],
   "source": []
  }
 ],
 "metadata": {
  "kernelspec": {
   "display_name": "Python 3 (ipykernel)",
   "language": "python",
   "name": "python3"
  },
  "language_info": {
   "codemirror_mode": {
    "name": "ipython",
    "version": 3
   },
   "file_extension": ".py",
   "mimetype": "text/x-python",
   "name": "python",
   "nbconvert_exporter": "python",
   "pygments_lexer": "ipython3",
   "version": "3.10.9"
  }
 },
 "nbformat": 4,
 "nbformat_minor": 5
}
