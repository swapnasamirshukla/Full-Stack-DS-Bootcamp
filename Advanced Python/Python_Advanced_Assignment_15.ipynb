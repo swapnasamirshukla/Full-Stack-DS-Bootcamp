{
 "cells": [
  {
   "cell_type": "markdown",
   "id": "98174c00",
   "metadata": {},
   "source": [
    "**Q1. What are the new features added in Python 3.8 version?**\n",
    "\n",
    "Python 3.8 introduced several new features, including:\n",
    "- Assignment Expressions (the \"walrus operator\"): Allows assignment within expressions.\n",
    "- Positional-only Parameters: Defines function parameters that can only be passed positionally.\n",
    "- f-string improvements: Supports the `=` specifier for debugging expressions.\n",
    "- The `math.prod()` function: Calculates the product of items in an iterable.\n",
    "- The `functools.cached_property` decorator: Caches property values after the first access.\n",
    "- Syntax warning improvements: Provides more informative syntax warnings.\n",
    "- The `__future__` module: Allows features from future Python versions to be used.\n",
    "- Performance improvements: Various optimizations and enhancements.\n",
    "\n",
    "**Q2. What is monkey patching in Python?**\n",
    "\n",
    "Monkey patching is a practice in Python where you dynamically modify or extend modules or classes at runtime, typically by adding, modifying, or replacing attributes, methods, or functions. It can be used to change the behavior of existing code or to add new features without modifying the original source code. While it provides flexibility, it should be used cautiously to avoid unintended consequences and maintainability issues.\n",
    "\n",
    "**Q3. What is the difference between a shallow copy and deep copy?**\n",
    "\n",
    "- **Shallow Copy:** A shallow copy of an object creates a new object, but it doesn't create copies of the nested objects within the original object. Instead, it copies references to the nested objects. Changes to nested objects in the shallow copy are reflected in the original, and vice versa.\n",
    "- **Deep Copy:** A deep copy creates a new object and recursively creates copies of all nested objects within the original object. Changes to nested objects in the deep copy do not affect the original, and vice versa.\n",
    "\n",
    "**Q4. What is the maximum possible length of an identifier?**\n",
    "\n",
    "In Python, the maximum length of an identifier (variable name, function name, etc.) is not explicitly defined. However, the practical limit is determined by the system's memory and performance constraints. It's recommended to keep identifiers reasonably short for code readability.\n",
    "\n",
    "**Q5. What is generator comprehension?**\n",
    "\n",
    "Generator comprehension is a concise way to create generators using a compact syntax similar to list comprehensions. It allows you to generate values on-the-fly without creating a full list in memory. Generator comprehensions are created using parentheses instead of square brackets and yield values lazily as they are needed. For example:\n",
    "```python\n",
    "squares = (x * x for x in range(10))  # This is a generator comprehension\n",
    "```"
   ]
  },
  {
   "cell_type": "code",
   "execution_count": null,
   "id": "9c571059",
   "metadata": {},
   "outputs": [],
   "source": []
  }
 ],
 "metadata": {
  "kernelspec": {
   "display_name": "Python 3 (ipykernel)",
   "language": "python",
   "name": "python3"
  },
  "language_info": {
   "codemirror_mode": {
    "name": "ipython",
    "version": 3
   },
   "file_extension": ".py",
   "mimetype": "text/x-python",
   "name": "python",
   "nbconvert_exporter": "python",
   "pygments_lexer": "ipython3",
   "version": "3.10.9"
  }
 },
 "nbformat": 4,
 "nbformat_minor": 5
}
