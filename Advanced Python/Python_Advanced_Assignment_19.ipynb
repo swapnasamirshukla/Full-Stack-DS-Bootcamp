{
 "cells": [
  {
   "cell_type": "markdown",
   "id": "a3dca61c",
   "metadata": {},
   "source": [
    "**Q1. Define the relationship between a class and its instances. Is it a one-to-one or a one-to-many partnership, for example?**\n",
    "\n",
    "The relationship between a class and its instances is a one-to-many relationship. A class is a blueprint or template that defines the structure and behavior of objects. Instances are individual objects created from the class blueprint, and you can create as many instances as needed.\n",
    "\n",
    "**Q2. What kind of data is held only in an instance?**\n",
    "\n",
    "Instance-specific data is held only in individual instances. This includes instance variables, which are unique to each object created from the class. Instance variables store object-specific state and characteristics.\n",
    "\n",
    "**Q3. What kind of knowledge is stored in a class?**\n",
    "\n",
    "A class stores shared knowledge and behavior that is common to all instances created from it. This includes class variables, which are shared among all instances of the class, and methods, which define the behavior that instances can perform.\n",
    "\n",
    "**Q4. What exactly is a method, and how is it different from a regular function?**\n",
    "\n",
    "A method is a function that is defined within a class and operates on instances of that class. It can access and manipulate the instance's data and state. The main difference between a method and a regular function is that methods are associated with a class and have access to the class's attributes.\n",
    "\n",
    "**Q5. Is inheritance supported in Python, and if so, what is the syntax?**\n",
    "\n",
    "Yes, inheritance is supported in Python. Inheritance allows a subclass to inherit attributes and methods from a superclass. The syntax for creating a subclass that inherits from a superclass is:\n",
    "```python\n",
    "class SubClassName(SuperClassName):\n",
    "    # Subclass definition\n",
    "```\n",
    "\n",
    "**Q6. How much encapsulation (making instance or class variables private) does Python support?**\n",
    "\n",
    "Python supports a level of encapsulation through naming conventions. By convention, variables and methods with a leading underscore (e.g., `_variable`) are considered \"protected\" and should not be accessed directly from outside the class. However, this is more of a guideline; actual access is still possible.\n",
    "\n",
    "**Q7. How do you distinguish between a class variable and an instance variable?**\n",
    "\n",
    "A class variable is shared among all instances of a class and is defined within the class but outside any methods. An instance variable is specific to each instance and is defined within the methods of the class using the `self` keyword.\n",
    "\n",
    "**Q8. When, if ever, can self be included in a class's method definitions?**\n",
    "\n",
    "The `self` parameter should be included in the method definitions of a class to allow methods to access instance-specific attributes and perform actions on the instance. It's a convention in Python to include `self` as the first parameter in instance methods.\n",
    "\n",
    "**Q9. What is the difference between the `__add__` and the `__radd__` methods?**\n",
    "\n",
    "The `__add__` method is used to define the behavior of the `+` operator when applied to an instance. The `__radd__` method is a reflected version that handles the case where the object on the right side of the `+` operator does not support the `+` operation.\n",
    "\n",
    "**Q10. When is it necessary to use a reflection method? When do you not need it, even though you support the operation in question?**\n",
    "\n",
    "Reflection methods, like `__radd__`, are necessary when the operation being performed involves an object that does not directly support the operation. If both objects support the operation, you might not need reflection methods.\n",
    "\n",
    "**Q11. What is the `__iadd__` method called?**\n",
    "\n",
    "The `__iadd__` method is called when the `+=` operator is used with an instance. It defines the in-place addition behavior.\n",
    "\n",
    "**Q12. Is the `__init__` method inherited by subclasses? What do you do if you need to customize its behavior within a subclass?**\n",
    "\n",
    "Yes, the `__init__` method is inherited by subclasses. If you need to customize its behavior within a subclass, you can override it in the subclass by defining a new `__init__` method. Make sure to call the superclass's `__init__` method using `super()` to ensure proper initialization."
   ]
  },
  {
   "cell_type": "code",
   "execution_count": null,
   "id": "a14f8ad5",
   "metadata": {},
   "outputs": [],
   "source": []
  }
 ],
 "metadata": {
  "kernelspec": {
   "display_name": "Python 3 (ipykernel)",
   "language": "python",
   "name": "python3"
  },
  "language_info": {
   "codemirror_mode": {
    "name": "ipython",
    "version": 3
   },
   "file_extension": ".py",
   "mimetype": "text/x-python",
   "name": "python",
   "nbconvert_exporter": "python",
   "pygments_lexer": "ipython3",
   "version": "3.10.9"
  }
 },
 "nbformat": 4,
 "nbformat_minor": 5
}
