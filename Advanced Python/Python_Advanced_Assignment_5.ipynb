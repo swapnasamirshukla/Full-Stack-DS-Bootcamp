{
 "cells": [
  {
   "cell_type": "markdown",
   "id": "7675945a",
   "metadata": {},
   "source": [
    "**Q1. What is the meaning of multiple inheritance?**\n",
    "\n",
    "Multiple inheritance refers to the ability of a programming language's class to inherit attributes and methods from more than one parent class. This means a subclass can inherit properties and behaviors from multiple superclasses. It's a powerful concept that allows you to create complex class hierarchies, but it can also lead to issues like the diamond problem if not managed properly.\n",
    "\n",
    "**Q2. What is the concept of delegation?**\n",
    "\n",
    "Delegation is a design principle in which an object (typically called the delegator) forwards a specific behavior or task to another object (the delegate) to handle. Instead of implementing the behavior itself, the delegator relies on the delegate to perform the action. This promotes code reuse and modular design by allowing objects to collaborate without tightly coupling their implementations.\n",
    "\n",
    "**Q3. What is the concept of composition?**\n",
    "\n",
    "Composition is a design principle that promotes building complex objects by combining simpler objects or components. It emphasizes creating relationships between objects where one object contains or is composed of other objects. This is in contrast to inheritance, where objects inherit from other objects. Composition allows for more flexible and dynamic relationships between components.\n",
    "\n",
    "**Q4. What are bound methods and how do we use them?**\n",
    "\n",
    "Bound methods are methods that are associated with a specific instance of a class. When you call a method on an instance, it's automatically passed as the first argument (`self`) to the method. This association is what makes a method \"bound.\" Bound methods are used to interact with and manipulate the attributes and behavior of specific instances of a class.\n",
    "\n",
    "**Q5. What is the purpose of pseudoprivate attributes?**\n",
    "\n",
    "Pseudoprivate attributes are attributes in a class that have names starting with double underscores (e.g., `__attribute`). They are not truly private but have name mangling applied by the interpreter. This means their names are altered to make them more unique and avoid accidental name clashes in subclasses. The purpose is to provide a level of name protection and prevent unintentional name conflicts between different classes. However, they are still accessible if you know their mangled names, so they are not a strict form of encapsulation."
   ]
  },
  {
   "cell_type": "code",
   "execution_count": null,
   "id": "869c7c8b",
   "metadata": {},
   "outputs": [],
   "source": []
  }
 ],
 "metadata": {
  "kernelspec": {
   "display_name": "Python 3 (ipykernel)",
   "language": "python",
   "name": "python3"
  },
  "language_info": {
   "codemirror_mode": {
    "name": "ipython",
    "version": 3
   },
   "file_extension": ".py",
   "mimetype": "text/x-python",
   "name": "python",
   "nbconvert_exporter": "python",
   "pygments_lexer": "ipython3",
   "version": "3.10.9"
  }
 },
 "nbformat": 4,
 "nbformat_minor": 5
}
