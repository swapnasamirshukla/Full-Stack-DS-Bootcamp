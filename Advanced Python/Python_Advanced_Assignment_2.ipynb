{
 "cells": [
  {
   "cell_type": "markdown",
   "id": "a17a9e50",
   "metadata": {},
   "source": [
    "**Q1. What is the relationship between classes and modules?**\n",
    "\n",
    "A class is a blueprint for creating objects with shared attributes and methods. A module is a file containing Python code, often including class definitions and other functions. Classes can be defined within modules or separately. Modules can contain multiple classes and other code.\n",
    "\n",
    "**Q2. How do you make instances and classes?**\n",
    "\n",
    "You create a class using the `class` keyword, defining its attributes and methods. Instances are created by calling the class as if it were a function.\n",
    "\n",
    "**Q3. Where and how should be class attributes created?**\n",
    "\n",
    "Class attributes are defined within the class body, outside of any methods. They are shared among all instances of the class. They are typically used for attributes that are common to all instances.\n",
    "\n",
    "**Q4. Where and how are instance attributes created?**\n",
    "\n",
    "Instance attributes are created within the class's methods, usually in the `__init__` constructor. They are specific to each instance and can have different values for each instance.\n",
    "\n",
    "**Q5. What does the term \"self\" in a Python class mean?**\n",
    "\n",
    "In a class method, the first parameter is conventionally named `self`. It refers to the instance of the class that the method is being called on. It allows you to access and modify instance attributes and call other instance methods.\n",
    "\n",
    "**Q6. How does a Python class handle operator overloading?**\n",
    "\n",
    "Python allows you to define special methods (often with double underscores) in your class to define how operators behave with instances of your class. For example, `__add__` method can be defined to overload the `+` operator for instances of the class.\n",
    "\n",
    "**Q7. When do you consider allowing operator overloading of your classes?**\n",
    "\n",
    "Operator overloading can make code more readable when the overloaded operators have a clear and intuitive meaning. It's best used when it adheres to common conventions (e.g., using `+` for addition). Overloading operators should make sense in the context of your class's purpose.\n",
    "\n",
    "**Q8. What is the most popular form of operator overloading?**\n",
    "\n",
    "The `__add__` method for overloading the `+` operator is quite common. This is often used to define how instances of a class can be combined using the `+` operator.\n",
    "\n",
    "**Q9. What are the two most important concepts to grasp in order to comprehend Python OOP code?**\n",
    "\n",
    "Two important concepts in Python OOP are:\n",
    "1. **Classes and Objects:** Understanding how to define classes, create instances, and work with attributes and methods.\n",
    "2. **Inheritance and Polymorphism:** Knowing how to create subclasses that inherit properties from parent classes and how polymorphism allows different classes to be treated as instances of a common base class."
   ]
  },
  {
   "cell_type": "code",
   "execution_count": null,
   "id": "3bfd9eee",
   "metadata": {},
   "outputs": [],
   "source": []
  }
 ],
 "metadata": {
  "kernelspec": {
   "display_name": "Python 3 (ipykernel)",
   "language": "python",
   "name": "python3"
  },
  "language_info": {
   "codemirror_mode": {
    "name": "ipython",
    "version": 3
   },
   "file_extension": ".py",
   "mimetype": "text/x-python",
   "name": "python",
   "nbconvert_exporter": "python",
   "pygments_lexer": "ipython3",
   "version": "3.10.9"
  }
 },
 "nbformat": 4,
 "nbformat_minor": 5
}
