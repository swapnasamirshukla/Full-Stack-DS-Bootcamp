{
 "cells": [
  {
   "cell_type": "markdown",
   "id": "50bfb577",
   "metadata": {},
   "source": [
    "**Q1. Describe three applications for exception processing:**\n",
    "\n",
    "1. **File Handling:** When reading or writing files, exceptions can be used to handle situations such as file not found, permissions issues, or unexpected end of file.\n",
    "2. **Networking:** When working with network connections, exceptions can handle scenarios like connection errors, timeouts, and lost connections.\n",
    "3. **User Input Validation:** Exceptions can be used to validate user input, such as converting strings to numbers, and handling errors when input is not in the expected format.\n",
    "\n",
    "**Q2. What happens if you don't do something extra to treat an exception?**\n",
    "\n",
    "If an exception is not explicitly handled in your code, it will propagate up the call stack until it reaches the nearest exception handler or, if not caught, it will cause the program to terminate, printing an error message that includes information about the exception and its traceback.\n",
    "\n",
    "**Q3. What are your options for recovering from an exception in your script?**\n",
    "\n",
    "Options for recovering from an exception include:\n",
    "1. **Catching and Handling:** Using a `try` block to catch exceptions and then executing code in an associated `except` block to handle the exception gracefully.\n",
    "2. **Finally Block:** Using a `finally` block to specify code that should be executed regardless of whether an exception was raised.\n",
    "3. **Retrying:** Catching exceptions and implementing a retry mechanism to attempt an operation again after an exception occurs.\n",
    "4. **Logging:** Capturing exceptions in logs for later analysis and debugging.\n",
    "\n",
    "**Q4. Describe two methods for triggering exceptions in your script:**\n",
    "\n",
    "1. **Explicit Raise:** You can manually raise an exception using the `raise` statement. For example, `raise ValueError(\"Invalid input\")` would raise a `ValueError` exception with the given message.\n",
    "2. **Index Error:** Accessing a list or other sequence with an invalid index will trigger an `IndexError` exception.\n",
    "\n",
    "**Q5. Identify two methods for specifying actions to be executed at termination time, regardless of whether or not an exception exists:**\n",
    "\n",
    "1. **Using a `finally` Block:** The `finally` block is used to define code that will be executed regardless of whether an exception was raised or not. It's commonly used to release resources like file handles or network connections.\n",
    "2. **Context Managers (`with` statement):** Context managers, often used with the `with` statement, allow you to specify actions to be taken before and after a block of code. These actions are guaranteed to be executed even if an exception occurs within the block."
   ]
  },
  {
   "cell_type": "code",
   "execution_count": null,
   "id": "05ad6361",
   "metadata": {},
   "outputs": [],
   "source": []
  }
 ],
 "metadata": {
  "kernelspec": {
   "display_name": "Python 3 (ipykernel)",
   "language": "python",
   "name": "python3"
  },
  "language_info": {
   "codemirror_mode": {
    "name": "ipython",
    "version": 3
   },
   "file_extension": ".py",
   "mimetype": "text/x-python",
   "name": "python",
   "nbconvert_exporter": "python",
   "pygments_lexer": "ipython3",
   "version": "3.10.9"
  }
 },
 "nbformat": 4,
 "nbformat_minor": 5
}
