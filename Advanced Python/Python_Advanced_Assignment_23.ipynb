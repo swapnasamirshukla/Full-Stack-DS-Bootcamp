{
 "cells": [
  {
   "cell_type": "markdown",
   "id": "01aa28f3",
   "metadata": {},
   "source": [
    "**Q1. If you have any, what are your choices for increasing the comparison between different figures on the same graph?**\n",
    "\n",
    "To increase the comparison between different figures on the same graph, you can consider using techniques such as adjusting the axis scales, using different colors or markers for each figure, adding labels and legends, and arranging the figures in different panels or subplots within the same graph.\n",
    "\n",
    "**Q2. Can you explain the benefit of compound interest over a higher rate of interest that does not compound after reading this chapter?**\n",
    "\n",
    "Compound interest is the interest calculated on both the initial principal and the accumulated interest from previous periods. The benefit of compound interest is that it allows your investment or savings to grow faster over time compared to simple interest (interest calculated only on the initial principal). Compound interest takes advantage of the compounding effect, resulting in exponential growth of your investment.\n",
    "\n",
    "**Q3. What is a histogram, exactly? Name a numpy method for creating such a graph.**\n",
    "\n",
    "A histogram is a graphical representation of the distribution of data points within specified intervals (bins). It displays the frequency or count of data points that fall into each bin. In numpy, you can use the method `numpy.histogram()` to create a histogram graph.\n",
    "\n",
    "**Q4. If necessary, how do you change the aspect ratios between the X and Y axes?**\n",
    "\n",
    "You can change the aspect ratios between the X and Y axes by setting the aspect ratio using the `aspect` parameter when plotting. For example, in Matplotlib, you can use `plt.gca().set_aspect('equal', adjustable='box')` to set the aspect ratio to be equal between the X and Y axes.\n",
    "\n",
    "**Q5. Compare and contrast the three types of array multiplication between two numpy arrays: dot product, outer product, and regular multiplication of two numpy arrays.**\n",
    "\n",
    "- **Dot Product:** It performs matrix multiplication for two-dimensional arrays and is calculated using `numpy.dot()` or the `@` operator. It results in a scalar or matrix depending on the dimensions.\n",
    "- **Outer Product:** It calculates the outer product of two vectors to create a matrix. It is achieved using `numpy.outer()`. It results in a matrix.\n",
    "- **Regular Multiplication:** It performs element-wise multiplication between corresponding elements of the two arrays. It is done using `numpy.multiply()` or the `*` operator. It results in an array of the same shape as the input arrays.\n",
    "\n",
    "**Q6. Before you buy a home, which numpy function will you use to measure your monthly mortgage payment?**\n",
    "\n",
    "You would likely use the `numpy.pmt()` function to calculate your monthly mortgage payment. It helps calculate the payment required to pay off a loan with a fixed interest rate and term.\n",
    "\n",
    "**Q7. Can string data be stored in numpy arrays? If so, list at least one restriction that applies to this data.**\n",
    "\n",
    "Yes, string data can be stored in numpy arrays. However, a restriction is that numpy arrays have a fixed size, and strings of different lengths may lead to inefficient memory usage. If you store strings of varying lengths, numpy might pad the shorter strings with spaces to ensure uniform sizes, leading to memory wastage."
   ]
  },
  {
   "cell_type": "code",
   "execution_count": null,
   "id": "ad338a69",
   "metadata": {},
   "outputs": [],
   "source": []
  }
 ],
 "metadata": {
  "kernelspec": {
   "display_name": "Python 3 (ipykernel)",
   "language": "python",
   "name": "python3"
  },
  "language_info": {
   "codemirror_mode": {
    "name": "ipython",
    "version": 3
   },
   "file_extension": ".py",
   "mimetype": "text/x-python",
   "name": "python",
   "nbconvert_exporter": "python",
   "pygments_lexer": "ipython3",
   "version": "3.10.9"
  }
 },
 "nbformat": 4,
 "nbformat_minor": 5
}
