{
 "cells": [
  {
   "cell_type": "markdown",
   "id": "03db403c",
   "metadata": {},
   "source": [
    "**Q1. What is the distinction between a numpy array and a pandas data frame? Is there a way to convert between the two if there is?**\n",
    "\n",
    "A numpy array is a fundamental data structure in the numpy library that represents a homogeneous, n-dimensional array of elements, often used for numerical computations. A pandas DataFrame, on the other hand, is a two-dimensional labeled data structure in the pandas library that can hold data of different types and can be thought of as a table.\n",
    "\n",
    "You can convert a numpy array to a pandas DataFrame using the `pandas.DataFrame()` constructor. Similarly, you can convert a pandas DataFrame to a numpy array using the `.values` attribute.\n",
    "\n",
    "**Q2. What can go wrong when a user enters a stock-ticker symbol, and how do you handle it?**\n",
    "\n",
    "When a user enters a stock-ticker symbol, potential issues include entering an incorrect or non-existent symbol, case sensitivity, and handling special characters or spaces. To handle this, you can implement input validation, use data from reliable sources to validate symbols, handle case-insensitive comparisons, and sanitize input to remove special characters and spaces.\n",
    "\n",
    "**Q3. Identify some of the plotting techniques that are used to produce a stock-market chart.**\n",
    "\n",
    "Some plotting techniques for stock-market charts include line charts for price trends, candlestick charts to visualize open, high, low, and close prices, moving average lines to smooth out trends, volume bars to show trading volume, and trend indicators like Bollinger Bands.\n",
    "\n",
    "**Q4. Why is it essential to print a legend on a stock market chart?**\n",
    "\n",
    "Printing a legend on a stock market chart is essential because it provides context for the various elements represented in the chart. It labels the lines, bars, or other visual elements with their corresponding meanings, helping viewers understand the data being presented.\n",
    "\n",
    "**Q5. What is the best way to limit the length of a pandas data frame to less than a year?**\n",
    "\n",
    "You can limit the length of a pandas DataFrame to less than a year by using slicing techniques based on the date index. For example, if your DataFrame has a date index named 'Date', you can select rows within a specific date range using: `df[start_date:end_date]`.\n",
    "\n",
    "**Q6. What is the definition of a 180-day moving average?**\n",
    "\n",
    "A 180-day moving average is a calculated value that represents the average of a stock's closing prices over the past 180 trading days. It's used to smooth out short-term fluctuations and highlight longer-term trends.\n",
    "\n",
    "**Q7. Did the chapter's final example use \"indirect\" importing? If so, how exactly do you do it?**\n",
    "\n",
    "Indirect importing in Python refers to importing a module using a variable. The question does not provide specific context about the chapter's final example, so it's difficult to determine if indirect importing was used. However, indirect importing is typically achieved using the `importlib` module's `import_module()` function. For example:\n",
    "```python\n",
    "import importlib\n",
    "module_name = \"module_to_import\"\n",
    "my_module = importlib.import_module(module_name)\n",
    "```"
   ]
  },
  {
   "cell_type": "code",
   "execution_count": null,
   "id": "bcc8ef98",
   "metadata": {},
   "outputs": [],
   "source": []
  }
 ],
 "metadata": {
  "kernelspec": {
   "display_name": "Python 3 (ipykernel)",
   "language": "python",
   "name": "python3"
  },
  "language_info": {
   "codemirror_mode": {
    "name": "ipython",
    "version": 3
   },
   "file_extension": ".py",
   "mimetype": "text/x-python",
   "name": "python",
   "nbconvert_exporter": "python",
   "pygments_lexer": "ipython3",
   "version": "3.10.9"
  }
 },
 "nbformat": 4,
 "nbformat_minor": 5
}
