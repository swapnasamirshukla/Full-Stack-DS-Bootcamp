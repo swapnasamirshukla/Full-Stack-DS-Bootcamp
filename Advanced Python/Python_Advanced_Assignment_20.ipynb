{
 "cells": [
  {
   "cell_type": "markdown",
   "id": "fe80f433",
   "metadata": {},
   "source": [
    "**Q1. Compare and contrast the float and Decimal classes' benefits and drawbacks.**\n",
    "\n",
    "- **Float:** Float is a built-in Python data type that represents floating-point numbers using the IEEE 754 double-precision format. It's efficient for most calculations but may not preserve exact decimal representations due to inherent binary approximation.\n",
    "- **Decimal:** Decimal is a class from the `decimal` module that provides arbitrary-precision decimal arithmetic. It's designed to accurately represent decimal numbers and is suitable for financial calculations and other contexts requiring exact decimal representation. However, it's generally slower and uses more memory than floats.\n",
    "\n",
    "**Q2. Decimal('1.200') and Decimal('1.2') are two objects to consider. In what sense are these the same object? Are these just two ways of representing the exact same value, or do they correspond to different internal states?**\n",
    "\n",
    "These two objects are not the same object; they are two separate instances of the `Decimal` class. They correspond to different internal states because `Decimal` objects are not compared based solely on their values. They also include information about the precision and context in which they were created.\n",
    "\n",
    "**Q3. What happens if the equality of Decimal('1.200') and Decimal('1.2') is checked?**\n",
    "\n",
    "The equality check between `Decimal('1.200')` and `Decimal('1.2')` will return `False` because the two `Decimal` objects have different internal states due to their different representations.\n",
    "\n",
    "**Q4. Why is it preferable to start a Decimal object with a string rather than a floating-point value?**\n",
    "\n",
    "Starting a `Decimal` object with a string ensures that the exact decimal value is preserved. Converting a floating-point value to a `Decimal` using its internal binary representation might lead to unexpected precision errors.\n",
    "\n",
    "**Q5. In an arithmetic phrase, how simple is it to combine Decimal objects with integers?**\n",
    "\n",
    "Combining `Decimal` objects with integers is straightforward and will produce accurate results without precision errors.\n",
    "\n",
    "**Q6. Can Decimal objects and floating-point values be combined easily?**\n",
    "\n",
    "While you can combine `Decimal` objects and floating-point values, the results might not be accurate due to the inherent approximation of floating-point numbers. It's generally recommended to convert floating-point values to `Decimal` objects before combining them.\n",
    "\n",
    "**Q7. Using the Fraction class but not the Decimal class, give an example of a quantity that can be expressed with absolute precision.**\n",
    "\n",
    "An example of a quantity that can be expressed with absolute precision using the `Fraction` class is `Fraction(1, 2)`. It represents the fraction 1/2 exactly.\n",
    "\n",
    "**Q8. Describe a quantity that can be accurately expressed by the Decimal or Fraction classes but not by a floating-point value.**\n",
    "\n",
    "A repeating decimal like `1/3` (0.3333...) can be accurately expressed using the `Decimal` or `Fraction` classes, but due to the binary approximation of floating-point numbers, it cannot be represented exactly as a floating-point value.\n",
    "\n",
    "**Q9. Consider the following two fraction objects: Fraction(1, 2) and Fraction(1, 2). (5, 10). Is the internal state of these two objects the same? Why do you think that is?**\n",
    "\n",
    "The internal state of these two `Fraction` objects is the same. The `Fraction` class automatically simplifies fractions to their lowest terms, so both `Fraction(1, 2)` and `Fraction(1, 2.5)` will have the same internal representation.\n",
    "\n",
    "**Q10. How do the Fraction class and the integer type (int) relate to each other? Containment or inheritance?**\n",
    "\n",
    "The `Fraction` class and the integer type (`int`) are related through inheritance. The `Fraction` class is a subclass of the `Rational` class, and both `int` and `Fraction` are subclasses of `Rational`. This means that `Fraction` objects have all the behavior of `int` objects, along with the additional capabilities for fractions."
   ]
  },
  {
   "cell_type": "code",
   "execution_count": null,
   "id": "0ae57030",
   "metadata": {},
   "outputs": [],
   "source": []
  }
 ],
 "metadata": {
  "kernelspec": {
   "display_name": "Python 3 (ipykernel)",
   "language": "python",
   "name": "python3"
  },
  "language_info": {
   "codemirror_mode": {
    "name": "ipython",
    "version": 3
   },
   "file_extension": ".py",
   "mimetype": "text/x-python",
   "name": "python",
   "nbconvert_exporter": "python",
   "pygments_lexer": "ipython3",
   "version": "3.10.9"
  }
 },
 "nbformat": 4,
 "nbformat_minor": 5
}
