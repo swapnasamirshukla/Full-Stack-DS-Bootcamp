{
 "cells": [
  {
   "cell_type": "markdown",
   "id": "5ead11c8",
   "metadata": {},
   "source": [
    "**Q1. What is the difference between `__getattr__` and `__getattribute__`?**\n",
    "\n",
    "- `__getattr__`: This method is called when an attribute that doesn't exist is accessed. It's a \"fallback\" method to dynamically create or fetch attributes that are not present.\n",
    "- `__getattribute__`: This method is called for every attribute access, whether the attribute exists or not. It's used to customize attribute access at a lower level and is more powerful but must be used with caution to avoid infinite recursion.\n",
    "\n",
    "**Q2. What is the difference between properties and descriptors?**\n",
    "\n",
    "- **Properties:** Properties are a built-in way to control access to instance attributes. They allow you to define custom behavior for attribute access and modification, while still using the syntax of regular attribute access.\n",
    "- **Descriptors:** Descriptors are a more general mechanism for attribute access control. They allow you to define how attribute access is handled by providing the `__get__`, `__set__`, and `__delete__` methods. Descriptors can be used for more advanced customization of attribute behavior.\n",
    "\n",
    "**Q3. What are the key differences in functionality between `__getattr__` and `__getattribute__`, as well as properties and descriptors?**\n",
    "\n",
    "- `__getattr__` vs. `__getattribute__`:\n",
    "  - `__getattr__` is called when the attribute doesn't exist.\n",
    "  - `__getattribute__` is called for all attribute accesses.\n",
    "- Properties vs. Descriptors:\n",
    "  - Properties are a higher-level, simpler way to control attribute access.\n",
    "  - Descriptors provide more fine-grained control and can affect multiple attributes.\n",
    "\n",
    "Remember that while properties and descriptors are more commonly used for attribute customization, `__getattr__` and `__getattribute__` should be used with care due to their potential to introduce unexpected behavior or even infinite loops."
   ]
  },
  {
   "cell_type": "code",
   "execution_count": null,
   "id": "a7640ceb",
   "metadata": {},
   "outputs": [],
   "source": []
  }
 ],
 "metadata": {
  "kernelspec": {
   "display_name": "Python 3 (ipykernel)",
   "language": "python",
   "name": "python3"
  },
  "language_info": {
   "codemirror_mode": {
    "name": "ipython",
    "version": 3
   },
   "file_extension": ".py",
   "mimetype": "text/x-python",
   "name": "python",
   "nbconvert_exporter": "python",
   "pygments_lexer": "ipython3",
   "version": "3.10.9"
  }
 },
 "nbformat": 4,
 "nbformat_minor": 5
}
