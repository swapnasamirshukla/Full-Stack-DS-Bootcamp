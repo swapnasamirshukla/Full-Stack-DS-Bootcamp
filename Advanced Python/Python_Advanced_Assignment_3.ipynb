{
 "cells": [
  {
   "cell_type": "markdown",
   "id": "85900f4f",
   "metadata": {},
   "source": [
    "**Q1. What is the concept of an abstract superclass?**\n",
    "\n",
    "An abstract superclass, often referred to as an abstract base class (ABC), is a class that is designed to be a blueprint for other classes but is not meant to be instantiated on its own. It serves as a template that defines a set of common methods and attributes that its subclasses should implement. Abstract superclasses can provide a structure and common functionality to subclasses while requiring them to provide specific implementations for certain methods.\n",
    "\n",
    "**Q2. What happens when a class statement's top level contains a basic assignment statement?**\n",
    "\n",
    "When a class statement's top level contains a basic assignment statement, it defines a class-level attribute. This attribute is shared among all instances of the class and can also be accessed using the class name itself. It's important to note that modifying the value of this class-level attribute will affect all instances of the class.\n",
    "\n",
    "**Q3. Why does a class need to manually call a superclass's __init__ method?**\n",
    "\n",
    "In object-oriented programming, when a subclass is created, it often needs to inherit the behavior and attributes of its superclass. By manually calling the superclass's `__init__` method within the subclass's `__init__` method, you ensure that the initialization code from the superclass is executed. This allows the subclass to properly initialize any inherited attributes and behavior from the superclass.\n",
    "\n",
    "**Q4. How can you augment, instead of completely replacing, an inherited method?**\n",
    "\n",
    "To augment (extend or modify) an inherited method without completely replacing it, you can override the method in the subclass and call the superclass's version of the method using the `super()` function. This allows you to add functionality to the method while still retaining the original behavior defined in the superclass.\n",
    "\n",
    "**Q5. How is the local scope of a class different from that of a function?**\n",
    "\n",
    "The local scope of a class and that of a function are conceptually similar but serve different purposes. In a class, the attributes and methods defined within the class are part of its local scope. These attributes and methods can be accessed and manipulated using the `self` parameter. In a function, the local scope refers to the variables defined within that function, which are only accessible within that function's context and not outside of it. Additionally, methods within a class can access class attributes and other methods, while functions do not have this inherent relationship unless they are nested within each other."
   ]
  },
  {
   "cell_type": "code",
   "execution_count": null,
   "id": "3b75d185",
   "metadata": {},
   "outputs": [],
   "source": []
  }
 ],
 "metadata": {
  "kernelspec": {
   "display_name": "Python 3 (ipykernel)",
   "language": "python",
   "name": "python3"
  },
  "language_info": {
   "codemirror_mode": {
    "name": "ipython",
    "version": 3
   },
   "file_extension": ".py",
   "mimetype": "text/x-python",
   "name": "python",
   "nbconvert_exporter": "python",
   "pygments_lexer": "ipython3",
   "version": "3.10.9"
  }
 },
 "nbformat": 4,
 "nbformat_minor": 5
}
