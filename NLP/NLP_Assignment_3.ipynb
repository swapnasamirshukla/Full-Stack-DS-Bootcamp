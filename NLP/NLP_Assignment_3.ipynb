{
 "cells": [
  {
   "cell_type": "markdown",
   "id": "4cd7e9ed",
   "metadata": {},
   "source": [
    "**1. Explain the basic architecture of RNN cell:**\n",
    "The basic architecture of a Recurrent Neural Network (RNN) cell consists of an input, a hidden state, and an output. The input and the hidden state are combined to produce the output, which is also fed back into the hidden state for the next time step. This enables RNNs to capture sequential dependencies in data. The hidden state at each time step acts as a memory that encodes information from previous time steps.\n",
    "\n",
    "**2. Explain Backpropagation through time (BPTT):**\n",
    "Backpropagation through time (BPTT) is a training algorithm for recurrent neural networks. It's an extension of the backpropagation algorithm used for feedforward neural networks. BPTT involves unfolding the recurrent network through time, treating it as a deep feedforward neural network with multiple copies of the network's architecture for each time step. The gradient of the loss with respect to the network's parameters is then computed through this unfolded structure, allowing for gradient-based optimization.\n",
    "\n",
    "**3. Explain Vanishing and exploding gradients:**\n",
    "Vanishing gradients occur when the gradients of the loss function become very small as they are backpropagated through layers of a deep neural network. This makes it difficult for the network to learn and update the earlier layers effectively. Exploding gradients, on the other hand, occur when gradients become extremely large, leading to unstable training and loss convergence. These issues can affect the training of deep networks, particularly RNNs.\n",
    "\n",
    "**4. Explain Long short-term memory (LSTM):**\n",
    "Long Short-Term Memory (LSTM) is a type of recurrent neural network cell designed to address the vanishing gradient problem and capture long-range dependencies in sequential data. LSTMs have three gates (input gate, forget gate, output gate) that regulate the flow of information within the cell. The memory cell within an LSTM can store and retrieve information over long sequences, making it particularly effective for tasks involving long-range dependencies.\n",
    "\n",
    "**5. Explain Gated recurrent unit (GRU):**\n",
    "Gated Recurrent Unit (GRU) is another type of recurrent neural network cell similar to LSTM, designed to capture long-range dependencies. GRUs combine the memory cell and hidden state into a single state vector. They have two gates (reset gate, update gate) that control information flow and state update. GRUs are computationally less complex than LSTMs and perform well in various sequence modeling tasks.\n",
    "\n",
    "**6. Explain Peephole LSTM:**\n",
    "Peephole LSTM is an extension of the standard LSTM architecture that allows the gates to consider the cell state directly when deciding how much information to let through. This helps the gates to better model long-range dependencies by incorporating information from the cell state. Peephole connections are added between the cell state and the input, forget, and output gates in an LSTM cell.\n",
    "\n",
    "**7. Bidirectional RNNs:**\n",
    "Bidirectional RNNs are a type of recurrent architecture that processes sequences in both forward and backward directions. This allows the network to capture information from both past and future context, enabling better understanding of the sequence. Bidirectional RNNs are commonly used in tasks where context from both directions is crucial, such as speech recognition and machine translation.\n",
    "\n",
    "**8. Explain the gates of LSTM with equations:**\n",
    "LSTM gates are defined as follows:\n",
    "- Input Gate (i_t): Controls how much new information should be stored in the cell state.\n",
    "- Forget Gate (f_t): Controls what information should be discarded from the cell state.\n",
    "- Output Gate (o_t): Controls how much information from the cell state should be used to compute the output.\n",
    "\n",
    "The equations for LSTM gates are:\n",
    "- Input Gate: `i_t = sigmoid(W_i * [h_(t-1), x_t] + b_i)`\n",
    "- Forget Gate: `f_t = sigmoid(W_f * [h_(t-1), x_t] + b_f)`\n",
    "- Output Gate: `o_t = sigmoid(W_o * [h_(t-1), x_t] + b_o)`\n",
    "\n",
    "**9. Explain BiLSTM:**\n",
    "Bidirectional Long Short-Term Memory (BiLSTM) is a variant of the LSTM architecture that combines the idea of bidirectional processing with LSTM cells. It processes the input sequence in both forward and backward directions using separate hidden states. This allows the network to capture context from both past and future, making it well-suited for tasks where complete sequence understanding is necessary.\n",
    "\n",
    "**10. Explain BiGRU:**\n",
    "Bidirectional Gated Recurrent Unit (BiGRU) is a variant of the GRU architecture that combines the concept of bidirectional processing with GRU cells. It processes the input sequence in both forward and backward directions using separate hidden states. BiGRU, similar to BiLSTM, can capture context from both past and future, enhancing its ability to capture sequence dependencies."
   ]
  },
  {
   "cell_type": "code",
   "execution_count": null,
   "id": "c28febf1",
   "metadata": {},
   "outputs": [],
   "source": []
  }
 ],
 "metadata": {
  "kernelspec": {
   "display_name": "Python 3 (ipykernel)",
   "language": "python",
   "name": "python3"
  },
  "language_info": {
   "codemirror_mode": {
    "name": "ipython",
    "version": 3
   },
   "file_extension": ".py",
   "mimetype": "text/x-python",
   "name": "python",
   "nbconvert_exporter": "python",
   "pygments_lexer": "ipython3",
   "version": "3.10.9"
  }
 },
 "nbformat": 4,
 "nbformat_minor": 5
}
