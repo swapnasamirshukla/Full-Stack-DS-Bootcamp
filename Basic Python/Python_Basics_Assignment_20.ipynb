{
 "cells": [
  {
   "cell_type": "markdown",
   "id": "7cf51595",
   "metadata": {},
   "source": [
    "**1. Set the variable test1 to the string 'This is a test of the emergency text system,' and save test1 to a file named test.txt.**"
   ]
  },
  {
   "cell_type": "code",
   "execution_count": 9,
   "id": "37e6ac62",
   "metadata": {},
   "outputs": [],
   "source": [
    "test1 = 'This is a test of the emergency text system,'\n",
    "with open('test.txt', 'w') as file:\n",
    "    file.write(test1)"
   ]
  },
  {
   "cell_type": "markdown",
   "id": "fb004810",
   "metadata": {},
   "source": [
    "**2. Read the contents of the file test.txt into the variable test2. Is there a difference between test 1 and test 2?**"
   ]
  },
  {
   "cell_type": "code",
   "execution_count": 10,
   "id": "38295b1c",
   "metadata": {},
   "outputs": [
    {
     "name": "stdout",
     "output_type": "stream",
     "text": [
      "True\n"
     ]
    }
   ],
   "source": [
    "with open('test.txt', 'r') as file:\n",
    "    test2 = file.read()\n",
    "\n",
    "difference = test1 == test2\n",
    "print(difference)  # This should print True if there is no difference, and False otherwise."
   ]
  },
  {
   "cell_type": "markdown",
   "id": "b5fa43a9",
   "metadata": {},
   "source": [
    "**3. Create a CSV file called books.csv by using these lines:**"
   ]
  },
  {
   "cell_type": "code",
   "execution_count": 11,
   "id": "75e614c7",
   "metadata": {},
   "outputs": [],
   "source": [
    "data = '''title,author,year\n",
    "The Weirdstone of Brisingamen,Alan Garner,1960\n",
    "Perdido Street Station,China Miéville,2000\n",
    "Thud!,Terry Pratchett,2005\n",
    "The Spellman Files,Lisa Lutz,2007\n",
    "Small Gods,Terry Pratchett,1992'''\n",
    "\n",
    "with open('books.csv', 'w') as file:\n",
    "    file.write(data)"
   ]
  },
  {
   "cell_type": "markdown",
   "id": "ee54b10e",
   "metadata": {},
   "source": [
    "**4. Use the sqlite3 module to create a SQLite database called books.db, and a table called books with these fields: title (text), author (text), and year (integer).**"
   ]
  },
  {
   "cell_type": "code",
   "execution_count": 13,
   "id": "af81052b",
   "metadata": {},
   "outputs": [],
   "source": [
    "import sqlite3\n",
    "\n",
    "connection = sqlite3.connect('books.db')\n",
    "cursor = connection.cursor()\n",
    "\n",
    "cursor.execute('''CREATE TABLE books\n",
    "                  (title TEXT, author TEXT, year INTEGER)''')\n",
    "connection.commit()\n",
    "connection.close()"
   ]
  },
  {
   "cell_type": "markdown",
   "id": "34b774c9",
   "metadata": {},
   "source": [
    "**5. Read books.csv and insert its data into the book table.**"
   ]
  },
  {
   "cell_type": "code",
   "execution_count": 14,
   "id": "ebc12d54",
   "metadata": {},
   "outputs": [],
   "source": [
    "import csv\n",
    "\n",
    "connection = sqlite3.connect('books.db')\n",
    "cursor = connection.cursor()\n",
    "\n",
    "with open('books.csv', 'r') as file:\n",
    "    csv_reader = csv.DictReader(file)\n",
    "    for row in csv_reader:\n",
    "        cursor.execute(\"INSERT INTO books VALUES (?, ?, ?)\", (row['title'], row['author'], row['year']))\n",
    "\n",
    "connection.commit()\n",
    "connection.close()"
   ]
  },
  {
   "cell_type": "markdown",
   "id": "266d6da4",
   "metadata": {},
   "source": [
    "**6. Select and print the title column from the book table in alphabetical order.**"
   ]
  },
  {
   "cell_type": "code",
   "execution_count": 15,
   "id": "c7e03313",
   "metadata": {},
   "outputs": [
    {
     "name": "stdout",
     "output_type": "stream",
     "text": [
      "Perdido Street Station\n",
      "Small Gods\n",
      "The Spellman Files\n",
      "The Weirdstone of Brisingamen\n",
      "Thud!\n"
     ]
    }
   ],
   "source": [
    "connection = sqlite3.connect('books.db')\n",
    "cursor = connection.cursor()\n",
    "\n",
    "cursor.execute(\"SELECT title FROM books ORDER BY title\")\n",
    "titles = cursor.fetchall()\n",
    "for title in titles:\n",
    "    print(title[0])\n",
    "\n",
    "connection.close()"
   ]
  },
  {
   "cell_type": "markdown",
   "id": "4e7899c5",
   "metadata": {},
   "source": [
    "**7. From the book table, select and print all columns in the order of publication.**"
   ]
  },
  {
   "cell_type": "code",
   "execution_count": 16,
   "id": "df10ea18",
   "metadata": {},
   "outputs": [
    {
     "name": "stdout",
     "output_type": "stream",
     "text": [
      "('The Weirdstone of Brisingamen', 'Alan Garner', 1960)\n",
      "('Small Gods', 'Terry Pratchett', 1992)\n",
      "('Perdido Street Station', 'China Miéville', 2000)\n",
      "('Thud!', 'Terry Pratchett', 2005)\n",
      "('The Spellman Files', 'Lisa Lutz', 2007)\n"
     ]
    }
   ],
   "source": [
    "connection = sqlite3.connect('books.db')\n",
    "cursor = connection.cursor()\n",
    "\n",
    "cursor.execute(\"SELECT * FROM books ORDER BY year\")\n",
    "rows = cursor.fetchall()\n",
    "for row in rows:\n",
    "    print(row)\n",
    "\n",
    "connection.close()"
   ]
  },
  {
   "cell_type": "markdown",
   "id": "f80fefb5",
   "metadata": {},
   "source": [
    "**8. Use the sqlalchemy module to connect to the sqlite3 database books.db that you just made in exercise 6.**"
   ]
  },
  {
   "cell_type": "code",
   "execution_count": 17,
   "id": "e1ff7760",
   "metadata": {},
   "outputs": [
    {
     "name": "stdout",
     "output_type": "stream",
     "text": [
      "('The Weirdstone of Brisingamen', 'Alan Garner', 1960)\n",
      "('Perdido Street Station', 'China Miéville', 2000)\n",
      "('Thud!', 'Terry Pratchett', 2005)\n",
      "('The Spellman Files', 'Lisa Lutz', 2007)\n",
      "('Small Gods', 'Terry Pratchett', 1992)\n"
     ]
    }
   ],
   "source": [
    "from sqlalchemy import create_engine\n",
    "\n",
    "engine = create_engine('sqlite:///books.db')\n",
    "connection = engine.connect()\n",
    "result = connection.execute(\"SELECT * FROM books\")\n",
    "for row in result:\n",
    "    print(row)\n",
    "\n",
    "connection.close()"
   ]
  },
  {
   "cell_type": "markdown",
   "id": "5822509d",
   "metadata": {},
   "source": [
    "**9. Install the Redis server and the Python redis library (pip install redis) on your computer. Create a Redis hash called test with the fields count (1) and name ('Fester Bestertester'). Print all the fields for test.**"
   ]
  },
  {
   "cell_type": "code",
   "execution_count": 22,
   "id": "82032e18",
   "metadata": {},
   "outputs": [
    {
     "name": "stdout",
     "output_type": "stream",
     "text": [
      "{b'count': b'1', b'name': b'Fester Bestertester'}\n"
     ]
    }
   ],
   "source": [
    "import redis\n",
    "\n",
    "client = redis.StrictRedis(host='localhost', port=6379, db=0)\n",
    "client.hset('test', 'count', 1)\n",
    "client.hset('test', 'name', 'Fester Bestertester')\n",
    "\n",
    "print(client.hgetall('test'))"
   ]
  },
  {
   "cell_type": "markdown",
   "id": "d58e62d3",
   "metadata": {},
   "source": [
    "**10. Increment the count field of test and print it.**"
   ]
  },
  {
   "cell_type": "code",
   "execution_count": 23,
   "id": "e1424502",
   "metadata": {},
   "outputs": [
    {
     "name": "stdout",
     "output_type": "stream",
     "text": [
      "b'2'\n"
     ]
    }
   ],
   "source": [
    "client.hincrby('test', 'count', 1)\n",
    "print(client.hget('test', 'count'))"
   ]
  },
  {
   "cell_type": "code",
   "execution_count": null,
   "id": "cd070cb9",
   "metadata": {},
   "outputs": [],
   "source": []
  }
 ],
 "metadata": {
  "kernelspec": {
   "display_name": "Python 3 (ipykernel)",
   "language": "python",
   "name": "python3"
  },
  "language_info": {
   "codemirror_mode": {
    "name": "ipython",
    "version": 3
   },
   "file_extension": ".py",
   "mimetype": "text/x-python",
   "name": "python",
   "nbconvert_exporter": "python",
   "pygments_lexer": "ipython3",
   "version": "3.10.9"
  }
 },
 "nbformat": 4,
 "nbformat_minor": 5
}
