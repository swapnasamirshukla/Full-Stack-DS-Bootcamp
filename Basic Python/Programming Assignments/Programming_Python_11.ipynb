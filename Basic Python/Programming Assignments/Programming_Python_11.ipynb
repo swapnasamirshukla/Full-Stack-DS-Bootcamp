{
 "cells": [
  {
   "cell_type": "markdown",
   "id": "c3cb89fe",
   "metadata": {
  },
  {
   "cell_type": "markdown",
   "id": "30c3cb69",
   "metadata": {},
   "source": [
    "**1. Write a Python program to find words which are greater than given length k?**"
   ]
  },
  {
   "cell_type": "code",
   "execution_count": 1,
   "id": "e82d23a5",
   "metadata": {},
   "outputs": [],
   "source": [
    "def greater_than_k(word,k):\n",
    "    '''Find words whose length is greater than k'''\n",
    "    if len(word) > k:\n",
    "        return \"len of {} is greater than {}\".format(word,k)\n",
    "    return \"len of {} is NOT greater than {}\".format(word,k)"
   ]
  },
  {
   "cell_type": "code",
   "execution_count": 2,
   "id": "41a032a6",
   "metadata": {},
   "outputs": [
    {
     "data": {
      "text/plain": [
       "'len of Samir is greater than 3'"
      ]
     },
     "execution_count": 2,
     "metadata": {},
     "output_type": "execute_result"
    }
   ],
   "source": [
    "greater_than_k(\"Samir\",3)"
   ]
  },
  {
   "cell_type": "code",
   "execution_count": 3,
   "id": "9e00ffcd",
   "metadata": {},
   "outputs": [
    {
     "data": {
      "text/plain": [
       "'len of Mr is NOT greater than 3'"
      ]
     },
     "execution_count": 3,
     "metadata": {},
     "output_type": "execute_result"
    }
   ],
   "source": [
    "greater_than_k(\"Mr\",3)"
   ]
  },
  {
   "cell_type": "markdown",
   "id": "349fd39f",
   "metadata": {},
   "source": [
    "**2. Write a Python program for removing i-th character from a string?**"
   ]
  },
  {
   "cell_type": "code",
   "execution_count": 4,
   "id": "39f93f8d",
   "metadata": {},
   "outputs": [],
   "source": [
    "def remove_ith_character(s, i):\n",
    "    \"\"\"Remove the i-th character from string s.\"\"\"\n",
    "    if i < 0 or i >= len(s):\n",
    "        print(\"Index out of range!\")\n",
    "        return s\n",
    "    return s[:i] + s[i+1:]"
   ]
  },
  {
   "cell_type": "code",
   "execution_count": 6,
   "id": "b8f60e3b",
   "metadata": {},
   "outputs": [
    {
     "name": "stdout",
     "output_type": "stream",
     "text": [
      "Original String: Samir Shukla\n",
      "String after removing 4-th character: Sami Shukla\n"
     ]
    }
   ],
   "source": [
    "string_input = \"Samir Shukla\"\n",
    "index_to_remove = 4\n",
    "print(\"Original String:\", string_input)\n",
    "print(\"String after removing {}-th character:\".format(index_to_remove), remove_ith_character(string_input, index_to_remove))"
   ]
  },
  {
   "cell_type": "markdown",
   "id": "1c08a68f",
   "metadata": {},
   "source": [
    "**3. Write a Python program to split and join a string?**"
   ]
  },
  {
   "cell_type": "code",
   "execution_count": 11,
   "id": "ff77a022",
   "metadata": {},
   "outputs": [],
   "source": [
    "def split_and_join(s, delimiter):\n",
    "    '''Split and join a string'''\n",
    "    split_string = s.split(delimiter) #Split by delimiter\n",
    "    joined_string = delimiter.join(split_string) #Join by delimiter\n",
    "    \n",
    "    return split_string,joined_string"
   ]
  },
  {
   "cell_type": "code",
   "execution_count": 12,
   "id": "8d953540",
   "metadata": {},
   "outputs": [
    {
     "data": {
      "text/plain": [
       "(['Samir', 'Shukla', 'attends', 'classes', 'in', 'iNeuron'],\n",
       " 'Samir Shukla attends classes in iNeuron')"
      ]
     },
     "execution_count": 12,
     "metadata": {},
     "output_type": "execute_result"
    }
   ],
   "source": [
    "split_and_join(\"Samir Shukla attends classes in iNeuron\",\" \")"
   ]
  },
  {
   "cell_type": "markdown",
   "id": "b767d180",
   "metadata": {},
   "source": [
    "**4.Write a Python to check if a given string is binary string or not?**"
   ]
  },
  {
   "cell_type": "code",
   "execution_count": 13,
   "id": "93f2450b",
   "metadata": {},
   "outputs": [
    {
     "name": "stdout",
     "output_type": "stream",
     "text": [
      "'10101010101' is a binary string.\n"
     ]
    }
   ],
   "source": [
    "def is_binary_string(s):\n",
    "    \"\"\"Check if the string s is a binary string.\"\"\"\n",
    "    return all(ch in ('0', '1') for ch in s)\n",
    "\n",
    "# Example\n",
    "string_input = \"10101010101\"\n",
    "if is_binary_string(string_input):\n",
    "    print(f\"'{string_input}' is a binary string.\")\n",
    "else:\n",
    "    print(f\"'{string_input}' is not a binary string.\")"
   ]
  },
  {
   "cell_type": "markdown",
   "id": "d64df28a",
   "metadata": {},
   "source": [
    "**5. Write a Python program to find uncommon words from two Strings?**"
   ]
  },
  {
   "cell_type": "code",
   "execution_count": 15,
   "id": "d530afc8",
   "metadata": {},
   "outputs": [
    {
     "name": "stdout",
     "output_type": "stream",
     "text": [
      "Uncommon words: ['is', 'of', 'an', 'in', 'studies', 'ambassador']\n"
     ]
    }
   ],
   "source": [
    "def uncommon_words(string1, string2):\n",
    "    \"\"\"Find uncommon words from two strings.\"\"\"\n",
    "    # Splitting the strings into words\n",
    "    words1 = string1.split()\n",
    "    words2 = string2.split()\n",
    "    \n",
    "    # Using sets to find the words that are unique to each string\n",
    "    uncommon_in_s1 = set(words1) - set(words2)\n",
    "    uncommon_in_s2 = set(words2) - set(words1)\n",
    "    \n",
    "    # Returning the union of the two sets to get all uncommon words\n",
    "    return list(uncommon_in_s1.union(uncommon_in_s2))\n",
    "\n",
    "# Example\n",
    "string1 = \"Samir Shukla studies in iNeuron\"\n",
    "string2 = \"Samir Shukla is an ambassador of iNeuron\"\n",
    "print(\"Uncommon words:\", uncommon_words(string1, string2))"
   ]
  },
  {
   "cell_type": "markdown",
   "id": "f7e8a0f5",
   "metadata": {},
   "source": [
    "**6. Write a Python to find all duplicate characters in string?**"
   ]
  },
  {
   "cell_type": "code",
   "execution_count": 16,
   "id": "18a202be",
   "metadata": {},
   "outputs": [
    {
     "name": "stdout",
     "output_type": "stream",
     "text": [
      "Duplicate characters: ['r', 'g', 'm']\n"
     ]
    }
   ],
   "source": [
    "def find_duplicate_characters(s):\n",
    "    \"\"\"Find all duplicate characters in a string.\"\"\"\n",
    "    # Creating an empty dictionary to hold character frequencies\n",
    "    freq = {}\n",
    "    \n",
    "    # Counting each character's occurrence in the string\n",
    "    for char in s:\n",
    "        if char in freq:\n",
    "            freq[char] += 1\n",
    "        else:\n",
    "            freq[char] = 1\n",
    "            \n",
    "    # Finding characters that appear more than once\n",
    "    duplicates = [char for char, count in freq.items() if count > 1]\n",
    "    return duplicates\n",
    "\n",
    "# Example\n",
    "string_input = \"programming\"\n",
    "print(\"Duplicate characters:\", find_duplicate_characters(string_input))"
   ]
  },
  {
   "cell_type": "markdown",
   "id": "263cdf68",
   "metadata": {},
   "source": [
    "**7. Write a Python Program to check if a string contains any special character?**"
   ]
  },
  {
   "cell_type": "code",
   "execution_count": 17,
   "id": "30fcc486",
   "metadata": {},
   "outputs": [
    {
     "name": "stdout",
     "output_type": "stream",
     "text": [
      "'Hello@World!' contains special characters.\n"
     ]
    }
   ],
   "source": [
    "import re\n",
    "\n",
    "def contains_special_characters(s):\n",
    "    \"\"\"Check if the string contains any special characters.\"\"\"\n",
    "    # Using regex to find any non-alphanumeric character except spaces\n",
    "    if re.search(r'[^a-zA-Z0-9\\s]', s):\n",
    "        return True\n",
    "    return False\n",
    "\n",
    "# Example\n",
    "string_input = \"Hello@World!\"\n",
    "if contains_special_characters(string_input):\n",
    "    print(f\"'{string_input}' contains special characters.\")\n",
    "else:\n",
    "    print(f\"'{string_input}' does not contain any special characters.\")"
   ]
  },
  {
   "cell_type": "code",
   "execution_count": null,
   "id": "7a94d91d",
   "metadata": {},
   "outputs": [],
   "source": []
  }
 ],
 "metadata": {
  "kernelspec": {
   "display_name": "Python 3 (ipykernel)",
   "language": "python",
   "name": "python3"
  },
  "language_info": {
   "codemirror_mode": {
    "name": "ipython",
    "version": 3
   },
   "file_extension": ".py",
   "mimetype": "text/x-python",
   "name": "python",
   "nbconvert_exporter": "python",
   "pygments_lexer": "ipython3",
   "version": "3.10.9"
  }
 },
 "nbformat": 4,
 "nbformat_minor": 5
}
