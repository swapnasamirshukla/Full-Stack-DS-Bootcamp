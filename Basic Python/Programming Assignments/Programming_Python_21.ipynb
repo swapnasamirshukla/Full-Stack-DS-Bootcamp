{
 "cells": [
  {
   "cell_type": "markdown",
   "id": "e1f2c699",
   "metadata": {},
   "source": [
    "**Question1: Write a function that takes a list and a number as arguments. Add the number to the end ofthe list, then remove the first element of the list. The function should then return the updated list.**\n",
    "\n",
    "Examples\n",
    "- next_in_line([5, 6, 7, 8, 9], 1) ➞ [6, 7, 8, 9, 1]\n",
    "- next_in_line([7, 6, 3, 23, 17], 10) ➞ [6, 3, 23, 17, 10]\n",
    "- next_in_line([1, 10, 20, 42 ], 6) ➞ [10, 20, 42, 6]\n",
    "- next_in_line([], 6) ➞ &quot;No list has been selected&quot;"
   ]
  },
  {
   "cell_type": "code",
   "execution_count": 16,
   "id": "99793858",
   "metadata": {},
   "outputs": [],
   "source": [
    "def next_in_line(lst, num):\n",
    "    # Check if the list is empty\n",
    "    if not lst:\n",
    "        return \"No list has been selected\"\n",
    "    \n",
    "    # Remove the first element from the list\n",
    "    lst.pop(0)\n",
    "    \n",
    "    # Add the number to the end of the list\n",
    "    lst.append(num)\n",
    "    \n",
    "    # Return the modified list\n",
    "    return lst"
   ]
  },
  {
   "cell_type": "code",
   "execution_count": 17,
   "id": "06408d97",
   "metadata": {},
   "outputs": [
    {
     "name": "stdout",
     "output_type": "stream",
     "text": [
      "[6, 7, 8, 9, 1]\n",
      "[6, 3, 23, 17, 10]\n",
      "[10, 20, 42, 6]\n",
      "No list has been selected\n"
     ]
    }
   ],
   "source": [
    "# Testing the function with provided examples\n",
    "print(next_in_line([5, 6, 7, 8, 9], 1))  # ➞ [6, 7, 8, 9, 1]\n",
    "print(next_in_line([7, 6, 3, 23, 17], 10))  # ➞ [6, 3, 23, 17, 10]\n",
    "print(next_in_line([1, 10, 20, 42 ], 6))  # ➞ [10, 20, 42, 6]\n",
    "print(next_in_line([], 6))  # ➞ \"No list has been selected\""
   ]
  },
  {
   "cell_type": "markdown",
   "id": "6b60ba96",
   "metadata": {},
   "source": [
    "**Question2 Create the function that takes a list of dictionaries and returns the sum of people&#39;s budgets.**\n",
    "\n",
    "Examples\n",
    "\n",
    "- get_budgets([\n",
    "{ &quot;name&quot;: &quot;John&quot;, &quot;age&quot;: 21, &quot;budget&quot;: 23000 },\n",
    "{ &quot;name&quot;: &quot;Steve&quot;, &quot;age&quot;: 32, &quot;budget&quot;: 40000 },\n",
    "{ &quot;name&quot;: &quot;Martin&quot;, &quot;age&quot;: 16, &quot;budget&quot;: 2700 }\n",
    "]) ➞ 65700\n",
    "\n",
    "- get_budgets([\n",
    "{ &quot;name&quot;: &quot;John&quot;, &quot;age&quot;: 21, &quot;budget&quot;: 29000 },\n",
    "{ &quot;name&quot;: &quot;Steve&quot;, &quot;age&quot;: 32, &quot;budget&quot;: 32000 },\n",
    "{ &quot;name&quot;: &quot;Martin&quot;, &quot;age&quot;: 16, &quot;budget&quot;: 1600 }\n",
    "]) ➞ 62600"
   ]
  },
  {
   "cell_type": "code",
   "execution_count": 18,
   "id": "5e5d42b5",
   "metadata": {},
   "outputs": [],
   "source": [
    "def get_budgets(dct_lst):\n",
    "    return sum([d['budget'] for d in dct_lst])"
   ]
  },
  {
   "cell_type": "code",
   "execution_count": 19,
   "id": "b7f0bc9a",
   "metadata": {},
   "outputs": [
    {
     "data": {
      "text/plain": [
       "65700"
      ]
     },
     "execution_count": 19,
     "metadata": {},
     "output_type": "execute_result"
    }
   ],
   "source": [
    "get_budgets([ { \"name\": \"John\", \"age\": 21, \"budget\": 23000 }, { \"name\": \"Steve\", \"age\": 32, \"budget\": 40000 }, { \"name\": \"Martin\", \"age\": 16, \"budget\": 2700 } ])"
   ]
  },
  {
   "cell_type": "code",
   "execution_count": 20,
   "id": "5386135e",
   "metadata": {},
   "outputs": [
    {
     "data": {
      "text/plain": [
       "62600"
      ]
     },
     "execution_count": 20,
     "metadata": {},
     "output_type": "execute_result"
    }
   ],
   "source": [
    "get_budgets([ { \"name\": \"John\", \"age\": 21, \"budget\": 29000 }, { \"name\": \"Steve\", \"age\": 32, \"budget\": 32000 }, { \"name\": \"Martin\", \"age\": 16, \"budget\": 1600 } ])"
   ]
  },
  {
   "cell_type": "markdown",
   "id": "caf6e52f",
   "metadata": {},
   "source": [
    "**Question3: Create a function that takes a string and returns a string with its letters in alphabetical order.**\n",
    "\n",
    "Examples\n",
    "- alphabet_soup(&quot;hello&quot;) ➞ &quot;ehllo&quot;\n",
    "- alphabet_soup(&quot;edabit&quot;) ➞ &quot;abdeit&quot;\n",
    "- alphabet_soup(&quot;hacker&quot;) ➞ &quot;acehkr&quot;\n",
    "- alphabet_soup(&quot;geek&quot;) ➞ &quot;eegk&quot;\n",
    "- alphabet_soup(&quot;javascript&quot;) ➞ &quot;aacijprstv&quot;"
   ]
  },
  {
   "cell_type": "code",
   "execution_count": 32,
   "id": "9f13ae63",
   "metadata": {},
   "outputs": [],
   "source": [
    "def alphabet_soup(str1):\n",
    "    return ''.join(sorted(list(str1)))"
   ]
  },
  {
   "cell_type": "code",
   "execution_count": 35,
   "id": "70de0e21",
   "metadata": {},
   "outputs": [
    {
     "name": "stdout",
     "output_type": "stream",
     "text": [
      "ehllo\n",
      "abdeit\n",
      "acehkr\n",
      "eegk\n",
      "aacijprstv\n"
     ]
    }
   ],
   "source": [
    "print(alphabet_soup('hello'))\n",
    "print(alphabet_soup(\"edabit\"))\n",
    "print(alphabet_soup(\"hacker\"))\n",
    "print(alphabet_soup(\"geek\"))\n",
    "print(alphabet_soup(\"javascript\"))"
   ]
  },
  {
   "cell_type": "markdown",
   "id": "8b034c53",
   "metadata": {},
   "source": [
    "**Question4 : Suppose that you invest $10,000 for 10 years at an interest rate of 6% compounded monthly. What will be the value of your investment at the end of the 10 year period? Create a function that accepts the principal p, the term in years t, the interest rate r, and the number of compounding periods per year n. The function returns the value at the end of term rounded to the nearest cent.**\n",
    "\n",
    "For the example above: compound_interest(10000, 10, 0.06, 12) ➞ 18193.97\n",
    "\n",
    "Note that the interest rate is given as a decimal and n=12 because with monthly compounding there are 12 periods per year. Compounding can also be done annually, quarterly, weekly, or daily.\n",
    "\n",
    "Examples\n",
    "\n",
    "- compound_interest(100, 1, 0.05, 1) ➞ 105.0\n",
    "- compound_interest(3500, 15, 0.1, 4) ➞ 15399.26\n",
    "- compound_interest(100000, 20, 0.15, 365) ➞ 2007316.26"
   ]
  },
  {
   "cell_type": "code",
   "execution_count": 36,
   "id": "71e70da6",
   "metadata": {},
   "outputs": [
    {
     "data": {
      "text/plain": [
       "(18193.97, 105.0, 15399.26, 2007316.26)"
      ]
     },
     "execution_count": 36,
     "metadata": {},
     "output_type": "execute_result"
    }
   ],
   "source": [
    "def compound_interest(principal, years, rate, periods):\n",
    "    # Calculate compound interest\n",
    "    amount = principal * ((1 + (rate / periods)) ** (periods * years))\n",
    "    # Round to the nearest cent\n",
    "    return round(amount, 2)\n",
    "\n",
    "# Test the function with the provided examples\n",
    "test1 = compound_interest(10000, 10, 0.06, 12)  # Example scenario\n",
    "test2 = compound_interest(100, 1, 0.05, 1)     # Additional examples\n",
    "test3 = compound_interest(3500, 15, 0.1, 4)\n",
    "test4 = compound_interest(100000, 20, 0.15, 365)\n",
    "\n",
    "test1, test2, test3, test4"
   ]
  },
  {
   "cell_type": "markdown",
   "id": "3333f8cc",
   "metadata": {},
   "source": [
    "**Question5 : Write a function that takes a list of elements and returns only the integers.**\n",
    "\n",
    "Examples\n",
    "- return_only_integer([9, 2, &quot;space&quot;, &quot;car&quot;, &quot;lion&quot;, 16]) ➞ [9, 2, 16]\n",
    "- return_only_integer([&quot;hello&quot;, 81, &quot;basketball&quot;, 123, &quot;fox&quot;]) ➞ [81, 123]\n",
    "- return_only_integer([10, &quot;121&quot;, 56, 20, &quot;car&quot;, 3, &quot;lion&quot;]) ➞ [10, 56, 20,\n",
    "3]\n",
    "- return_only_integer([&quot;String&quot;, True, 3.3, 1]) ➞ [1]"
   ]
  },
  {
   "cell_type": "code",
   "execution_count": 47,
   "id": "eae9e335",
   "metadata": {},
   "outputs": [],
   "source": [
    "def return_only_integer(lst):\n",
    "    # This will hold the integers\n",
    "    int_list = []\n",
    "    \n",
    "    # Iterate over each item in the input list\n",
    "    for item in lst:\n",
    "        # Check if the current item is an integer\n",
    "        if type(item) is int:\n",
    "            # If so, append it to our list of integers\n",
    "            int_list.append(item)\n",
    "    \n",
    "    # Return the list of integers\n",
    "    return int_list"
   ]
  },
  {
   "cell_type": "code",
   "execution_count": 48,
   "id": "947763ad",
   "metadata": {},
   "outputs": [
    {
     "name": "stdout",
     "output_type": "stream",
     "text": [
      "[9, 2, 16]\n",
      "[81, 123]\n",
      "[10, 56, 20, 3]\n",
      "[1]\n"
     ]
    }
   ],
   "source": [
    "print(return_only_integer([9, 2, \"space\", \"car\", \"lion\", 16]))\n",
    "print(return_only_integer([\"hello\", 81, \"basketball\", 123, \"fox\"]))\n",
    "print(return_only_integer([10, \"121\", 56, 20, \"car\", 3, \"lion\"]))\n",
    "print(return_only_integer([\"String\", True, 3.3, 1]))"
   ]
  },
  {
   "cell_type": "code",
   "execution_count": null,
   "id": "86adbe95",
   "metadata": {},
   "outputs": [],
   "source": []
  }
 ],
 "metadata": {
  "kernelspec": {
   "display_name": "Python 3 (ipykernel)",
   "language": "python",
   "name": "python3"
  },
  "language_info": {
   "codemirror_mode": {
    "name": "ipython",
    "version": 3
   },
   "file_extension": ".py",
   "mimetype": "text/x-python",
   "name": "python",
   "nbconvert_exporter": "python",
   "pygments_lexer": "ipython3",
   "version": "3.10.9"
  }
 },
 "nbformat": 4,
 "nbformat_minor": 5
}
