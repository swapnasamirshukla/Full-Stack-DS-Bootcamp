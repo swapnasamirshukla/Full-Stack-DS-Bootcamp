{
 "cells": [
  {
   "cell_type": "markdown",
   "id": "51961f08",
   "metadata": {},
   "source": [
    "**Question1: Create a function that takes an integer and returns a list from 1 to the given number, where:**\n",
    "\n",
    "1. If the number can be divided evenly by 4, amplify it by 10 (i.e. return 10 times the\n",
    "number).\n",
    "2. If the number cannot be divided evenly by 4, simply return the number.\n",
    "\n",
    "Examples\n",
    "- amplify(4) ➞ [1, 2, 3, 40]\n",
    "- amplify(3) ➞ [1, 2, 3]\n",
    "- amplify(25) ➞ [1, 2, 3, 40, 5, 6, 7, 80, 9, 10, 11, 120, 13, 14, 15, 160, 17, 18, 19, 200, 21, 22, 23, 240, 25]\n",
    "\n",
    "Notes\n",
    " The given integer will always be equal to or greater than 1.\n",
    "\n",
    " Include the number (see example above).\n",
    "\n",
    " To perform this problem with its intended purpose, try doing it with list comprehensions. \n",
    "If that&#39;s too difficult, just solve the challenge any way you can."
   ]
  },
  {
   "cell_type": "code",
   "execution_count": 7,
   "id": "29dfdcea",
   "metadata": {},
   "outputs": [],
   "source": [
    "def amplify(num):\n",
    "    return [x*10 if x%4==0 else x for x in range(1,num+1)]"
   ]
  },
  {
   "cell_type": "code",
   "execution_count": 8,
   "id": "7b1f9aea",
   "metadata": {},
   "outputs": [
    {
     "data": {
      "text/plain": [
       "[1, 2, 3, 40]"
      ]
     },
     "execution_count": 8,
     "metadata": {},
     "output_type": "execute_result"
    }
   ],
   "source": [
    "amplify(4)"
   ]
  },
  {
   "cell_type": "code",
   "execution_count": 9,
   "id": "aadf21af",
   "metadata": {},
   "outputs": [
    {
     "data": {
      "text/plain": [
       "[1, 2, 3]"
      ]
     },
     "execution_count": 9,
     "metadata": {},
     "output_type": "execute_result"
    }
   ],
   "source": [
    "amplify(3)"
   ]
  },
  {
   "cell_type": "code",
   "execution_count": 10,
   "id": "40be7663",
   "metadata": {},
   "outputs": [
    {
     "data": {
      "text/plain": [
       "[1,\n",
       " 2,\n",
       " 3,\n",
       " 40,\n",
       " 5,\n",
       " 6,\n",
       " 7,\n",
       " 80,\n",
       " 9,\n",
       " 10,\n",
       " 11,\n",
       " 120,\n",
       " 13,\n",
       " 14,\n",
       " 15,\n",
       " 160,\n",
       " 17,\n",
       " 18,\n",
       " 19,\n",
       " 200,\n",
       " 21,\n",
       " 22,\n",
       " 23,\n",
       " 240,\n",
       " 25]"
      ]
     },
     "execution_count": 10,
     "metadata": {},
     "output_type": "execute_result"
    }
   ],
   "source": [
    "amplify(25)"
   ]
  },
  {
   "cell_type": "markdown",
   "id": "e46f1a52",
   "metadata": {},
   "source": [
    "**Question2 : Create a function that takes a list of numbers and return the number that&#39;s unique.**\n",
    "\n",
    "- Examples\n",
    "- unique([3, 3, 3, 7, 3, 3]) ➞ 7\n",
    "- unique([0, 0, 0.77, 0, 0]) ➞ 0.77\n",
    "- unique([0, 1, 1, 1, 1, 1, 1, 1]) ➞ 0"
   ]
  },
  {
   "cell_type": "code",
   "execution_count": 11,
   "id": "189cab5d",
   "metadata": {},
   "outputs": [
    {
     "data": {
      "text/plain": [
       "{'[3, 3, 3, 7, 3, 3]': 7,\n",
       " '[0, 0, 0.77, 0, 0]': 0.77,\n",
       " '[0, 1, 1, 1, 1, 1, 1, 1]': 0}"
      ]
     },
     "execution_count": 11,
     "metadata": {},
     "output_type": "execute_result"
    }
   ],
   "source": [
    "def unique(lst):\n",
    "    # Find the unique element by checking the count of each element in the list\n",
    "    for num in lst:\n",
    "        if lst.count(num) == 1:\n",
    "            return num\n",
    "\n",
    "# Test the function with the provided examples\n",
    "test_cases = [[3, 3, 3, 7, 3, 3], [0, 0, 0.77, 0, 0], [0, 1, 1, 1, 1, 1, 1, 1]]\n",
    "results = {str(case): unique(case) for case in test_cases}\n",
    "results"
   ]
  },
  {
   "cell_type": "markdown",
   "id": "9cd51761",
   "metadata": {},
   "source": [
    "**Question3: Your task is to create a Circle constructor that creates a circle with a radius provided by an argument. The circles constructed must have two getters getArea() (PIr^2) and\n",
    "getPerimeter() (2PI*r) which give both respective areas and perimeter (circumference).**\n",
    "\n",
    "For help with this class, I have provided you with a Rectangle constructor which you can use\n",
    "as a base example.\n",
    "\n",
    "Examples\n",
    "\n",
    "- circy = Circle(11)\n",
    "- circy.getArea()\n",
    "##### Should return 380.132711084365\n",
    "- circy = Circle(4.44)\n",
    "- circy.getPerimeter()\n",
    "##### Should return 27.897342763877365"
   ]
  },
  {
   "cell_type": "code",
   "execution_count": 13,
   "id": "74877391",
   "metadata": {},
   "outputs": [
    {
     "name": "stdout",
     "output_type": "stream",
     "text": [
      "380.1327110843649\n",
      "27.897342763877365\n"
     ]
    }
   ],
   "source": [
    "import math\n",
    "class Circle:\n",
    "    def __init__(self, radius):\n",
    "        self.radius = radius\n",
    "\n",
    "    def getArea(self):\n",
    "        # Area of a circle is πr^2\n",
    "        return 3.141592653589793 * self.radius * self.radius\n",
    "\n",
    "    def getPerimeter(self):\n",
    "        # Perimeter (Circumference) of a circle is 2πr\n",
    "        return 2 * math.pi * self.radius\n",
    "\n",
    "# Example Usage\n",
    "circy1 = Circle(11)\n",
    "print(circy1.getArea())  # Should return approximately 380.132711084365\n",
    "\n",
    "circy2 = Circle(4.44)\n",
    "print(circy2.getPerimeter())  # Should return approximately 27.897342763877365"
   ]
  },
  {
   "cell_type": "markdown",
   "id": "53e19fc4",
   "metadata": {},
   "source": [
    "**Question4 : Create a function that takes a list of strings and return a list, sorted from shortest to longest.**\n",
    "\n",
    "Examples\n",
    "\n",
    "- sort_by_length([&quot;Google&quot;, &quot;Apple&quot;, &quot;Microsoft&quot;])\n",
    "➞ [&quot;Apple&quot;, &quot;Google&quot;, &quot;Microsoft&quot;]\n",
    "- sort_by_length([&quot;Leonardo&quot;, &quot;Michelangelo&quot;, &quot;Raphael&quot;, &quot;Donatello&quot;])\n",
    "➞ [&quot;Raphael&quot;, &quot;Leonardo&quot;, &quot;Donatello&quot;, &quot;Michelangelo&quot;]\n",
    "- sort_by_length([&quot;Turing&quot;, &quot;Einstein&quot;, &quot;Jung&quot;])\n",
    "➞ [&quot;Jung&quot;, &quot;Turing&quot;, &quot;Einstein&quot;]\n",
    "\n",
    "Notes: All test cases contain lists with strings"
   ]
  },
  {
   "cell_type": "code",
   "execution_count": 14,
   "id": "53e4cca7",
   "metadata": {},
   "outputs": [
    {
     "name": "stdout",
     "output_type": "stream",
     "text": [
      "['Apple', 'Google', 'Microsoft']\n",
      "['Raphael', 'Leonardo', 'Donatello', 'Michelangelo']\n",
      "['Jung', 'Turing', 'Einstein']\n"
     ]
    }
   ],
   "source": [
    "def sort_by_length(lst):\n",
    "    # Sorting the list based on the length of its elements\n",
    "    return sorted(lst, key=len)\n",
    "\n",
    "# Example Usage\n",
    "print(sort_by_length([\"Google\", \"Apple\", \"Microsoft\"]))\n",
    "# ➞ [\"Apple\", \"Google\", \"Microsoft\"]\n",
    "\n",
    "print(sort_by_length([\"Leonardo\", \"Michelangelo\", \"Raphael\", \"Donatello\"]))\n",
    "# ➞ [\"Raphael\", \"Leonardo\", \"Donatello\", \"Michelangelo\"]\n",
    "\n",
    "print(sort_by_length([\"Turing\", \"Einstein\", \"Jung\"]))\n",
    "# ➞ [\"Jung\", \"Turing\", \"Einstein\"]"
   ]
  },
  {
   "cell_type": "markdown",
   "id": "093ff7c1",
   "metadata": {},
   "source": [
    "**Question5 : Create a function that validates whether three given integers form a Pythagorean triplet. The sum of the squares of the two smallest integers must equal the square of the largest number to\n",
    "be validated.**\n",
    "\n",
    "Examples\n",
    "\n",
    "- is_triplet(3, 4, 5) ➞ True\n",
    "-  3² + 4² = 25\n",
    "- 5² = 25\n",
    "- is_triplet(13, 5, 12) ➞ True\n",
    "- 5² + 12² = 169\n",
    "- 13² = 169\n",
    "- is_triplet(1, 2, 3) ➞ False\n",
    "- 1² + 2² = 5\n",
    "- 3² = 9\n",
    "\n",
    "Notes\n",
    "Numbers may not be given in a sorted order."
   ]
  },
  {
   "cell_type": "code",
   "execution_count": 18,
   "id": "74a309ee",
   "metadata": {},
   "outputs": [
    {
     "data": {
      "text/plain": [
       "(True, True, False)"
      ]
     },
     "execution_count": 18,
     "metadata": {},
     "output_type": "execute_result"
    }
   ],
   "source": [
    "def is_triplet(a, b, c):\n",
    "    # Sorting the numbers to identify the largest number\n",
    "    nums = sorted([a, b, c])\n",
    "    # Checking if the sum of the squares of the two smaller numbers equals the square of the largest number\n",
    "    return nums[0]**2 + nums[1]**2 == nums[2]**2\n",
    "\n",
    "# Testing the function with the provided examples\n",
    "example1 = is_triplet(3, 4, 5)\n",
    "example2 = is_triplet(13, 5, 12)\n",
    "example3 = is_triplet(1, 2, 3)\n",
    "\n",
    "example1, example2,example3"
   ]
  },
  {
   "cell_type": "code",
   "execution_count": null,
   "id": "0e0ea4a3",
   "metadata": {},
   "outputs": [],
   "source": []
  }
 ],
 "metadata": {
  "kernelspec": {
   "display_name": "Python 3 (ipykernel)",
   "language": "python",
   "name": "python3"
  },
  "language_info": {
   "codemirror_mode": {
    "name": "ipython",
    "version": 3
   },
   "file_extension": ".py",
   "mimetype": "text/x-python",
   "name": "python",
   "nbconvert_exporter": "python",
   "pygments_lexer": "ipython3",
   "version": "3.10.9"
  }
 },
 "nbformat": 4,
 "nbformat_minor": 5
}
