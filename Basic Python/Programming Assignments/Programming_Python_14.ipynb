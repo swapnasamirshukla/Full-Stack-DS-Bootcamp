{
 "cells": [
  {
   "cell_type": "markdown",
   "id": "561aa486",
   "metadata": {},
   "source": [
    "**Question 1: Define a class with a generator which can iterate the numbers, which are divisible by 7, between a given range 0 and n.**"
   ]
  },
  {
   "cell_type": "code",
   "execution_count": 1,
   "id": "ab993f66",
   "metadata": {},
   "outputs": [
    {
     "name": "stdout",
     "output_type": "stream",
     "text": [
      "0\n",
      "7\n",
      "14\n",
      "21\n",
      "28\n",
      "35\n",
      "42\n",
      "49\n"
     ]
    }
   ],
   "source": [
    "class DivisibleBySeven:\n",
    "    def __init__(self, n):\n",
    "        self.n = n\n",
    "\n",
    "    def generate(self):\n",
    "        for number in range(self.n + 1):\n",
    "            if number % 7 == 0:\n",
    "                yield number\n",
    "\n",
    "# Usage\n",
    "n = 50\n",
    "div_by_seven = DivisibleBySeven(n)\n",
    "for num in div_by_seven.generate():\n",
    "    print(num)"
   ]
  },
  {
   "cell_type": "markdown",
   "id": "e972fbb9",
   "metadata": {},
   "source": [
    "**Question 2: Write a program to compute the frequency of the words from the input. The output should output after sorting the key alphanumerically. Suppose the following input is supplied to the program:**\n",
    "\n",
    "New to Python or choosing between Python 2 and Python 3? Read Python 2 or Python 3.\n",
    "\n",
    "Then, the output should be:\n",
    "- 2:2\n",
    "- 3.:1\n",
    "- 3?:1\n",
    "- New:1\n",
    "- Python:5\n",
    "- Read:1\n",
    "- and:1\n",
    "- between:1\n",
    "- choosing:1\n",
    "- or:2\n",
    "- to:1"
   ]
  },
  {
   "cell_type": "code",
   "execution_count": 18,
   "id": "f24a9309",
   "metadata": {},
   "outputs": [
    {
     "name": "stdout",
     "output_type": "stream",
     "text": [
      "2:2\n",
      "3.:1\n",
      "3?:1\n",
      "New:1\n",
      "Python:5\n",
      "Read:1\n",
      "and:1\n",
      "between:1\n",
      "choosing:1\n",
      "or:2\n",
      "to:1\n"
     ]
    }
   ],
   "source": [
    "def word_frequency(text):\n",
    "    words = text.split()\n",
    "    frequency = {}\n",
    "\n",
    "    for word in words:\n",
    "        frequency[word] = frequency.get(word, 0) + 1\n",
    "    #print(frequency)\n",
    "\n",
    "    for word in sorted(frequency):\n",
    "        print(f\"{word}:{frequency[word]}\")\n",
    "\n",
    "# Example usage\n",
    "input_text = \"New to Python or choosing between Python 2 and Python 3? Read Python 2 or Python 3.\"\n",
    "word_frequency(input_text)"
   ]
  },
  {
   "cell_type": "markdown",
   "id": "cd68ac65",
   "metadata": {},
   "source": [
    "**Question 3:Define a class Person and its two child classes: Male and Female. All classes have a method &quot;getGender&quot; which can print &quot;Male&quot; for Male class and &quot;Female&quot; for Female class.**"
   ]
  },
  {
   "cell_type": "code",
   "execution_count": 19,
   "id": "48ed37b5",
   "metadata": {},
   "outputs": [
    {
     "name": "stdout",
     "output_type": "stream",
     "text": [
      "Male\n",
      "Female\n"
     ]
    }
   ],
   "source": [
    "class Person:\n",
    "    def getGender(self):\n",
    "        raise NotImplementedError(\"Subclass must implement abstract method\")\n",
    "\n",
    "class Male(Person):\n",
    "    def getGender(self):\n",
    "        return \"Male\"\n",
    "\n",
    "class Female(Person):\n",
    "    def getGender(self):\n",
    "        return \"Female\"\n",
    "\n",
    "# Example usage\n",
    "male = Male()\n",
    "print(male.getGender())  # Prints \"Male\"\n",
    "\n",
    "female = Female()\n",
    "print(female.getGender())  # Prints \"Female\""
   ]
  },
  {
   "cell_type": "markdown",
   "id": "cc65dfef",
   "metadata": {},
   "source": [
    "**Question 4:Please write a program to generate all sentences where subject is in [&quot;I&quot;, &quot;You&quot;] and\n",
    "verb is in [&quot;Play&quot;, &quot;Love&quot;] and the object is in [&quot;Hockey&quot;,&quot;Football&quot;].**"
   ]
  },
  {
   "cell_type": "code",
   "execution_count": 21,
   "id": "e105c32c",
   "metadata": {},
   "outputs": [
    {
     "name": "stdout",
     "output_type": "stream",
     "text": [
      "I Play Hockey\n",
      "I Play Football\n",
      "I Love Hockey\n",
      "I Love Football\n",
      "You Play Hockey\n",
      "You Play Football\n",
      "You Love Hockey\n",
      "You Love Football\n"
     ]
    }
   ],
   "source": [
    "subjects = [\"I\", \"You\"]\n",
    "verbs = [\"Play\", \"Love\"]\n",
    "objects = [\"Hockey\", \"Football\"]\n",
    "\n",
    "for subject in subjects:\n",
    "    for verb in verbs:\n",
    "        for obj in objects:\n",
    "            sentence = f\"{subject} {verb} {obj}\"\n",
    "            print(sentence)"
   ]
  },
  {
   "cell_type": "markdown",
   "id": "53cbd5b4",
   "metadata": {},
   "source": [
    "**Question 5:Please write a program to compress and decompress the string &quot;hello world!hello world!hello world!hello world!&quot;.**"
   ]
  },
  {
   "cell_type": "code",
   "execution_count": 22,
   "id": "8fc917bc",
   "metadata": {},
   "outputs": [
    {
     "name": "stdout",
     "output_type": "stream",
     "text": [
      "Compressed string: b'x\\x9c\\xcbH\\xcd\\xc9\\xc9W(\\xcf/\\xcaIQ\\xcc \\x82\\r\\x00\\xbd[\\x11\\xf5'\n",
      "Decompressed string: hello world!hello world!hello world!hello world!\n"
     ]
    }
   ],
   "source": [
    "import zlib\n",
    "\n",
    "def compress_string(input_string):\n",
    "    return zlib.compress(input_string.encode())\n",
    "\n",
    "def decompress_string(input_bytes):\n",
    "    return zlib.decompress(input_bytes).decode()\n",
    "\n",
    "# Original string\n",
    "original_string = \"hello world!hello world!hello world!hello world!\"\n",
    "\n",
    "# Compress the string\n",
    "compressed_string = compress_string(original_string)\n",
    "print(\"Compressed string:\", compressed_string)\n",
    "\n",
    "# Decompress the string\n",
    "decompressed_string = decompress_string(compressed_string)\n",
    "print(\"Decompressed string:\", decompressed_string)"
   ]
  },
  {
   "cell_type": "markdown",
   "id": "5645bc39",
   "metadata": {},
   "source": [
    "**Question 6:Please write a binary search function which searches an item in a sorted list. The function should return the index of element to be searched in the list.**"
   ]
  },
  {
   "cell_type": "code",
   "execution_count": 23,
   "id": "0bed0a82",
   "metadata": {},
   "outputs": [
    {
     "name": "stdout",
     "output_type": "stream",
     "text": [
      "1\n",
      "None\n"
     ]
    }
   ],
   "source": [
    "def binary_search(sorted_list, item):\n",
    "    low = 0\n",
    "    high = len(sorted_list) - 1\n",
    "\n",
    "    while low <= high:\n",
    "        mid = (low + high) // 2\n",
    "        guess = sorted_list[mid]\n",
    "\n",
    "        if guess == item:\n",
    "            return mid\n",
    "        if guess > item:\n",
    "            high = mid - 1\n",
    "        else:\n",
    "            low = mid + 1\n",
    "\n",
    "    return None  # Item not found\n",
    "\n",
    "# Example usage\n",
    "my_list = [1, 3, 5, 7, 9]\n",
    "print(binary_search(my_list, 3))  # Returns 1\n",
    "print(binary_search(my_list, -1)) # Returns None"
   ]
  },
  {
   "cell_type": "code",
   "execution_count": null,
   "id": "ff89c956",
   "metadata": {},
   "outputs": [],
   "source": []
  }
 ],
 "metadata": {
  "kernelspec": {
   "display_name": "Python 3 (ipykernel)",
   "language": "python",
   "name": "python3"
  },
  "language_info": {
   "codemirror_mode": {
    "name": "ipython",
    "version": 3
   },
   "file_extension": ".py",
   "mimetype": "text/x-python",
   "name": "python",
   "nbconvert_exporter": "python",
   "pygments_lexer": "ipython3",
   "version": "3.10.9"
  }
 },
 "nbformat": 4,
 "nbformat_minor": 5
}
