{
 "cells": [
  {
   "cell_type": "markdown",
   "id": "b6d1a2f6",
   "metadata": {},
   "source": [
    "**Question1: Create a function that takes a list of strings and integers, and filters out the list so that it\n",
    "returns a list of integers only.**\n",
    "\n",
    "Examples\n",
    "\n",
    "- filter_list([1, 2, 3, &quot;a&quot;, &quot;b&quot;, 4]) ➞ [1, 2, 3, 4]\n",
    "- filter_list([&quot;A&quot;, 0, &quot;Edabit&quot;, 1729, &quot;Python&quot;, &quot;1729&quot;]) ➞ [0, 1729]\n",
    "- filter_list([&quot;Nothing&quot;, &quot;here&quot;]) ➞ []"
   ]
  },
  {
   "cell_type": "code",
   "execution_count": 1,
   "id": "d6e6c9b9",
   "metadata": {},
   "outputs": [],
   "source": [
    "def filter_list(lst):\n",
    "    # Using list comprehension to filter out non-integers\n",
    "    return [item for item in lst if isinstance(item, int)]"
   ]
  },
  {
   "cell_type": "code",
   "execution_count": 2,
   "id": "560a202b",
   "metadata": {},
   "outputs": [
    {
     "name": "stdout",
     "output_type": "stream",
     "text": [
      "[1, 2, 3, 4]\n",
      "[0, 1729]\n",
      "[]\n"
     ]
    }
   ],
   "source": [
    "# Example usage:\n",
    "result1 = filter_list([1, 2, 3, \"a\", \"b\", 4])\n",
    "result2 = filter_list([\"A\", 0, \"Edabit\", 1729, \"Python\", \"1729\"])\n",
    "result3 = filter_list([\"Nothing\", \"here\"])\n",
    "\n",
    "print(result1)  # Expected: [1, 2, 3, 4]\n",
    "print(result2)  # Expected: [0, 1729]\n",
    "print(result3)  # Expected: []"
   ]
  },
  {
   "cell_type": "markdown",
   "id": "5921ed54",
   "metadata": {},
   "source": [
    "**Question2 : Given a list of numbers, create a function which returns the list but with each element&#39;s\n",
    "index in the list added to itself. This means you add 0 to the number at index 0, add 1 to the\n",
    "number at index 1, etc...**\n",
    "\n",
    "Examples\n",
    "- add_indexes([0, 0, 0, 0, 0]) ➞ [0, 1, 2, 3, 4]\n",
    "- add_indexes([1, 2, 3, 4, 5]) ➞ [1, 3, 5, 7, 9]\n",
    "- add_indexes([5, 4, 3, 2, 1]) ➞ [5, 5, 5, 5, 5]"
   ]
  },
  {
   "cell_type": "code",
   "execution_count": 3,
   "id": "cf081812",
   "metadata": {},
   "outputs": [],
   "source": [
    "def add_indexes(lst):\n",
    "    # Using list comprehension and enumerate for cleaner code and performance\n",
    "    return [item + index for index, item in enumerate(lst)]"
   ]
  },
  {
   "cell_type": "code",
   "execution_count": 4,
   "id": "4af9d0cf",
   "metadata": {},
   "outputs": [
    {
     "name": "stdout",
     "output_type": "stream",
     "text": [
      "[0, 1, 2, 3, 4]\n",
      "[1, 3, 5, 7, 9]\n",
      "[5, 5, 5, 5, 5]\n"
     ]
    }
   ],
   "source": [
    "# Example usage:\n",
    "result1 = add_indexes([0, 0, 0, 0, 0])\n",
    "result2 = add_indexes([1, 2, 3, 4, 5])\n",
    "result3 = add_indexes([5, 4, 3, 2, 1])\n",
    "\n",
    "print(result1)  # Expected: [0, 1, 2, 3, 4]\n",
    "print(result2)  # Expected: [1, 3, 5, 7, 9]\n",
    "print(result3)  # Expected: [5, 5, 5, 5, 5]"
   ]
  },
  {
   "cell_type": "markdown",
   "id": "8657654a",
   "metadata": {},
   "source": [
    "**Question3: Create a function that takes the height and radius of a cone as arguments and returns the volume of the cone rounded to the nearest hundredth.**"
   ]
  },
  {
   "cell_type": "code",
   "execution_count": 5,
   "id": "9125e6ec",
   "metadata": {},
   "outputs": [],
   "source": [
    "import math\n",
    "\n",
    "def cone_volume(h, r):\n",
    "    # Calculate the volume\n",
    "    volume = (1/3) * math.pi * r**2 * h\n",
    "    \n",
    "    # Round to the nearest hundredth\n",
    "    return round(volume, 2)"
   ]
  },
  {
   "cell_type": "code",
   "execution_count": 6,
   "id": "75d135a7",
   "metadata": {},
   "outputs": [
    {
     "name": "stdout",
     "output_type": "stream",
     "text": [
      "12.57\n"
     ]
    }
   ],
   "source": [
    "# Example usage:\n",
    "result = cone_volume(3, 2)\n",
    "print(result)  # This will display the volume of a cone with height 15 and radius 6.\n"
   ]
  },
  {
   "cell_type": "markdown",
   "id": "a0b27eb0",
   "metadata": {},
   "source": [
    "**Question4: This Triangular Number Sequence is generated from a pattern of dots that form a triangle.\n",
    "The first 5 numbers of the sequence, or dots, are:\n",
    "1, 3, 6, 10, 15\n",
    "This means that the first triangle has just one dot, the second one has three dots, the third one\n",
    "has 6 dots and so on.\n",
    "Write a function that gives the number of dots with its corresponding triangle number of the\n",
    "sequence.**\n",
    "\n",
    "Examples\n",
    "- triangle(1) ➞ 1\n",
    "- triangle(6) ➞ 21\n",
    "- triangle(215) ➞ 23220"
   ]
  },
  {
   "cell_type": "code",
   "execution_count": 7,
   "id": "4b9069ef",
   "metadata": {},
   "outputs": [],
   "source": [
    "def triangle(n):\n",
    "    # Calculate the nth triangular number\n",
    "    return n * (n + 1) // 2  # Using integer division to avoid floating point result"
   ]
  },
  {
   "cell_type": "code",
   "execution_count": 8,
   "id": "ab6f2eeb",
   "metadata": {},
   "outputs": [
    {
     "name": "stdout",
     "output_type": "stream",
     "text": [
      "21\n"
     ]
    }
   ],
   "source": [
    "# Example usage:\n",
    "result = triangle(6)  # Should return 21 because 1 + 2 + 3 + 4 + 5 + 6 = 21\n",
    "print(result)"
   ]
  },
  {
   "cell_type": "markdown",
   "id": "27ce82e1",
   "metadata": {},
   "source": [
    "**Question5:\n",
    "Create a function that takes a list of numbers between 1 and 10 (excluding one number) and\n",
    "returns the missing number.**\n",
    "\n",
    "Examples\n",
    "- missing_num([1, 2, 3, 4, 6, 7, 8, 9, 10]) ➞ 5\n",
    "- missing_num([7, 2, 3, 6, 5, 9, 1, 4, 8]) ➞ 10\n",
    "- missing_num([10, 5, 1, 2, 4, 6, 8, 3, 9]) ➞ 7"
   ]
  },
  {
   "cell_type": "code",
   "execution_count": 17,
   "id": "2fbad34b",
   "metadata": {},
   "outputs": [],
   "source": [
    "def missing_num(n):\n",
    "    # Calculate the nth triangular number\n",
    "    return [x for x in range(1,11) if x not in n][0]"
   ]
  },
  {
   "cell_type": "code",
   "execution_count": 18,
   "id": "798c040c",
   "metadata": {},
   "outputs": [
    {
     "name": "stdout",
     "output_type": "stream",
     "text": [
      "5\n",
      "10\n",
      "7\n"
     ]
    }
   ],
   "source": [
    "# Example usage:\n",
    "result = missing_num([1, 2, 3, 4, 6, 7, 8, 9, 10])\n",
    "print(result)\n",
    "result = missing_num([7, 2, 3, 6, 5, 9, 1, 4, 8])\n",
    "print(result)\n",
    "result = missing_num([10, 5, 1, 2, 4, 6, 8, 3, 9]) \n",
    "print(result)"
   ]
  },
  {
   "cell_type": "code",
   "execution_count": null,
   "id": "743dbc04",
   "metadata": {},
   "outputs": [],
   "source": []
  }
 ],
 "metadata": {
  "kernelspec": {
   "display_name": "Python 3 (ipykernel)",
   "language": "python",
   "name": "python3"
  },
  "language_info": {
   "codemirror_mode": {
    "name": "ipython",
    "version": 3
   },
   "file_extension": ".py",
   "mimetype": "text/x-python",
   "name": "python",
   "nbconvert_exporter": "python",
   "pygments_lexer": "ipython3",
   "version": "3.10.9"
  }
 },
 "nbformat": 4,
 "nbformat_minor": 5
}
