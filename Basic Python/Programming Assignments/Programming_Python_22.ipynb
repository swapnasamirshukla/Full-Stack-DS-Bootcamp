{
 "cells": [
  {
   "cell_type": "markdown",
   "id": "a8a34348",
   "metadata": {},
   "source": [
    "**Question1: Create a function that takes three parameters where:**\n",
    "- x is the start of the range (inclusive).\n",
    "- y is the end of the range (inclusive).\n",
    "- n is the divisor to be checked against.\n",
    "\n",
    "Return an ordered list with numbers in the range that are divisible by the third parameter n.\n",
    "Return an empty list if there are no numbers that are divisible by n.\n",
    "\n",
    "Examples\n",
    "- list_operation(1, 10, 3) ➞ [3, 6, 9]\n",
    "- list_operation(7, 9, 2) ➞ [8]\n",
    "- list_operation(15, 20, 7) ➞ []"
   ]
  },
  {
   "cell_type": "code",
   "execution_count": 1,
   "id": "46387df0",
   "metadata": {},
   "outputs": [
    {
     "name": "stdout",
     "output_type": "stream",
     "text": [
      "[3, 6, 9]\n",
      "[8]\n",
      "[]\n"
     ]
    }
   ],
   "source": [
    "def list_operation(x, y, n):\n",
    "    # Create a list of numbers in the range that are divisible by n\n",
    "    divisible_numbers = [number for number in range(x, y+1) if number % n == 0]\n",
    "    return divisible_numbers\n",
    "\n",
    "# Test the function with the provided examples\n",
    "print(list_operation(1, 10, 3))  # ➞ [3, 6, 9]\n",
    "print(list_operation(7, 9, 2))   # ➞ [8]\n",
    "print(list_operation(15, 20, 7)) # ➞ []"
   ]
  },
  {
   "cell_type": "markdown",
   "id": "2a0dbc7a",
   "metadata": {},
   "source": [
    "**Question2: Create a function that takes in two lists and returns True if the second list follows the first list\n",
    "by one element, and False otherwise. In other words, determine if the second list is the first list shifted to the right by 1.**\n",
    "\n",
    "Examples\n",
    "- simon_says([1, 2], [5, 1]) ➞ True\n",
    "- simon_says([1, 2], [5, 5]) ➞ False\n",
    "- simon_says([1, 2, 3, 4, 5], [0, 1, 2, 3, 4]) ➞ True\n",
    "- simon_says([1, 2, 3, 4, 5], [5, 5, 1, 2, 3]) ➞ False\n",
    "\n",
    "**Notes**\n",
    "- Both input lists will be of the same length, and will have a minimum length of 2.\n",
    "- The values of the 0-indexed element in the second list and the n-1th indexed element in the first list do not matter."
   ]
  },
  {
   "cell_type": "code",
   "execution_count": 5,
   "id": "14ee6bd6",
   "metadata": {},
   "outputs": [
    {
     "name": "stdout",
     "output_type": "stream",
     "text": [
      "True\n",
      "False\n",
      "True\n",
      "False\n"
     ]
    }
   ],
   "source": [
    "def simon_says(list1, list2):\n",
    "    # Check if all elements in list1 starting from index 0 to n-1\n",
    "    # are equal to all elements in list2 starting from index 1 to n\n",
    "    return list1[:-1] == list2[1:]\n",
    "\n",
    "# Example usage:\n",
    "print(simon_says([1, 2], [5, 1])) # True\n",
    "print(simon_says([1, 2], [5, 5])) # False\n",
    "print(simon_says([1, 2, 3, 4, 5], [0, 1, 2, 3, 4])) # True\n",
    "print(simon_says([1, 2, 3, 4, 5], [5, 5, 1, 2, 3])) # False"
   ]
  },
  {
   "cell_type": "markdown",
   "id": "fd56f39d",
   "metadata": {},
   "source": [
    "**Question3: A group of friends have decided to start a secret society. The name will be the first letter of\n",
    "each of their names, sorted in alphabetical order.\n",
    "Create a function that takes in a list of names and returns the name of the secret society.**\n",
    "\n",
    "Examples\n",
    "\n",
    "- society_name([&quot;Adam&quot;, &quot;Sarah&quot;, &quot;Malcolm&quot;]) ➞ &quot;AMS&quot;\n",
    "- society_name([&quot;Harry&quot;, &quot;Newt&quot;, &quot;Luna&quot;, &quot;Cho&quot;]) ➞ &quot;CHLN&quot;\n",
    "- society_name([&quot;Phoebe&quot;, &quot;Chandler&quot;, &quot;Rachel&quot;, &quot;Ross&quot;, &quot;Monica&quot;, &quot;Joey&quot;])"
   ]
  },
  {
   "cell_type": "code",
   "execution_count": 2,
   "id": "d5d09482",
   "metadata": {},
   "outputs": [
    {
     "name": "stdout",
     "output_type": "stream",
     "text": [
      "AMS\n",
      "CHLN\n",
      "CJMPRR\n"
     ]
    }
   ],
   "source": [
    "def society_name(names):\n",
    "    # Extract the first letter of each name and sort them alphabetically\n",
    "    society_name = ''.join(sorted(name[0] for name in names))\n",
    "    return society_name\n",
    "\n",
    "# Test the function with the provided examples\n",
    "print(society_name([\"Adam\", \"Sarah\", \"Malcolm\"]))  # ➞ \"AMS\"\n",
    "print(society_name([\"Harry\", \"Newt\", \"Luna\", \"Cho\"]))  # ➞ \"CHLN\"\n",
    "print(society_name([\"Phoebe\", \"Chandler\", \"Rachel\", \"Ross\", \"Monica\", \"Joey\"]))  # ➞ \"CJMPRR\"\n"
   ]
  },
  {
   "cell_type": "markdown",
   "id": "cf585abd",
   "metadata": {},
   "source": [
    "**Question4: An isogram is a word that has no duplicate letters. Create a function that takes a string and returns either True or False depending on whether or not it&#39;s an &quot;isogram&quot;.**\n",
    "\n",
    "Examples\n",
    "- is_isogram(&quot;Algorism&quot;) ➞ True\n",
    "- is_isogram(&quot;PasSword&quot;) ➞ False\n",
    "- is_isogram(&quot;Consecutive&quot;) ➞ False\n",
    "\n",
    "Notes\n",
    "- Ignore letter case (should not be case sensitive).\n",
    "- All test cases contain valid one word strings."
   ]
  },
  {
   "cell_type": "code",
   "execution_count": 3,
   "id": "8cb2dfe5",
   "metadata": {},
   "outputs": [
    {
     "name": "stdout",
     "output_type": "stream",
     "text": [
      "True\n",
      "False\n",
      "False\n"
     ]
    }
   ],
   "source": [
    "def is_isogram(txt):\n",
    "    # Normalize the string to lower case to make the check case-insensitive\n",
    "    txt = txt.lower()\n",
    "    # An isogram has no duplicate letters, so if the set of the text\n",
    "    # has the same length as the text itself, it's an isogram\n",
    "    return len(set(txt)) == len(txt)\n",
    "\n",
    "# Test the function with the provided examples\n",
    "print(is_isogram(\"Algorism\"))      # ➞ True\n",
    "print(is_isogram(\"PasSword\"))      # ➞ False\n",
    "print(is_isogram(\"Consecutive\"))   # ➞ False"
   ]
  },
  {
   "cell_type": "markdown",
   "id": "f89390fc",
   "metadata": {},
   "source": [
    "**Question5: Create a function that takes a string and returns True or False, depending on whether the characters are in order or not.**\n",
    "\n",
    "Examples\n",
    "- is_in_order(&quot;abc&quot;) ➞ True\n",
    "- is_in_order(&quot;edabit&quot;) ➞ False\n",
    "- is_in_order(&quot;123&quot;) ➞ True\n",
    "- is_in_order(&quot;xyzz&quot;) ➞ True\n",
    "\n",
    "Notes\n",
    "You don&#39;t have to handle empty strings."
   ]
  },
  {
   "cell_type": "code",
   "execution_count": 4,
   "id": "7d2632cf",
   "metadata": {},
   "outputs": [
    {
     "name": "stdout",
     "output_type": "stream",
     "text": [
      "True\n",
      "False\n",
      "True\n",
      "True\n"
     ]
    }
   ],
   "source": [
    "def is_in_order(s):\n",
    "    # Check if the string is equal to its sorted version\n",
    "    return s == ''.join(sorted(s))\n",
    "\n",
    "# Test the function with the provided examples\n",
    "print(is_in_order(\"abc\"))       # ➞ True\n",
    "print(is_in_order(\"edabit\"))    # ➞ False\n",
    "print(is_in_order(\"123\"))       # ➞ True\n",
    "print(is_in_order(\"xyzz\"))      # ➞ True"
   ]
  },
  {
   "cell_type": "code",
   "execution_count": null,
   "id": "56b41d89",
   "metadata": {},
   "outputs": [],
   "source": []
  }
 ],
 "metadata": {
  "kernelspec": {
   "display_name": "Python 3 (ipykernel)",
   "language": "python",
   "name": "python3"
  },
  "language_info": {
   "codemirror_mode": {
    "name": "ipython",
    "version": 3
   },
   "file_extension": ".py",
   "mimetype": "text/x-python",
   "name": "python",
   "nbconvert_exporter": "python",
   "pygments_lexer": "ipython3",
   "version": "3.10.9"
  }
 },
 "nbformat": 4,
 "nbformat_minor": 5
}
