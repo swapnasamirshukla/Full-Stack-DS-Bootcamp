{
 "cells": [
  {
   "cell_type": "markdown",
   "id": "0fe91403",
   "metadata": {},
   "source": [
    "**Question 1 Create a function that takes a list of non-negative integers and strings and return a new list without the strings.**\n",
    "\n",
    "Examples\n",
    "\n",
    "\n",
    "- filter_list([1, 2, &quot;a&quot;, &quot;b&quot;]) ➞ [1, 2]\n",
    "- filter_list([1, &quot;a&quot;, &quot;b&quot;, 0, 15]) ➞ [1, 0, 15]\n",
    "- filter_list([1, 2, &quot;aasf&quot;, &quot;1&quot;, &quot;123&quot;, 123]) ➞ [1, 2, 123]"
   ]
  },
  {
   "cell_type": "code",
   "execution_count": 21,
   "id": "baf91671",
   "metadata": {},
   "outputs": [
    {
     "name": "stdout",
     "output_type": "stream",
     "text": [
      "[1, 2]\n",
      "[1, 0, 15]\n",
      "[1, 2, 123]\n"
     ]
    }
   ],
   "source": [
    "def filter_list(lst):\n",
    "    return [i for i in lst if type(i) == int]\n",
    "\n",
    "# Testing the function with given examples\n",
    "print(filter_list([1, 2, \"a\", \"b\"]))           # ➞ [1, 2]\n",
    "print(filter_list([1, \"a\", \"b\", 0, 15]))      # ➞ [1, 0, 15]\n",
    "print(filter_list([1, 2, \"aasf\", \"1\", \"123\", 123]))  # ➞ [1, 2, 123]"
   ]
  },
  {
   "cell_type": "markdown",
   "id": "dee23c1d",
   "metadata": {},
   "source": [
    "**Question 2 : The &quot;Reverser&quot; takes a string as input and returns that string in reverse order, with the\n",
    "opposite case.**\n",
    "\n",
    "- Examples\n",
    "- reverse(&quot;Hello World&quot;) ➞ &quot;DLROw OLLEh&quot;\n",
    "- reverse(&quot;ReVeRsE&quot;) ➞ &quot;eSrEvEr&quot;\n",
    "- reverse(&quot;Radar&quot;) ➞ &quot;RADAr&quot;"
   ]
  },
  {
   "cell_type": "code",
   "execution_count": 31,
   "id": "5e801ac5",
   "metadata": {},
   "outputs": [
    {
     "name": "stdout",
     "output_type": "stream",
     "text": [
      "DLROw OLLEh\n",
      "eSrEvEr\n",
      "RADAr\n"
     ]
    }
   ],
   "source": [
    "def reverse(str1):\n",
    "    return ''.join([i.upper() if i.islower() else i.lower() for i in str1])[::-1]\n",
    "\n",
    "# Testing the function with given examples\n",
    "print(reverse(\"Hello World\")) # ➞ \"DLROw OLLEh\"\n",
    "print(reverse(\"ReVeRsE\")) # ➞ \"eSrEvEr\"\n",
    "print(reverse(\"Radar\")) # ➞ \"RADAr\""
   ]
  },
  {
   "cell_type": "markdown",
   "id": "9c769af8",
   "metadata": {},
   "source": [
    "**Question 3**\n",
    "\n",
    "You can assign variables from lists like this:\n",
    "```python\n",
    "lst = [1, 2, 3, 4, 5, 6]\n",
    "first = lst[0]\n",
    "middle = lst[1:-1]\n",
    "last = lst[-1]\n",
    "print(first)  # outputs 1\n",
    "print(middle)  # outputs [2, 3, 4, 5]\n",
    "print(last)    # outputs 6\n",
    "```\n",
    "With Python 3, you can assign variables from lists in a much more succinct way. Create variables `first`, `middle`, and `last` from the given list using destructuring assignment, where:\n",
    "\n",
    "- `first` ➞ 1\n",
    "- `middle` ➞ [2, 3, 4, 5]\n",
    "- `last` ➞ 6\n",
    "\n",
    "Your task is to unpack the list `writeyourcodehere` into three variables, being `first`, `middle`, and `last`, with `middle` being everything in between the first and last element. Then print all three variables.\n"
   ]
  },
  {
   "cell_type": "code",
   "execution_count": 32,
   "id": "58fe236f",
   "metadata": {},
   "outputs": [
    {
     "name": "stdout",
     "output_type": "stream",
     "text": [
      "1\n",
      "[2, 3, 4, 5]\n",
      "6\n"
     ]
    }
   ],
   "source": [
    "# Given list\n",
    "writeyourcodehere = [1, 2, 3, 4, 5, 6]\n",
    "\n",
    "# Unpack the list into variables\n",
    "first, *middle, last = writeyourcodehere\n",
    "\n",
    "# Print the variables\n",
    "print(first)   # Outputs: 1\n",
    "print(middle)  # Outputs: [2, 3, 4, 5]\n",
    "print(last)    # Outputs: 6\n"
   ]
  },
  {
   "cell_type": "markdown",
   "id": "450726cf",
   "metadata": {},
   "source": [
    "**Question 4 Write a function that calculates the factorial of a number recursively.**\n",
    "\n",
    "- Examples\n",
    "- factorial(5) ➞ 120\n",
    "- factorial(3) ➞ 6\n",
    "- factorial(1) ➞ 1\n",
    "- factorial(0) ➞ 1"
   ]
  },
  {
   "cell_type": "code",
   "execution_count": 33,
   "id": "f4a1025d",
   "metadata": {},
   "outputs": [],
   "source": [
    "def factorial(n):\n",
    "    if n == 0:\n",
    "        return 1\n",
    "    else:\n",
    "        return n * factorial(n-1)"
   ]
  },
  {
   "cell_type": "code",
   "execution_count": 34,
   "id": "f3fd0638",
   "metadata": {},
   "outputs": [
    {
     "name": "stdout",
     "output_type": "stream",
     "text": [
      "120\n",
      "6\n",
      "1\n",
      "1\n"
     ]
    }
   ],
   "source": [
    "print(factorial(5))  # ➞ 120\n",
    "print(factorial(3))  # ➞ 6\n",
    "print(factorial(1))  # ➞ 1\n",
    "print(factorial(0))  # ➞ 1"
   ]
  },
  {
   "cell_type": "markdown",
   "id": "bd45c53d",
   "metadata": {},
   "source": [
    "**Question 5 Write a function that moves all elements of one type to the end of the list.**\n",
    "\n",
    "Examples:\n",
    "- move_to_end([1, 3, 2, 4, 4, 1], 1) ➞ [3, 2, 4, 4, 1, 1] Move all the 1s to the end of the array.\n",
    "- move_to_end([7, 8, 9, 1, 2, 3, 4], 9) ➞ [7, 8, 1, 2, 3, 4, 9]\n",
    "- move_to_end([&quot;a&quot;, &quot;a&quot;, &quot;a&quot;, &quot;b&quot;], &quot;a&quot;) ➞ [&quot;b&quot;, &quot;a&quot;, &quot;a&quot;, &quot;a&quot;]"
   ]
  },
  {
   "cell_type": "code",
   "execution_count": 35,
   "id": "c3f1afac",
   "metadata": {},
   "outputs": [],
   "source": [
    "def move_to_end(lst, element):\n",
    "    return [x for x in lst if x != element] + [x for x in lst if x == element]"
   ]
  },
  {
   "cell_type": "code",
   "execution_count": 36,
   "id": "18d851b6",
   "metadata": {},
   "outputs": [
    {
     "name": "stdout",
     "output_type": "stream",
     "text": [
      "[3, 2, 4, 4, 1, 1]\n",
      "[7, 8, 1, 2, 3, 4, 9]\n",
      "['b', 'a', 'a', 'a']\n"
     ]
    }
   ],
   "source": [
    "print(move_to_end([1, 3, 2, 4, 4, 1], 1))      # ➞ [3, 2, 4, 4, 1, 1]\n",
    "print(move_to_end([7, 8, 9, 1, 2, 3, 4], 9))   # ➞ [7, 8, 1, 2, 3\n",
    "print(move_to_end([\"a\", \"a\", \"a\", \"b\"], \"a\"))  # ➞ [\"b\", \"a\", \"a\", \"a\"]"
   ]
  },
  {
   "cell_type": "code",
   "execution_count": null,
   "id": "63000689",
   "metadata": {},
   "outputs": [],
   "source": []
  }
 ],
 "metadata": {
  "kernelspec": {
   "display_name": "Python 3 (ipykernel)",
   "language": "python",
   "name": "python3"
  },
  "language_info": {
   "codemirror_mode": {
    "name": "ipython",
    "version": 3
   },
   "file_extension": ".py",
   "mimetype": "text/x-python",
   "name": "python",
   "nbconvert_exporter": "python",
   "pygments_lexer": "ipython3",
   "version": "3.10.9"
  }
 },
 "nbformat": 4,
 "nbformat_minor": 5
}
