{
 "cells": [
  {
   "cell_type": "markdown",
   "id": "0f6546f3",
   "metadata": {},
   "source": [
    "1. Write a Python Program to Add Two Matrices?\n",
    "2. Write a Python Program to Multiply Two Matrices?\n",
    "3. Write a Python Program to Transpose a Matrix?\n",
    "4. Write a Python Program to Sort Words in Alphabetic Order?\n",
    "5. Write a Python Program to Remove Punctuation From a String?"
   ]
  },
  {
   "cell_type": "code",
   "execution_count": 15,
   "id": "ba6682d5",
   "metadata": {},
   "outputs": [
    {
     "name": "stdout",
     "output_type": "stream",
     "text": [
      "The sum of the matrices is: [[10, 10, 10], [10, 10, 10], [10, 10, 10]]\n"
     ]
    }
   ],
   "source": [
    "def add_matrices(mat1, mat2):\n",
    "    result = []\n",
    "    for i in range(len(mat1)):\n",
    "        row = []\n",
    "        for j in range(len(mat1[0])):\n",
    "            row.append(mat1[i][j] + mat2[i][j])\n",
    "        result.append(row)\n",
    "    return result\n",
    "\n",
    "# Test the function\n",
    "mat1 = [[1, 2, 3], [4, 5, 6], [7, 8, 9]]\n",
    "mat2 = [[9, 8, 7], [6, 5, 4], [3, 2, 1]]\n",
    "result = add_matrices(mat1, mat2)\n",
    "print(\"The sum of the matrices is:\", result)\n"
   ]
  },
  {
   "cell_type": "code",
   "execution_count": 16,
   "id": "4dcfc069",
   "metadata": {},
   "outputs": [
    {
     "name": "stdout",
     "output_type": "stream",
     "text": [
      "The product of the matrices is: [[4, 4], [10, 8]]\n"
     ]
    }
   ],
   "source": [
    "def multiply_matrices(mat1, mat2):\n",
    "    result = []\n",
    "    for i in range(len(mat1)):\n",
    "        row = []\n",
    "        for j in range(len(mat2[0])):\n",
    "            val = 0\n",
    "            for k in range(len(mat1[0])):\n",
    "                val += mat1[i][k] * mat2[k][j]\n",
    "            row.append(val)\n",
    "        result.append(row)\n",
    "    return result\n",
    "\n",
    "# Test the function\n",
    "mat1 = [[1, 2], [3, 4]]\n",
    "mat2 = [[2, 0], [1, 2]]\n",
    "result = multiply_matrices(mat1, mat2)\n",
    "print(\"The product of the matrices is:\", result)\n"
   ]
  },
  {
   "cell_type": "code",
   "execution_count": 17,
   "id": "66ba0c0a",
   "metadata": {},
   "outputs": [
    {
     "name": "stdout",
     "output_type": "stream",
     "text": [
      "The transpose of the matrix is: [[1, 4], [2, 5], [3, 6]]\n"
     ]
    }
   ],
   "source": [
    "def transpose_matrix(mat):\n",
    "    result = []\n",
    "    for j in range(len(mat[0])):\n",
    "        row = []\n",
    "        for i in range(len(mat)):\n",
    "            row.append(mat[i][j])\n",
    "        result.append(row)\n",
    "    return result\n",
    "\n",
    "# Test the function\n",
    "mat = [[1, 2, 3], [4, 5, 6]]\n",
    "result = transpose_matrix(mat)\n",
    "print(\"The transpose of the matrix is:\", result)\n"
   ]
  },
  {
   "cell_type": "code",
   "execution_count": 18,
   "id": "f18a4a91",
   "metadata": {},
   "outputs": [
    {
     "name": "stdout",
     "output_type": "stream",
     "text": [
      "The sorted words are: a is language powerful python\n"
     ]
    }
   ],
   "source": [
    "def sort_words(string):\n",
    "    words = string.split()\n",
    "    words.sort()\n",
    "    return \" \".join(words)\n",
    "\n",
    "# Test the function\n",
    "text = \"python is a powerful language\"\n",
    "result = sort_words(text)\n",
    "print(\"The sorted words are:\", result)\n"
   ]
  },
  {
   "cell_type": "code",
   "execution_count": 19,
   "id": "8eb52d34",
   "metadata": {},
   "outputs": [
    {
     "name": "stdout",
     "output_type": "stream",
     "text": [
      "The text without punctuation is: Hello World This is a test\n"
     ]
    }
   ],
   "source": [
    "import string\n",
    "\n",
    "def remove_punctuation(input_string):\n",
    "    # Create a translation table\n",
    "    trans = str.maketrans('', '', string.punctuation)\n",
    "    \n",
    "    # Remove punctuation\n",
    "    return input_string.translate(trans)\n",
    "\n",
    "# Test the function\n",
    "text = \"Hello, World! This is a test.\"\n",
    "result = remove_punctuation(text)\n",
    "print(\"The text without punctuation is:\", result)\n"
   ]
  },
  {
   "cell_type": "code",
   "execution_count": null,
   "id": "a2ca92c2",
   "metadata": {},
   "outputs": [],
   "source": []
  }
 ],
 "metadata": {
  "kernelspec": {
   "display_name": "Python 3 (ipykernel)",
   "language": "python",
   "name": "python3"
  },
  "language_info": {
   "codemirror_mode": {
    "name": "ipython",
    "version": 3
   },
   "file_extension": ".py",
   "mimetype": "text/x-python",
   "name": "python",
   "nbconvert_exporter": "python",
   "pygments_lexer": "ipython3",
   "version": "3.10.9"
  }
 },
 "nbformat": 4,
 "nbformat_minor": 5
}
