{
 "cells": [
  {
   "cell_type": "markdown",
   "id": "9a7572db",
   "metadata": {},
   "source": [
    "**Question 1: Create a function that takes a number as an argument and returns True or False depending\n",
    "on whether the number is symmetrical or not. A number is symmetrical when it is the same as\n",
    "its reverse.**\n",
    "\n",
    "Examples\n",
    "- is_symmetrical(7227) ➞ True\n",
    "- is_symmetrical(12567) ➞ False\n",
    "- is_symmetrical(44444444) ➞ True\n",
    "- is_symmetrical(9939) ➞ False\n",
    "- is_symmetrical(1112111) ➞ True"
   ]
  },
  {
   "cell_type": "code",
   "execution_count": 1,
   "id": "983b1484",
   "metadata": {},
   "outputs": [],
   "source": [
    "def is_symmetrical(num):\n",
    "    return str(num)[::-1] == str(num)"
   ]
  },
  {
   "cell_type": "code",
   "execution_count": 5,
   "id": "4c193838",
   "metadata": {},
   "outputs": [
    {
     "name": "stdout",
     "output_type": "stream",
     "text": [
      "True\n",
      "False\n",
      "True\n",
      "False\n",
      "True\n"
     ]
    }
   ],
   "source": [
    "print(is_symmetrical(7227))\n",
    "print(is_symmetrical(12567))\n",
    "print(is_symmetrical(44444444))\n",
    "print(is_symmetrical(9939))\n",
    "print(is_symmetrical(1112111))"
   ]
  },
  {
   "cell_type": "markdown",
   "id": "543338eb",
   "metadata": {},
   "source": [
    "**Question 2: Given a string of numbers separated by a comma and space, return the product of the numbers.**\n",
    "\n",
    "Examples\n",
    "- multiply_nums(&quot;2, 3&quot;) ➞ 6\n",
    "- multiply_nums(&quot;1, 2, 3, 4&quot;) ➞ 24\n",
    "- multiply_nums(&quot;54, 75, 453, 0&quot;) ➞ 0\n",
    "- multiply_nums(&quot;10, -2&quot;) ➞ -20"
   ]
  },
  {
   "cell_type": "code",
   "execution_count": 12,
   "id": "334f1ae3",
   "metadata": {},
   "outputs": [],
   "source": [
    "from functools import reduce\n",
    "def multiply_nums(str_num):\n",
    "    str_list = str_num.split(\",\")\n",
    "    return reduce(lambda x,y:int(x)*int(y),str_list)"
   ]
  },
  {
   "cell_type": "code",
   "execution_count": 15,
   "id": "de41a60a",
   "metadata": {},
   "outputs": [
    {
     "name": "stdout",
     "output_type": "stream",
     "text": [
      "6\n",
      "24\n",
      "0\n",
      "-20\n"
     ]
    }
   ],
   "source": [
    "print(multiply_nums(\"2, 3\"))\n",
    "print(multiply_nums(\"1, 2, 3, 4\"))\n",
    "print(multiply_nums(\"54, 75, 453, 0\"))\n",
    "print(multiply_nums(\"10, -2\"))"
   ]
  },
  {
   "cell_type": "markdown",
   "id": "f9235baa",
   "metadata": {},
   "source": [
    "**Question 3: Create a function that squares every digit of a number.**\n",
    "\n",
    "Examples\n",
    "- square_digits(9119) ➞ 811181\n",
    "- square_digits(2483) ➞ 416649\n",
    "- square_digits(3212) ➞ 9414\n",
    "\n",
    "- Notes : The function receives an integer and must return an integer."
   ]
  },
  {
   "cell_type": "code",
   "execution_count": 17,
   "id": "f6d29fb6",
   "metadata": {},
   "outputs": [],
   "source": [
    "def square_digits(num):\n",
    "    # Convert the number to a string to easily iterate over each digit\n",
    "    str_num = str(num)\n",
    "    # Square each digit and join them together\n",
    "    squared_str = ''.join(str(int(digit)**2) for digit in str_num)\n",
    "    # Convert the result back to an integer\n",
    "    return int(squared_str)"
   ]
  },
  {
   "cell_type": "code",
   "execution_count": 18,
   "id": "f64c3c7d",
   "metadata": {},
   "outputs": [
    {
     "name": "stdout",
     "output_type": "stream",
     "text": [
      "811181\n",
      "416649\n",
      "9414\n"
     ]
    }
   ],
   "source": [
    "print(square_digits(9119))\n",
    "print(square_digits(2483))\n",
    "print(square_digits(3212))"
   ]
  },
  {
   "cell_type": "markdown",
   "id": "47ffed12",
   "metadata": {},
   "source": [
    "**Question 4: Create a function that sorts a list and removes all duplicate items from it.**\n",
    "\n",
    "Examples\n",
    "- setify([1, 3, 3, 5, 5]) ➞ [1, 3, 5]\n",
    "- setify([4, 4, 4, 4]) ➞ [4]\n",
    "- setify([5, 7, 8, 9, 10, 15]) ➞ [5, 7, 8, 9, 10, 15]\n",
    "- setify([3, 3, 3, 2, 1]) ➞ [1, 2, 3]"
   ]
  },
  {
   "cell_type": "code",
   "execution_count": 53,
   "id": "e72b09d8",
   "metadata": {},
   "outputs": [],
   "source": [
    "def setify(lst):\n",
    "    # Convert the list to a set to remove duplicates, then convert back to a sorted list\n",
    "    return sorted(set(lst))"
   ]
  },
  {
   "cell_type": "code",
   "execution_count": 54,
   "id": "eb766cc1",
   "metadata": {},
   "outputs": [
    {
     "name": "stdout",
     "output_type": "stream",
     "text": [
      "[1, 3, 5]\n"
     ]
    }
   ],
   "source": [
    "print(setify([1, 3, 3, 5, 5]))"
   ]
  },
  {
   "cell_type": "code",
   "execution_count": 55,
   "id": "3400b102",
   "metadata": {},
   "outputs": [
    {
     "data": {
      "text/plain": [
       "[1, 2, 3]"
      ]
     },
     "execution_count": 55,
     "metadata": {},
     "output_type": "execute_result"
    }
   ],
   "source": [
    "setify([3, 3, 3, 2, 1])"
   ]
  },
  {
   "cell_type": "code",
   "execution_count": 56,
   "id": "8cac7327",
   "metadata": {},
   "outputs": [
    {
     "data": {
      "text/plain": [
       "[4]"
      ]
     },
     "execution_count": 56,
     "metadata": {},
     "output_type": "execute_result"
    }
   ],
   "source": [
    "setify([4, 4, 4, 4])"
   ]
  },
  {
   "cell_type": "code",
   "execution_count": 57,
   "id": "7e9b26be",
   "metadata": {},
   "outputs": [
    {
     "data": {
      "text/plain": [
       "[5, 7, 8, 9, 10, 15]"
      ]
     },
     "execution_count": 57,
     "metadata": {},
     "output_type": "execute_result"
    }
   ],
   "source": [
    "setify([5, 7, 8, 9, 10, 15]) "
   ]
  },
  {
   "cell_type": "markdown",
   "id": "d85046ce",
   "metadata": {},
   "source": [
    "**Question 5 : Create a function that returns the mean of all digits.**\n",
    "\n",
    "Examples\n",
    "- mean(42) ➞ 3\n",
    "- mean(12345) ➞ 3\n",
    "- mean(666) ➞ 6"
   ]
  },
  {
   "cell_type": "code",
   "execution_count": 64,
   "id": "1e2c8508",
   "metadata": {},
   "outputs": [],
   "source": [
    "import numpy as np\n",
    "def mean(num):\n",
    "    # Convert the number to a string to easily iterate over each digit\n",
    "    str_num = str(num)\n",
    "    # Calculate the sum of the digits\n",
    "    int_list = list(map(int,str_num))\n",
    "    return int(np.mean(int_list))"
   ]
  },
  {
   "cell_type": "code",
   "execution_count": 65,
   "id": "c9bee90a",
   "metadata": {},
   "outputs": [
    {
     "data": {
      "text/plain": [
       "3"
      ]
     },
     "execution_count": 65,
     "metadata": {},
     "output_type": "execute_result"
    }
   ],
   "source": [
    "mean(42)"
   ]
  },
  {
   "cell_type": "code",
   "execution_count": 66,
   "id": "ba540cb6",
   "metadata": {},
   "outputs": [
    {
     "data": {
      "text/plain": [
       "3"
      ]
     },
     "execution_count": 66,
     "metadata": {},
     "output_type": "execute_result"
    }
   ],
   "source": [
    "mean(12345)"
   ]
  },
  {
   "cell_type": "code",
   "execution_count": 67,
   "id": "4f4ddd04",
   "metadata": {},
   "outputs": [
    {
     "data": {
      "text/plain": [
       "6"
      ]
     },
     "execution_count": 67,
     "metadata": {},
     "output_type": "execute_result"
    }
   ],
   "source": [
    "mean(666)"
   ]
  }
 ],
 "metadata": {
  "kernelspec": {
   "display_name": "Python 3 (ipykernel)",
   "language": "python",
   "name": "python3"
  },
  "language_info": {
   "codemirror_mode": {
    "name": "ipython",
    "version": 3
   },
   "file_extension": ".py",
   "mimetype": "text/x-python",
   "name": "python",
   "nbconvert_exporter": "python",
   "pygments_lexer": "ipython3",
   "version": "3.10.9"
  }
 },
 "nbformat": 4,
 "nbformat_minor": 5
}
