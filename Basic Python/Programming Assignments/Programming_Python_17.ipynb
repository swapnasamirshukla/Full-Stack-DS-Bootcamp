{
 "cells": [
  {
   "cell_type": "markdown",
   "id": "469441c6",
   "metadata": {},
   "source": [
    "**Question1. Create a function that takes three arguments a, b, c and returns the sum of the numbers that are evenly divided by c from the range a, b inclusive.**\n",
    "\n",
    "- Examples\n",
    "- evenly_divisible(1, 10, 20) ➞ 0\n",
    "#### No number between 1 and 10 can be evenly divided by 20.\n",
    "- evenly_divisible(1, 10, 2) ➞ 30\n",
    "#### 2 + 4 + 6 + 8 + 10 = 30\n",
    "- evenly_divisible(1, 10, 3) ➞ 18\n",
    "#### 3 + 6 + 9 = 18"
   ]
  },
  {
   "cell_type": "code",
   "execution_count": 1,
   "id": "e623ae2a",
   "metadata": {},
   "outputs": [
    {
     "name": "stdout",
     "output_type": "stream",
     "text": [
      "0\n",
      "30\n",
      "18\n"
     ]
    }
   ],
   "source": [
    "def evenly_divisible(a, b, c):\n",
    "    if c > b:\n",
    "        return 0\n",
    "    return sum(num for num in range(a, b+1) if num % c == 0)\n",
    "\n",
    "# Test the function with examples\n",
    "print(evenly_divisible(1, 10, 20))  # ➞ 0\n",
    "print(evenly_divisible(1, 10, 2))  # ➞ 30\n",
    "print(evenly_divisible(1, 10, 3))  # ➞ 18"
   ]
  },
  {
   "cell_type": "markdown",
   "id": "89662c98",
   "metadata": {},
   "source": [
    "**Question2. Create a function that returns True if a given inequality expression is correct and False otherwise.**\n",
    "\n",
    "- Examples\n",
    "- correct_signs(\"3 < 7< 11\") ➞ True\n",
    "- correct_signs(\"13 &gt; 44 &gt; 33 &gt; 1&quot;) ➞ False\n",
    "- correct_signs(&quot;1 &lt; 2 &lt; 6 &lt; 9 &gt; 3&quot;) ➞ True"
   ]
  },
  {
   "cell_type": "code",
   "execution_count": 3,
   "id": "09583d3d",
   "metadata": {},
   "outputs": [],
   "source": [
    "def correct_signs(str):\n",
    "    try:\n",
    "        if eval(str):\n",
    "            return True\n",
    "        else:\n",
    "            return False\n",
    "    except:\n",
    "        return \"Incorrect Input\""
   ]
  },
  {
   "cell_type": "code",
   "execution_count": 5,
   "id": "da70449c",
   "metadata": {},
   "outputs": [
    {
     "data": {
      "text/plain": [
       "True"
      ]
     },
     "execution_count": 5,
     "metadata": {},
     "output_type": "execute_result"
    }
   ],
   "source": [
    "correct_signs(\"3 <7< 11\")"
   ]
  },
  {
   "cell_type": "code",
   "execution_count": 6,
   "id": "30ee1abd",
   "metadata": {},
   "outputs": [
    {
     "data": {
      "text/plain": [
       "False"
      ]
     },
     "execution_count": 6,
     "metadata": {},
     "output_type": "execute_result"
    }
   ],
   "source": [
    "correct_signs(\"13 > 44 > 33 > 1\")"
   ]
  },
  {
   "cell_type": "code",
   "execution_count": 7,
   "id": "2d32a260",
   "metadata": {},
   "outputs": [
    {
     "data": {
      "text/plain": [
       "True"
      ]
     },
     "execution_count": 7,
     "metadata": {},
     "output_type": "execute_result"
    }
   ],
   "source": [
    "correct_signs(\"1 < 2 < 6 < 9 > 3\") "
   ]
  },
  {
   "cell_type": "markdown",
   "id": "78c90eff",
   "metadata": {},
   "source": [
    "**Question3. Create a function that replaces all the vowels in a string with a specified character.**\n",
    "\n",
    "- Examples\n",
    "- replace_vowels(&quot;the aardvark&quot;, &quot;#&quot;) ➞ &quot;th# ##rdv#rk&quot;\n",
    "- replace_vowels(&quot;minnie mouse&quot;, &quot;?&quot;) ➞ &quot;m?nn?? m??s?&quot;\n",
    "- replace_vowels(&quot;shakespeare&quot;, &quot;*&quot;) ➞ &quot;sh*k*sp**r*&quot;"
   ]
  },
  {
   "cell_type": "code",
   "execution_count": 8,
   "id": "0a77431b",
   "metadata": {},
   "outputs": [
    {
     "name": "stdout",
     "output_type": "stream",
     "text": [
      "th# ##rdv#rk\n",
      "m?nn?? m??s?\n",
      "sh*k*sp**r*\n"
     ]
    }
   ],
   "source": [
    "def replace_vowels(txt, ch):\n",
    "    vowels = \"AEIOUaeiou\"\n",
    "    for vowel in vowels:\n",
    "        txt = txt.replace(vowel, ch)\n",
    "    return txt\n",
    "\n",
    "# Testing the function with given examples\n",
    "print(replace_vowels(\"the aardvark\", \"#\"))  # ➞ \"th# ##rdv#rk\"\n",
    "print(replace_vowels(\"minnie mouse\", \"?\"))  # ➞ \"m?nn?? m??s?\"\n",
    "print(replace_vowels(\"shakespeare\", \"*\"))  # ➞ \"sh*k*sp**r*\""
   ]
  },
  {
   "cell_type": "markdown",
   "id": "4c7e42c1",
   "metadata": {},
   "source": [
    "**Question4. Write a function that calculates the factorial of a number recursively.**\n",
    "\n",
    "- Examples\n",
    "- factorial(5) ➞ 120\n",
    "- factorial(3) ➞ 6\n",
    "- factorial(1) ➞ 1\n",
    "- factorial(0) ➞ 1"
   ]
  },
  {
   "cell_type": "code",
   "execution_count": 11,
   "id": "c25157b6",
   "metadata": {},
   "outputs": [],
   "source": [
    "def factorial(n):\n",
    "    if n==0:\n",
    "        return 1\n",
    "    return n*factorial(n-1)"
   ]
  },
  {
   "cell_type": "code",
   "execution_count": 13,
   "id": "1b825189",
   "metadata": {},
   "outputs": [
    {
     "data": {
      "text/plain": [
       "120"
      ]
     },
     "execution_count": 13,
     "metadata": {},
     "output_type": "execute_result"
    }
   ],
   "source": [
    "factorial(5)"
   ]
  },
  {
   "cell_type": "code",
   "execution_count": 14,
   "id": "802d2fbc",
   "metadata": {},
   "outputs": [
    {
     "data": {
      "text/plain": [
       "6"
      ]
     },
     "execution_count": 14,
     "metadata": {},
     "output_type": "execute_result"
    }
   ],
   "source": [
    "factorial(3)"
   ]
  },
  {
   "cell_type": "code",
   "execution_count": 15,
   "id": "1bea8fbc",
   "metadata": {},
   "outputs": [
    {
     "data": {
      "text/plain": [
       "1"
      ]
     },
     "execution_count": 15,
     "metadata": {},
     "output_type": "execute_result"
    }
   ],
   "source": [
    "factorial(1)"
   ]
  },
  {
   "cell_type": "code",
   "execution_count": 16,
   "id": "5f602f36",
   "metadata": {},
   "outputs": [
    {
     "data": {
      "text/plain": [
       "1"
      ]
     },
     "execution_count": 16,
     "metadata": {},
     "output_type": "execute_result"
    }
   ],
   "source": [
    "factorial(0)"
   ]
  },
  {
   "cell_type": "markdown",
   "id": "624885aa",
   "metadata": {},
   "source": [
    "**Question 5: Hamming distance is the number of characters that differ between two strings.**\n",
    "\n",
    "- To illustrate:\n",
    "- String1: &quot;abcbba&quot;\n",
    "- String2: &quot;abcbda&quot;\n",
    "- Hamming Distance: 1 - &quot;b&quot; vs. &quot;d&quot; is the only difference.\n",
    "\n",
    "Create a function that computes the hamming distance between two strings.\n",
    "- Examples\n",
    "- hamming_distance(&quot;abcde&quot;, &quot;bcdef&quot;) ➞ 5\n",
    "- hamming_distance(&quot;abcde&quot;, &quot;abcde&quot;) ➞ 0\n",
    "- hamming_distance(&quot;strong&quot;, &quot;strung&quot;) ➞ 1"
   ]
  },
  {
   "cell_type": "code",
   "execution_count": 17,
   "id": "5a5e39c5",
   "metadata": {},
   "outputs": [],
   "source": [
    "def hamming_distance(str1,str2):\n",
    "    if len(str1)!=len(str2):\n",
    "        return \"Strings must be of equal length\"\n",
    "    return sum(1 for i,j in zip(str1,str2) if i!=j)"
   ]
  },
  {
   "cell_type": "code",
   "execution_count": 18,
   "id": "0429709a",
   "metadata": {},
   "outputs": [
    {
     "data": {
      "text/plain": [
       "5"
      ]
     },
     "execution_count": 18,
     "metadata": {},
     "output_type": "execute_result"
    }
   ],
   "source": [
    "hamming_distance(\"abcde\", \"bcdef\")"
   ]
  },
  {
   "cell_type": "code",
   "execution_count": 19,
   "id": "d5e76623",
   "metadata": {},
   "outputs": [
    {
     "data": {
      "text/plain": [
       "0"
      ]
     },
     "execution_count": 19,
     "metadata": {},
     "output_type": "execute_result"
    }
   ],
   "source": [
    "hamming_distance(\"abcde\", \"abcde\")"
   ]
  },
  {
   "cell_type": "code",
   "execution_count": 20,
   "id": "19ae6f58",
   "metadata": {},
   "outputs": [
    {
     "data": {
      "text/plain": [
       "1"
      ]
     },
     "execution_count": 20,
     "metadata": {},
     "output_type": "execute_result"
    }
   ],
   "source": [
    "hamming_distance(\"strong\", \"strung\")"
   ]
  },
  {
   "cell_type": "code",
   "execution_count": null,
   "id": "4a05ed6c",
   "metadata": {},
   "outputs": [],
   "source": []
  }
 ],
 "metadata": {
  "kernelspec": {
   "display_name": "Python 3 (ipykernel)",
   "language": "python",
   "name": "python3"
  },
  "language_info": {
   "codemirror_mode": {
    "name": "ipython",
    "version": 3
   },
   "file_extension": ".py",
   "mimetype": "text/x-python",
   "name": "python",
   "nbconvert_exporter": "python",
   "pygments_lexer": "ipython3",
   "version": "3.10.9"
  }
 },
 "nbformat": 4,
 "nbformat_minor": 5
}
