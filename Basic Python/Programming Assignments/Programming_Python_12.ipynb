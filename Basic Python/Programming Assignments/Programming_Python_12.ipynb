{
 "cells": [
  {
   "cell_type": "markdown",
   "id": "1da6112b",
   "metadata": {},
   "source": [
    "**1. Write a Python program to Extract Unique values dictionary values?**"
   ]
  },
  {
   "cell_type": "code",
   "execution_count": 2,
   "id": "7a11599a",
   "metadata": {},
   "outputs": [],
   "source": [
    "def extract_unique_values(dictionary):\n",
    "    unique_values = set(val for values in dictionary.values() for val in (values if isinstance(values, (list, tuple, set)) else [values]))\n",
    "    return unique_values"
   ]
  },
  {
   "cell_type": "code",
   "execution_count": 3,
   "id": "297c95b2",
   "metadata": {},
   "outputs": [],
   "source": [
    "# 1. Extract Unique Values from Dictionary Values\n",
    "dict1 = {'a': [1, 2, 3, 4], 'b': [4, 5, 6, 7], 'c': 8}\n",
    "unique_values_example = extract_unique_values(dict1)"
   ]
  },
  {
   "cell_type": "code",
   "execution_count": 4,
   "id": "d1763394",
   "metadata": {},
   "outputs": [
    {
     "data": {
      "text/plain": [
       "{1, 2, 3, 4, 5, 6, 7, 8}"
      ]
     },
     "execution_count": 4,
     "metadata": {},
     "output_type": "execute_result"
    }
   ],
   "source": [
    "unique_values_example"
   ]
  },
  {
   "cell_type": "markdown",
   "id": "184739ea",
   "metadata": {},
   "source": [
    "**2. Write a Python program to find the sum of all items in a dictionary?**"
   ]
  },
  {
   "cell_type": "code",
   "execution_count": 5,
   "id": "ee770e98",
   "metadata": {},
   "outputs": [],
   "source": [
    "def sum_of_values(dictionary):\n",
    "    return sum(dictionary.values())"
   ]
  },
  {
   "cell_type": "code",
   "execution_count": 6,
   "id": "97ac5de5",
   "metadata": {},
   "outputs": [],
   "source": [
    "# 2. Find the Sum of All Items in a Dictionary\n",
    "dict2 = {'a': 100, 'b': 200, 'c': 300}\n",
    "sum_example = sum_of_values(dict2)"
   ]
  },
  {
   "cell_type": "code",
   "execution_count": 7,
   "id": "65c1aac5",
   "metadata": {},
   "outputs": [
    {
     "data": {
      "text/plain": [
       "600"
      ]
     },
     "execution_count": 7,
     "metadata": {},
     "output_type": "execute_result"
    }
   ],
   "source": [
    "sum_example"
   ]
  },
  {
   "cell_type": "markdown",
   "id": "61f9b42c",
   "metadata": {},
   "source": [
    "**3. Write a Python program to Merging two Dictionaries?**"
   ]
  },
  {
   "cell_type": "code",
   "execution_count": 8,
   "id": "e4fca5aa",
   "metadata": {},
   "outputs": [],
   "source": [
    "def merge_dictionaries(dict1, dict2):\n",
    "    merged_dict = {**dict1, **dict2}\n",
    "    return merged_dict"
   ]
  },
  {
   "cell_type": "code",
   "execution_count": 9,
   "id": "8ec1863f",
   "metadata": {},
   "outputs": [],
   "source": [
    "# 3. Merging Two Dictionaries\n",
    "dict3 = {'a': 1, 'b': 2}\n",
    "dict4 = {'c': 3, 'd': 4}\n",
    "merged_example = merge_dictionaries(dict3, dict4)"
   ]
  },
  {
   "cell_type": "code",
   "execution_count": 10,
   "id": "ff082f3c",
   "metadata": {},
   "outputs": [
    {
     "data": {
      "text/plain": [
       "{'a': 1, 'b': 2, 'c': 3, 'd': 4}"
      ]
     },
     "execution_count": 10,
     "metadata": {},
     "output_type": "execute_result"
    }
   ],
   "source": [
    "merged_example"
   ]
  },
  {
   "cell_type": "markdown",
   "id": "53e1b375",
   "metadata": {},
   "source": [
    "**4. Write a Python program to convert key-values list to flat dictionary?**"
   ]
  },
  {
   "cell_type": "code",
   "execution_count": 12,
   "id": "c7fe20b5",
   "metadata": {},
   "outputs": [],
   "source": [
    "def flatten_dictionary(keys, values):\n",
    "    return dict(zip(keys, values))"
   ]
  },
  {
   "cell_type": "code",
   "execution_count": 13,
   "id": "c6d2c6a4",
   "metadata": {},
   "outputs": [],
   "source": [
    "# 4. Convert Key-Values List to Flat Dictionary\n",
    "keys = ['a', 'b', 'c']\n",
    "values = [1, 2, 3]\n",
    "flat_example = flatten_dictionary(keys, values)"
   ]
  },
  {
   "cell_type": "code",
   "execution_count": 14,
   "id": "004d68ea",
   "metadata": {},
   "outputs": [
    {
     "data": {
      "text/plain": [
       "{'a': 1, 'b': 2, 'c': 3}"
      ]
     },
     "execution_count": 14,
     "metadata": {},
     "output_type": "execute_result"
    }
   ],
   "source": [
    "flat_example"
   ]
  },
  {
   "cell_type": "markdown",
   "id": "32493bbb",
   "metadata": {},
   "source": [
    "**5. Write a Python program to insertion at the beginning in OrderedDict?**"
   ]
  },
  {
   "cell_type": "code",
   "execution_count": 15,
   "id": "218f44ca",
   "metadata": {},
   "outputs": [],
   "source": [
    "from collections import OrderedDict\n",
    "\n",
    "def insert_at_beginning(ordered_dict, key, value):\n",
    "    new_ordered_dict = OrderedDict([(key, value)])\n",
    "    new_ordered_dict.update(ordered_dict)\n",
    "    return new_ordered_dict"
   ]
  },
  {
   "cell_type": "code",
   "execution_count": 16,
   "id": "3f70daa7",
   "metadata": {},
   "outputs": [],
   "source": [
    "ordered_dict_example = OrderedDict([('b', 2), ('c', 3)])\n",
    "inserted_example = insert_at_beginning(ordered_dict_example, 'a', 1)"
   ]
  },
  {
   "cell_type": "code",
   "execution_count": 17,
   "id": "24ebe980",
   "metadata": {},
   "outputs": [
    {
     "data": {
      "text/plain": [
       "OrderedDict([('a', 1), ('b', 2), ('c', 3)])"
      ]
     },
     "execution_count": 17,
     "metadata": {},
     "output_type": "execute_result"
    }
   ],
   "source": [
    "inserted_example"
   ]
  },
  {
   "cell_type": "markdown",
   "id": "2c1b5066",
   "metadata": {},
   "source": [
    "**6.Write a Python program to check order of character in string using OrderedDict()?**"
   ]
  },
  {
   "cell_type": "code",
   "execution_count": 18,
   "id": "6b7a9d81",
   "metadata": {},
   "outputs": [],
   "source": [
    "def check_order(input_string, pattern):\n",
    "    ordered_dict = OrderedDict.fromkeys(input_string)\n",
    "    pattern_length = 0\n",
    "    for key, value in ordered_dict.items():\n",
    "        if key == pattern[pattern_length]:\n",
    "            pattern_length += 1\n",
    "        if pattern_length == len(pattern):\n",
    "            return True\n",
    "    return False"
   ]
  },
  {
   "cell_type": "code",
   "execution_count": 19,
   "id": "2799f6b7",
   "metadata": {},
   "outputs": [],
   "source": [
    "# 6. Check Order of Character in String using OrderedDict()\n",
    "input_string = \"programming\"\n",
    "pattern = \"pgm\"\n",
    "order_check_example = check_order(input_string, pattern)"
   ]
  },
  {
   "cell_type": "code",
   "execution_count": 20,
   "id": "6a26e80a",
   "metadata": {},
   "outputs": [
    {
     "data": {
      "text/plain": [
       "True"
      ]
     },
     "execution_count": 20,
     "metadata": {},
     "output_type": "execute_result"
    }
   ],
   "source": [
    "order_check_example"
   ]
  },
  {
   "cell_type": "markdown",
   "id": "398e8903",
   "metadata": {},
   "source": [
    "**7. Write a Python program to sort Python Dictionaries by Key or Value?**"
   ]
  },
  {
   "cell_type": "code",
   "execution_count": 21,
   "id": "f0671797",
   "metadata": {},
   "outputs": [],
   "source": [
    "def sort_dictionary(dictionary, by_value=False):\n",
    "    if by_value:\n",
    "        return dict(sorted(dictionary.items(), key=lambda item: item[1]))\n",
    "    else:\n",
    "        return dict(sorted(dictionary.items()))"
   ]
  },
  {
   "cell_type": "code",
   "execution_count": 22,
   "id": "6a8c5b47",
   "metadata": {},
   "outputs": [],
   "source": [
    "# 7. Sort Python Dictionaries by Key or Value\n",
    "dict5 = {'banana': 3, 'apple': 2, 'cherry': 1}\n",
    "sorted_by_key_example = sort_dictionary(dict5)\n",
    "sorted_by_value_example = sort_dictionary(dict5, by_value=True)"
   ]
  },
  {
   "cell_type": "code",
   "execution_count": 23,
   "id": "11f50960",
   "metadata": {},
   "outputs": [
    {
     "data": {
      "text/plain": [
       "{'cherry': 1, 'apple': 2, 'banana': 3}"
      ]
     },
     "execution_count": 23,
     "metadata": {},
     "output_type": "execute_result"
    }
   ],
   "source": [
    "sorted_by_value_example"
   ]
  },
  {
   "cell_type": "code",
   "execution_count": 24,
   "id": "0a0195e4",
   "metadata": {},
   "outputs": [
    {
     "data": {
      "text/plain": [
       "{'apple': 2, 'banana': 3, 'cherry': 1}"
      ]
     },
     "execution_count": 24,
     "metadata": {},
     "output_type": "execute_result"
    }
   ],
   "source": [
    "sorted_by_key_example"
   ]
  },
  {
   "cell_type": "code",
   "execution_count": null,
   "id": "88087da3",
   "metadata": {},
   "outputs": [],
   "source": []
  }
 ],
 "metadata": {
  "kernelspec": {
   "display_name": "Python 3 (ipykernel)",
   "language": "python",
   "name": "python3"
  },
  "language_info": {
   "codemirror_mode": {
    "name": "ipython",
    "version": 3
   },
   "file_extension": ".py",
   "mimetype": "text/x-python",
   "name": "python",
   "nbconvert_exporter": "python",
   "pygments_lexer": "ipython3",
   "version": "3.10.9"
  }
 },
 "nbformat": 4,
 "nbformat_minor": 5
}
