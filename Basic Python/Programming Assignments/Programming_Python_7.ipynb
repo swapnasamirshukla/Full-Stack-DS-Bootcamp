{
 "cells": [
  {
   "cell_type": "markdown",
   "id": "82f476d9",
   "metadata": {},
   "source": [
    "### 1. Write a Python Program to find sum of array?"
   ]
  },
  {
   "cell_type": "code",
   "execution_count": 3,
   "id": "4ea9e515",
   "metadata": {},
   "outputs": [],
   "source": [
    "import functools\n",
    "\n",
    "def sum_arr(arr):\n",
    "    return functools.reduce(lambda a,b:a+b,arr)"
   ]
  },
  {
   "cell_type": "code",
   "execution_count": 4,
   "id": "c92949c3",
   "metadata": {},
   "outputs": [
    {
     "data": {
      "text/plain": [
       "10"
      ]
     },
     "execution_count": 4,
     "metadata": {},
     "output_type": "execute_result"
    }
   ],
   "source": [
    "sum_arr([1,2,3,4])"
   ]
  },
  {
   "cell_type": "markdown",
   "id": "42694855",
   "metadata": {},
   "source": [
    "### 2.Write a Python Program to find largest element in an array?"
   ]
  },
  {
   "cell_type": "code",
   "execution_count": 6,
   "id": "d3a5116c",
   "metadata": {},
   "outputs": [],
   "source": [
    "def large_element(arr):\n",
    "    return max(arr)"
   ]
  },
  {
   "cell_type": "code",
   "execution_count": 7,
   "id": "01465b08",
   "metadata": {},
   "outputs": [
    {
     "data": {
      "text/plain": [
       "99"
      ]
     },
     "execution_count": 7,
     "metadata": {},
     "output_type": "execute_result"
    }
   ],
   "source": [
    "large_element([3,4,10,99,1,23])"
   ]
  },
  {
   "cell_type": "markdown",
   "id": "cb99f9a8",
   "metadata": {},
   "source": [
    "### 3.Write a Python Program for array rotation?"
   ]
  },
  {
   "cell_type": "code",
   "execution_count": 8,
   "id": "5aaa31a8",
   "metadata": {},
   "outputs": [
    {
     "name": "stdout",
     "output_type": "stream",
     "text": [
      "Left rotated array: [3, 4, 5, 1, 2]\n"
     ]
    }
   ],
   "source": [
    "def left_rotate_array(arr, n):\n",
    "    n = n % len(arr)  # Handle n greater than array length\n",
    "    return arr[n:] + arr[:n]\n",
    "\n",
    "array = [1, 2, 3, 4, 5]\n",
    "steps = 2\n",
    "rotated_array = left_rotate_array(array, steps)\n",
    "print(\"Left rotated array:\", rotated_array)\n"
   ]
  },
  {
   "cell_type": "code",
   "execution_count": 10,
   "id": "45520dc5",
   "metadata": {},
   "outputs": [
    {
     "name": "stdout",
     "output_type": "stream",
     "text": [
      "Right rotated array: [4, 5, 1, 2, 3]\n"
     ]
    }
   ],
   "source": [
    "def right_rotate_array(arr, n):\n",
    "    n = n % len(arr)  # Handle n greater than array length\n",
    "    return arr[-n:] + arr[:-n]\n",
    "\n",
    "array = [1, 2, 3, 4, 5]\n",
    "steps = 2\n",
    "rotated_array = right_rotate_array(array, steps)\n",
    "print(\"Right rotated array:\", rotated_array)\n"
   ]
  },
  {
   "cell_type": "markdown",
   "id": "52cc05ca",
   "metadata": {},
   "source": [
    "### 4.Write a Python Program to Split the array and add the first part to the end?"
   ]
  },
  {
   "cell_type": "code",
   "execution_count": 12,
   "id": "0384bc76",
   "metadata": {},
   "outputs": [
    {
     "name": "stdout",
     "output_type": "stream",
     "text": [
      "New Array: [4, 5, 1, 2, 3]\n"
     ]
    }
   ],
   "source": [
    "def split_array(arr, position):\n",
    "    # Check if position is valid\n",
    "    if position < 0 or position >= len(arr):\n",
    "        return \"Invalid position\"\n",
    "    return arr[position:] + arr[:position]\n",
    "\n",
    "array = [1, 2, 3, 4, 5]\n",
    "steps = 3\n",
    "split_array = split_array(array, steps)\n",
    "print(\"New Array:\", split_array)"
   ]
  },
  {
   "cell_type": "markdown",
   "id": "845ed010",
   "metadata": {},
   "source": [
    "### 5. Write a Python Program to check if given array is Monotonic?"
   ]
  },
  {
   "cell_type": "code",
   "execution_count": 14,
   "id": "c6fbecd7",
   "metadata": {},
   "outputs": [
    {
     "name": "stdout",
     "output_type": "stream",
     "text": [
      "Is the array [1, 2, 3, 4, 5] monotonic? True\n",
      "Is the array [5, 4, 3, 2, 1] monotonic? True\n",
      "Is the array [1, 3, 2, 4, 5] monotonic? False\n"
     ]
    }
   ],
   "source": [
    "def is_monotonic(arr):\n",
    "    increasing = decreasing = True\n",
    "    \n",
    "    for i in range(len(arr) - 1):\n",
    "        if arr[i] > arr[i + 1]:\n",
    "            increasing = False\n",
    "        if arr[i] < arr[i + 1]:\n",
    "            decreasing = False\n",
    "    \n",
    "    return increasing or decreasing\n",
    "\n",
    "# Test the function\n",
    "test_array1 = [1, 2, 3, 4, 5]\n",
    "test_array2 = [5, 4, 3, 2, 1]\n",
    "test_array3 = [1, 3, 2, 4, 5]\n",
    "\n",
    "print(\"Is the array {} monotonic? {}\".format(test_array1, is_monotonic(test_array1)))\n",
    "print(\"Is the array {} monotonic? {}\".format(test_array2, is_monotonic(test_array2)))\n",
    "print(\"Is the array {} monotonic? {}\".format(test_array3, is_monotonic(test_array3)))\n"
   ]
  },
  {
   "cell_type": "code",
   "execution_count": null,
   "id": "0945d8b7",
   "metadata": {},
   "outputs": [],
   "source": []
  }
 ],
 "metadata": {
  "kernelspec": {
   "display_name": "Python 3 (ipykernel)",
   "language": "python",
   "name": "python3"
  },
  "language_info": {
   "codemirror_mode": {
    "name": "ipython",
    "version": 3
   },
   "file_extension": ".py",
   "mimetype": "text/x-python",
   "name": "python",
   "nbconvert_exporter": "python",
   "pygments_lexer": "ipython3",
   "version": "3.10.9"
  }
 },
 "nbformat": 4,
 "nbformat_minor": 5
}
