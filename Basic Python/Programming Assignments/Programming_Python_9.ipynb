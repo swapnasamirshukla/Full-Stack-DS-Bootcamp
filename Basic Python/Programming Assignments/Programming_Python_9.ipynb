{
 "cells": [
  {
   "cell_type": "markdown",
   "id": "f314a371",
   "metadata": {},
   "source": [
    "### 1. Write a Python program to check if the given number is a Disarium Number?"
   ]
  },
  {
   "cell_type": "code",
   "execution_count": 1,
   "id": "a9acff5d",
   "metadata": {},
   "outputs": [],
   "source": [
    "def is_disarium(num):\n",
    "    i = len(str(num)) #Number of digits in the number\n",
    "    n = num\n",
    "    sum_n = 0 #Initialize sum = 0\n",
    "    while n > 0:\n",
    "        exp = n%10 #Extract digits iteratively starting from rightmost digit\n",
    "        n = n//10 \n",
    "        sum_n = sum_n+exp**i\n",
    "        i-=1\n",
    "    if sum_n== num:\n",
    "        return True\n",
    "    return False"
   ]
  },
  {
   "cell_type": "code",
   "execution_count": 2,
   "id": "a713ce77",
   "metadata": {},
   "outputs": [
    {
     "name": "stdout",
     "output_type": "stream",
     "text": [
      "1 is a disarium number\n"
     ]
    }
   ],
   "source": [
    "num = 1\n",
    "if is_disarium(num):\n",
    "    print(\"{} is a disarium number\".format(num))\n",
    "else:\n",
    "    print(\"{} is not a disarium number\".format(num))"
   ]
  },
  {
   "cell_type": "markdown",
   "id": "90ef9f83",
   "metadata": {},
   "source": [
    "### 2.Write a Python program to print all disarium numbers between 1 to 100?"
   ]
  },
  {
   "cell_type": "code",
   "execution_count": 3,
   "id": "3aa3a41d",
   "metadata": {},
   "outputs": [],
   "source": [
    "disarium_numbers = [num for num in range(1, 101) if is_disarium(num)]"
   ]
  },
  {
   "cell_type": "code",
   "execution_count": 4,
   "id": "b63698f0",
   "metadata": {},
   "outputs": [
    {
     "data": {
      "text/plain": [
       "[1, 2, 3, 4, 5, 6, 7, 8, 9, 89]"
      ]
     },
     "execution_count": 4,
     "metadata": {},
     "output_type": "execute_result"
    }
   ],
   "source": [
    "disarium_numbers"
   ]
  },
  {
   "cell_type": "markdown",
   "id": "59512f45",
   "metadata": {},
   "source": [
    "### 3. Write a Python program to check if the given number is Happy Number?"
   ]
  },
  {
   "cell_type": "code",
   "execution_count": 5,
   "id": "f0bfce39",
   "metadata": {},
   "outputs": [],
   "source": [
    "def is_happy_number(num):\n",
    "    visited = set() #Initialize an empty set\n",
    "    while num != 1 and num not in visited: #Some Non-Happy numbers do not converge to 1\n",
    "        #print(num)\n",
    "        visited.add(num)\n",
    "        num = sum(int(i) ** 2 for i in str(num))\n",
    "    return num == 1"
   ]
  },
  {
   "cell_type": "code",
   "execution_count": 6,
   "id": "55675f0a",
   "metadata": {},
   "outputs": [
    {
     "name": "stdout",
     "output_type": "stream",
     "text": [
      "49 is a Happy number\n"
     ]
    }
   ],
   "source": [
    "num = 49\n",
    "if is_happy_number(num):\n",
    "    print(\"{} is a Happy number\".format(num))\n",
    "else:\n",
    "    print(\"{} is not a Happy number\".format(num))"
   ]
  },
  {
   "cell_type": "markdown",
   "id": "5f65d19c",
   "metadata": {},
   "source": [
    "### 4. Write a Python program to print all happy numbers between 1 and 100?"
   ]
  },
  {
   "cell_type": "code",
   "execution_count": 7,
   "id": "2f8cf2dc",
   "metadata": {},
   "outputs": [],
   "source": [
    "happy_numbers = [num for num in range(1, 101) if is_happy_number(num)]"
   ]
  },
  {
   "cell_type": "code",
   "execution_count": 8,
   "id": "363ee3a4",
   "metadata": {},
   "outputs": [
    {
     "data": {
      "text/plain": [
       "[1, 7, 10, 13, 19, 23, 28, 31, 32, 44, 49, 68, 70, 79, 82, 86, 91, 94, 97, 100]"
      ]
     },
     "execution_count": 8,
     "metadata": {},
     "output_type": "execute_result"
    }
   ],
   "source": [
    "happy_numbers"
   ]
  },
  {
   "cell_type": "markdown",
   "id": "62784287",
   "metadata": {},
   "source": [
    "### 5.Write a Python program to determine whether the given number is a Harshad Number?"
   ]
  },
  {
   "cell_type": "code",
   "execution_count": 9,
   "id": "7134556c",
   "metadata": {},
   "outputs": [],
   "source": [
    "def is_harshad(num):\n",
    "    sum_num = sum(int(i) for i in str(num))\n",
    "    return num%sum_num"
   ]
  },
  {
   "cell_type": "code",
   "execution_count": 10,
   "id": "b1f0963b",
   "metadata": {},
   "outputs": [
    {
     "name": "stdout",
     "output_type": "stream",
     "text": [
      "21 is a Harshad number\n"
     ]
    }
   ],
   "source": [
    "num = 21\n",
    "if is_harshad(num)==0:\n",
    "    print(\"{} is a Harshad number\".format(num))\n",
    "else:\n",
    "    print(\"{} is not a Harshad number\".format(num))"
   ]
  },
  {
   "cell_type": "markdown",
   "id": "215b9d35",
   "metadata": {},
   "source": [
    "### 6. Write a Python program to print all pronic numbers between 1 and 100?"
   ]
  },
  {
   "cell_type": "code",
   "execution_count": 11,
   "id": "ebd9cc4a",
   "metadata": {},
   "outputs": [],
   "source": [
    "harshad_numbers = [num for num in range(1, 101) if is_harshad(num)==0]"
   ]
  },
  {
   "cell_type": "code",
   "execution_count": 12,
   "id": "70ef755a",
   "metadata": {},
   "outputs": [
    {
     "data": {
      "text/plain": [
       "[1,\n",
       " 2,\n",
       " 3,\n",
       " 4,\n",
       " 5,\n",
       " 6,\n",
       " 7,\n",
       " 8,\n",
       " 9,\n",
       " 10,\n",
       " 12,\n",
       " 18,\n",
       " 20,\n",
       " 21,\n",
       " 24,\n",
       " 27,\n",
       " 30,\n",
       " 36,\n",
       " 40,\n",
       " 42,\n",
       " 45,\n",
       " 48,\n",
       " 50,\n",
       " 54,\n",
       " 60,\n",
       " 63,\n",
       " 70,\n",
       " 72,\n",
       " 80,\n",
       " 81,\n",
       " 84,\n",
       " 90,\n",
       " 100]"
      ]
     },
     "execution_count": 12,
     "metadata": {},
     "output_type": "execute_result"
    }
   ],
   "source": [
    "harshad_numbers"
   ]
  },
  {
   "cell_type": "code",
   "execution_count": null,
   "id": "0e2fef4d",
   "metadata": {},
   "outputs": [],
   "source": []
  }
 ],
 "metadata": {
  "kernelspec": {
   "display_name": "Python 3 (ipykernel)",
   "language": "python",
   "name": "python3"
  },
  "language_info": {
   "codemirror_mode": {
    "name": "ipython",
    "version": 3
   },
   "file_extension": ".py",
   "mimetype": "text/x-python",
   "name": "python",
   "nbconvert_exporter": "python",
   "pygments_lexer": "ipython3",
   "version": "3.10.9"
  }
 },
 "nbformat": 4,
 "nbformat_minor": 5
}
