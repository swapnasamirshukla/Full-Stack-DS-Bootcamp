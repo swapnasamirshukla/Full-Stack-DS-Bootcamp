{
 "cells": [
  {
   "cell_type": "markdown",
   "id": "a6165002",
   "metadata": {},
   "source": [
    "1. Write a Python Program to Display Fibonacci Sequence Using Recursion?\n",
    "2. Write a Python Program to Find Factorial of Number Using Recursion?\n",
    "3. Write a Python Program to calculate your Body Mass Index?\n",
    "4. Write a Python Program to calculate the natural logarithm of any number?\n",
    "5. Write a Python Program for cube sum of first n natural numbers?"
   ]
  },
  {
   "cell_type": "code",
   "execution_count": 9,
   "id": "84d59605",
   "metadata": {},
   "outputs": [
    {
     "name": "stdout",
     "output_type": "stream",
     "text": [
      "0\n",
      "1\n",
      "1\n",
      "2\n",
      "3\n",
      "5\n",
      "8\n",
      "13\n",
      "21\n",
      "34\n"
     ]
    }
   ],
   "source": [
    "def fibonacci(n):\n",
    "    if n <= 0:\n",
    "        return \"Input must be a positive integer.\"\n",
    "    elif n == 1:\n",
    "        return 0\n",
    "    elif n == 2:\n",
    "        return 1\n",
    "    else:\n",
    "        return fibonacci(n-1) + fibonacci(n-2)\n",
    "\n",
    "# Display the first 10 numbers of the Fibonacci sequence\n",
    "for i in range(1, 11):\n",
    "    print(fibonacci(i))\n"
   ]
  },
  {
   "cell_type": "code",
   "execution_count": 10,
   "id": "dfe8a04c",
   "metadata": {},
   "outputs": [
    {
     "name": "stdout",
     "output_type": "stream",
     "text": [
      "120\n"
     ]
    }
   ],
   "source": [
    "def factorial(n):\n",
    "    if n < 0:\n",
    "        return \"Input must be a non-negative integer.\"\n",
    "    elif n == 0 or n == 1:\n",
    "        return 1\n",
    "    else:\n",
    "        return n * factorial(n-1)\n",
    "\n",
    "# Test the function\n",
    "print(factorial(5))  # Output should be 120\n"
   ]
  },
  {
   "cell_type": "code",
   "execution_count": 11,
   "id": "be62f545",
   "metadata": {},
   "outputs": [
    {
     "name": "stdout",
     "output_type": "stream",
     "text": [
      "Your BMI is: 22.857142857142858\n"
     ]
    }
   ],
   "source": [
    "def calculate_bmi(weight, height):\n",
    "    return weight / (height ** 2)\n",
    "\n",
    "# Test the function\n",
    "weight = 70  # weight in kilograms\n",
    "height = 1.75  # height in meters\n",
    "print(\"Your BMI is:\", calculate_bmi(weight, height))\n"
   ]
  },
  {
   "cell_type": "code",
   "execution_count": 12,
   "id": "eccf23e9",
   "metadata": {},
   "outputs": [
    {
     "name": "stdout",
     "output_type": "stream",
     "text": [
      "2.302585092994046\n"
     ]
    }
   ],
   "source": [
    "import math\n",
    "\n",
    "def natural_logarithm(x):\n",
    "    if x <= 0:\n",
    "        return \"Input must be a positive number.\"\n",
    "    return math.log(x)\n",
    "\n",
    "# Test the function\n",
    "print(natural_logarithm(10))  # Should print the natural logarithm of 10\n"
   ]
  },
  {
   "cell_type": "code",
   "execution_count": 13,
   "id": "3508fa42",
   "metadata": {},
   "outputs": [
    {
     "name": "stdout",
     "output_type": "stream",
     "text": [
      "225\n"
     ]
    }
   ],
   "source": [
    "def cube_sum(n):\n",
    "    return (n * (n + 1) // 2) ** 2\n",
    "\n",
    "# Test the function\n",
    "print(cube_sum(5))  # Output should be 225\n"
   ]
  },
  {
   "cell_type": "code",
   "execution_count": null,
   "id": "df9706d1",
   "metadata": {},
   "outputs": [],
   "source": []
  }
 ],
 "metadata": {
  "kernelspec": {
   "display_name": "Python 3 (ipykernel)",
   "language": "python",
   "name": "python3"
  },
  "language_info": {
   "codemirror_mode": {
    "name": "ipython",
    "version": 3
   },
   "file_extension": ".py",
   "mimetype": "text/x-python",
   "name": "python",
   "nbconvert_exporter": "python",
   "pygments_lexer": "ipython3",
   "version": "3.10.9"
  }
 },
 "nbformat": 4,
 "nbformat_minor": 5
}
