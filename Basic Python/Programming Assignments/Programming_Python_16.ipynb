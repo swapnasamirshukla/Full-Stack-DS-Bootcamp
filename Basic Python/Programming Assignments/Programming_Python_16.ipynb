{
 "cells": [
  {
   "cell_type": "markdown",
   "id": "356b9f7d",
   "metadata": {},
   "source": [
    "**Question1. Write a function that stutters a word as if someone is struggling to read it. The first two letters are repeated twice with an ellipsis ... and space after each, and then the word is pronounced with a question mark ?**\n",
    "\n",
    "Examples\n",
    "- stutter(incredible) ➞ in... in... incredible?;\n",
    "- stutter(enthusiastic) ➞ en... en... enthusiastic?;\n",
    "- stutter(outstanding) ➞ ou... ou... outstanding?;\n",
    "\n",
    "Hint :- Assume all input is in lower case and at least two characters long."
   ]
  },
  {
   "cell_type": "code",
   "execution_count": 11,
   "id": "6bc8b30f",
   "metadata": {},
   "outputs": [
    {
     "name": "stdout",
     "output_type": "stream",
     "text": [
      "in... in... incredible?\n",
      "en... en... enthusiastic?\n",
      "ou... ou... outstanding?\n"
     ]
    }
   ],
   "source": [
    "def stutter(word):\n",
    "    return f\"{word[:2]}... {word[:2]}... {word}?\"\n",
    "\n",
    "# Example usage:\n",
    "if __name__ == \"__main__\":\n",
    "    print(stutter(\"incredible\"))  # Output: \"in... in... incredible?\"\n",
    "    print(stutter(\"enthusiastic\"))  # Output: \"en... en... enthusiastic?\"\n",
    "    print(stutter(\"outstanding\"))  # Output: \"ou... ou... outstanding?\""
   ]
  },
  {
   "cell_type": "markdown",
   "id": "d323dbff",
   "metadata": {},
   "source": [
    "**Question 2.Create a function that takes an angle in radians and returns the corresponding angle in degrees rounded to one decimal place.**\n",
    "\n",
    "Examples\n",
    "- radians_to_degrees(1) ➞ 57.3\n",
    "- radians_to_degrees(20) ➞ 1145.9\n",
    "- radians_to_degrees(50) ➞ 2864.8"
   ]
  },
  {
   "cell_type": "code",
   "execution_count": 12,
   "id": "3800211b",
   "metadata": {},
   "outputs": [
    {
     "name": "stdout",
     "output_type": "stream",
     "text": [
      "57.3\n",
      "1145.9\n",
      "2864.8\n"
     ]
    }
   ],
   "source": [
    "import math\n",
    "\n",
    "def radians_to_degrees(rad):\n",
    "    return round(rad * (180/math.pi), 1)\n",
    "\n",
    "# Example usage:\n",
    "if __name__ == \"__main__\":\n",
    "    print(radians_to_degrees(1))    # Output: 57.3\n",
    "    print(radians_to_degrees(20))   # Output: 1145.9\n",
    "    print(radians_to_degrees(50))   # Output: 2864.8"
   ]
  },
  {
   "cell_type": "markdown",
   "id": "c103ae54",
   "metadata": {},
   "source": [
    "**Question 3. In this challenge, establish if a given integer num is a Curzon number. If 1 plus 2 elevated to num is exactly divisible by 1 plus 2 multiplied by num, then num is a Curzon number.**\n",
    "\n",
    "Given a non-negative integer num, implement a function that returns True if num is a Curzon\n",
    "number, or False otherwise.\n",
    "\n",
    "\n",
    "Examples\n",
    "\n",
    "- is_curzon(5) ➞ True\n",
    "    - 2 ** 5 + 1 = 33\n",
    "    - 2 * 5 + 1 = 11\n",
    "- 33 is a multiple of 11\n",
    "\n",
    "\n",
    "- is_curzon(10) ➞ False\n",
    "    - 2 ** 10 + 1 = 1025\n",
    "    - 2 * 10 + 1 = 21\n",
    "- 1025 is not a multiple of 21"
   ]
  },
  {
   "cell_type": "code",
   "execution_count": 13,
   "id": "ef10c3c1",
   "metadata": {},
   "outputs": [
    {
     "name": "stdout",
     "output_type": "stream",
     "text": [
      "True\n",
      "False\n",
      "True\n"
     ]
    }
   ],
   "source": [
    "def is_curzon(num):\n",
    "    # Calculate the two expressions\n",
    "    val1 = 2 ** num + 1\n",
    "    val2 = 2 * num + 1\n",
    "    # Check if val1 is divisible by val2\n",
    "    return val1 % val2 == 0\n",
    "\n",
    "# Example usage:\n",
    "if __name__ == \"__main__\":\n",
    "    print(is_curzon(5))  # Output: True\n",
    "    print(is_curzon(10))  # Output: False\n",
    "    print(is_curzon(14))  # Output: True"
   ]
  },
  {
   "cell_type": "markdown",
   "id": "b3b4b748",
   "metadata": {},
   "source": [
    "**Question 4.Given the side length x find the area of a hexagon.**"
   ]
  },
  {
   "cell_type": "code",
   "execution_count": 15,
   "id": "82aa782f",
   "metadata": {},
   "outputs": [
    {
     "name": "stdout",
     "output_type": "stream",
     "text": [
      "Enter the side length of the hexagon: 2\n",
      "Area of the hexagon: 10.392304845413264\n"
     ]
    }
   ],
   "source": [
    "import math\n",
    "\n",
    "def hexagon_area(x):\n",
    "    return (3 * math.sqrt(3) / 2) * x**2\n",
    "\n",
    "# Example usage:\n",
    "if __name__ == \"__main__\":\n",
    "    side_length = float(input(\"Enter the side length of the hexagon: \"))\n",
    "    print(f\"Area of the hexagon: {hexagon_area(side_length)}\")"
   ]
  },
  {
   "cell_type": "markdown",
   "id": "0b122704",
   "metadata": {},
   "source": [
    "**Question 5. Create a function that returns a base-2 (binary) representation of a base-10 (decimal) string number. To convert is simple: ((2) means base-2 and (10) means base-10)**\n",
    "\n",
    "- 010101001(2) = 1 + 8 + 32 + 128.\n",
    "\n",
    "Going from right to left, the value of the most right bit is 1, now from that every bit to the left\n",
    "will be x2 the value, value of an 8 bit binary numbers are (256, 128, 64, 32, 16, 8, 4, 2, 1).\n",
    "\n",
    "Examples\n",
    "- binary(1) ➞ 1;\n",
    "     - 1*1 = 1\n",
    "- binary(5) ➞ 101;\n",
    "     - 1*1 + 1*4 = 5\n",
    "- binary(10) ➞ 1010;\n",
    "    - 1*2 + 1*8 = 10"
   ]
  },
  {
   "cell_type": "code",
   "execution_count": 16,
   "id": "7aafae62",
   "metadata": {},
   "outputs": [
    {
     "name": "stdout",
     "output_type": "stream",
     "text": [
      "1\n",
      "101\n",
      "1010\n"
     ]
    }
   ],
   "source": [
    "def binary(n):\n",
    "    return bin(n)[2:]\n",
    "\n",
    "# Example usage:\n",
    "if __name__ == \"__main__\":\n",
    "    print(binary(1))    # Output: \"1\"\n",
    "    print(binary(5))    # Output: \"101\"\n",
    "    print(binary(10))   # Output: \"1010\""
   ]
  },
  {
   "cell_type": "code",
   "execution_count": null,
   "id": "c0eccaaf",
   "metadata": {},
   "outputs": [],
   "source": []
  }
 ],
 "metadata": {
  "kernelspec": {
   "display_name": "Python 3 (ipykernel)",
   "language": "python",
   "name": "python3"
  },
  "language_info": {
   "codemirror_mode": {
    "name": "ipython",
    "version": 3
   },
   "file_extension": ".py",
   "mimetype": "text/x-python",
   "name": "python",
   "nbconvert_exporter": "python",
   "pygments_lexer": "ipython3",
   "version": "3.10.9"
  }
 },
 "nbformat": 4,
 "nbformat_minor": 5
}
