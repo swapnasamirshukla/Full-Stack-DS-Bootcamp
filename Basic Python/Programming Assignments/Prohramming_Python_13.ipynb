{
 "cells": [
  {
   "cell_type": "markdown",
   "id": "29d3c5de",
   "metadata": {},
   "source": [
    "**Question 1: Write a program that calculates and prints the value according to the given formula:**\n",
    "- Q = Square root of [(2 * C * D)/H]\n",
    "- Following are the fixed values of C and H:\n",
    "- C is 50. H is 30.\n",
    "- D is the variable whose values should be input to your program in a comma-separated sequence.\n",
    "\n",
    "**Example:**\n",
    "- Let us assume the following comma separated input sequence is given to the program:\n",
    "- 100,150,180\n",
    "- The output of the program should be:\n",
    "- 18,22,24"
   ]
  },
  {
   "cell_type": "code",
   "execution_count": 27,
   "id": "f453bc1f",
   "metadata": {},
   "outputs": [
    {
     "name": "stdout",
     "output_type": "stream",
     "text": [
      "Enter comma separated values of D: 100,150,180\n",
      "18,22,24\n"
     ]
    }
   ],
   "source": [
    "import math\n",
    "\n",
    "def calculate_Q(D):\n",
    "    C = 50\n",
    "    H = 30\n",
    "    return int(math.sqrt((2 * C * D) / H))\n",
    "\n",
    "def main():\n",
    "    input_values = input(\"Enter comma separated values of D: \")\n",
    "    D_values = list(map(int, input_values.split(',')))\n",
    "    \n",
    "    Q_values = [calculate_Q(D) for D in D_values]\n",
    "    \n",
    "    print(','.join(map(str, Q_values)))\n",
    "\n",
    "if __name__ == '__main__':\n",
    "    main()"
   ]
  },
  {
   "cell_type": "markdown",
   "id": "21cf6bc1",
   "metadata": {},
   "source": [
    "**Question 2: Write a program which takes 2 digits, X,Y as input and generates a 2-dimensional array. The element value in the i-th row and j-th column of the array should be i*j.**\n",
    "\n",
    "- Note: i=0,1.., X-1; j=0,1,¡Y-1.\n",
    "- Example: Suppose the following inputs are given to the program:3,5\n",
    "- Then, the output of the program should be:[[0, 0, 0, 0, 0], [0, 1, 2, 3, 4], [0, 2, 4, 6, 8]]"
   ]
  },
  {
   "cell_type": "code",
   "execution_count": 29,
   "id": "477813a2",
   "metadata": {},
   "outputs": [
    {
     "name": "stdout",
     "output_type": "stream",
     "text": [
      "Enter two comma separated digits X,Y: 3,5\n",
      "[[0, 0, 0, 0, 0], [0, 1, 2, 3, 4], [0, 2, 4, 6, 8]]\n"
     ]
    }
   ],
   "source": [
    "def generate_2D_array(x, y):\n",
    "    return [[i*j for j in range(y)] for i in range(x)]\n",
    "\n",
    "def main():\n",
    "    input_values = input(\"Enter two comma separated digits X,Y: \")\n",
    "    X, Y = map(int, input_values.split(','))\n",
    "    \n",
    "    result = generate_2D_array(X, Y)\n",
    "    \n",
    "    print(result)\n",
    "\n",
    "if __name__ == '__main__':\n",
    "    main()"
   ]
  },
  {
   "cell_type": "markdown",
   "id": "b814ede6",
   "metadata": {},
   "source": [
    "**Question 3: Write a program that accepts a comma separated sequence of words as input and prints the words in a comma-separated sequence after sorting them alphabetically.**\n",
    "\n",
    "- Suppose the following input is supplied to the program: without,hello,bag,world\n",
    "- Then, the output should be: bag,hello,without,world"
   ]
  },
  {
   "cell_type": "code",
   "execution_count": 30,
   "id": "5c9491af",
   "metadata": {},
   "outputs": [
    {
     "name": "stdout",
     "output_type": "stream",
     "text": [
      "Enter comma separated words: without,hello,bag,world\n",
      "bag,hello,without,world\n"
     ]
    }
   ],
   "source": [
    "def main():\n",
    "    words = input(\"Enter comma separated words: \").split(',')\n",
    "    sorted_words = sorted(words)\n",
    "    \n",
    "    print(','.join(sorted_words))\n",
    "\n",
    "if __name__ == '__main__':\n",
    "    main()"
   ]
  },
  {
   "cell_type": "markdown",
   "id": "a93d63b3",
   "metadata": {},
   "source": [
    "**Question 4: Write a program that accepts a sequence of whitespace separated words as input and prints the words after removing all duplicate words and sorting them alphanumerically.**\n",
    "\n",
    "- Suppose the following input is supplied to the program: hello world and practice makes perfect and hello world again\n",
    "- Then, the output should be: again and hello makes perfect practice world"
   ]
  },
  {
   "cell_type": "code",
   "execution_count": 33,
   "id": "39f0f007",
   "metadata": {},
   "outputs": [
    {
     "name": "stdout",
     "output_type": "stream",
     "text": [
      "Enter whitespace separated words: hello world and practice makes perfect and hello world again\n",
      "again and hello makes perfect practice world\n"
     ]
    }
   ],
   "source": [
    "def main():\n",
    "    words = input(\"Enter whitespace separated words: \").split(' ')\n",
    "    words_no_dup = list(set(words))\n",
    "    sorted_words = sorted(words_no_dup)\n",
    "    \n",
    "    print(' '.join(sorted_words))\n",
    "\n",
    "if __name__ == '__main__':\n",
    "    main()"
   ]
  },
  {
   "cell_type": "markdown",
   "id": "ce07967d",
   "metadata": {},
   "source": [
    "**Question 5: Write a program that accepts a sentence and calculate the number of letters and digits.**\n",
    "\n",
    "Suppose the following input is supplied to the program: hello world! 123\n",
    "\n",
    "Then, the output should be:\n",
    "- LETTERS 10\n",
    "- DIGITS 3"
   ]
  },
  {
   "cell_type": "code",
   "execution_count": 34,
   "id": "20d5fc49",
   "metadata": {},
   "outputs": [
    {
     "name": "stdout",
     "output_type": "stream",
     "text": [
      "Enter a sentence: hello world! 123\n",
      "LETTERS 10\n",
      "DIGITS 3\n"
     ]
    }
   ],
   "source": [
    "def count_letters_and_digits(s):\n",
    "    letters, digits = 0, 0\n",
    "    \n",
    "    for char in s:\n",
    "        if char.isdigit():\n",
    "            digits += 1\n",
    "        elif char.isalpha():\n",
    "            letters += 1\n",
    "            \n",
    "    return letters, digits\n",
    "\n",
    "def main():\n",
    "    sentence = input(\"Enter a sentence: \")\n",
    "    letters, digits = count_letters_and_digits(sentence)\n",
    "    \n",
    "    print(\"LETTERS\", letters)\n",
    "    print(\"DIGITS\", digits)\n",
    "\n",
    "if __name__ == '__main__':\n",
    "    main()"
   ]
  },
  {
   "cell_type": "markdown",
   "id": "754ca7fe",
   "metadata": {},
   "source": [
    "**Question 6: A website requires the users to input username and password to register. Write a program to\n",
    "check the validity of password input by users.**\n",
    "\n",
    "Following are the criteria for checking the password:\n",
    "1. At least 1 letter between [a-z]\n",
    "2. At least 1 number between [0-9]\n",
    "1. At least 1 letter between [A-Z]\n",
    "3. At least 1 character from [$#@]\n",
    "4. Minimum length of transaction password: 6\n",
    "5. Maximum length of transaction password: 12\n",
    "\n",
    "Your program should accept a sequence of comma separated passwords and will check them according to the above criteria. \n",
    "\n",
    "Passwords that match the criteria are to be printed, each separated by a comma.\n",
    "\n",
    "Example:\n",
    "- If the following passwords are given as input to the program: ABd1234@1,a F1#,2w3E*,2We3345\n",
    "- Then, the output of the program should be: ABd1234@1"
   ]
  },
  {
   "cell_type": "code",
   "execution_count": 35,
   "id": "d802d541",
   "metadata": {},
   "outputs": [
    {
     "name": "stdout",
     "output_type": "stream",
     "text": [
      "Enter comma separated passwords: ABd1234@1,a F1#,2w3E*,2We3345\n",
      "ABd1234@1\n"
     ]
    }
   ],
   "source": [
    "import re\n",
    "\n",
    "def is_valid_password(password):\n",
    "    # Check the length of password\n",
    "    if 6 <= len(password) <= 12:\n",
    "        # Check if all conditions are met\n",
    "        if (re.search(\"[a-z]\", password) and  # At least 1 lowercase letter\n",
    "                re.search(\"[A-Z]\", password) and  # At least 1 uppercase letter\n",
    "                re.search(\"[0-9]\", password) and  # At least 1 digit\n",
    "                re.search(\"[$#@]\", password)):   # At least 1 special character\n",
    "            return True\n",
    "    return False\n",
    "\n",
    "def main():\n",
    "    passwords = input(\"Enter comma separated passwords: \").split(',')\n",
    "    valid_passwords = [password for password in passwords if is_valid_password(password)]\n",
    "    \n",
    "    print(','.join(valid_passwords))\n",
    "\n",
    "if __name__ == '__main__':\n",
    "    main()"
   ]
  },
  {
   "cell_type": "code",
   "execution_count": null,
   "id": "6a89152c",
   "metadata": {},
   "outputs": [],
   "source": []
  }
 ],
 "metadata": {
  "kernelspec": {
   "display_name": "Python 3 (ipykernel)",
   "language": "python",
   "name": "python3"
  },
  "language_info": {
   "codemirror_mode": {
    "name": "ipython",
    "version": 3
   },
   "file_extension": ".py",
   "mimetype": "text/x-python",
   "name": "python",
   "nbconvert_exporter": "python",
   "pygments_lexer": "ipython3",
   "version": "3.10.9"
  }
 },
 "nbformat": 4,
 "nbformat_minor": 5
}
