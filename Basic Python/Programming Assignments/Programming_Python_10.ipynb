{
 "cells": [
  {
   "cell_type": "markdown",
   "id": "b93efdf9",
   "metadata": {},
   "source": [
    "### 1. Write a Python program to find sum of elements in list?"
   ]
  },
  {
   "cell_type": "code",
   "execution_count": 2,
   "id": "22ecbc89",
   "metadata": {},
   "outputs": [
    {
     "name": "stdout",
     "output_type": "stream",
     "text": [
      "71\n"
     ]
    }
   ],
   "source": [
    "import functools\n",
    "lst = [21,1,6,9,34]\n",
    "print(functools.reduce(lambda x,y:x+y,lst))"
   ]
  },
  {
   "cell_type": "markdown",
   "id": "8482e1d3",
   "metadata": {},
   "source": [
    "### 2. Write a Python program to Multiply all numbers in the list?"
   ]
  },
  {
   "cell_type": "code",
   "execution_count": 3,
   "id": "16f88bf4",
   "metadata": {},
   "outputs": [
    {
     "name": "stdout",
     "output_type": "stream",
     "text": [
      "24\n"
     ]
    }
   ],
   "source": [
    "import functools\n",
    "lst = [1,2,3,4]\n",
    "print(functools.reduce(lambda x,y:x*y,lst))"
   ]
  },
  {
   "cell_type": "markdown",
   "id": "fa533b1d",
   "metadata": {},
   "source": [
    "### 3. Write a Python program to find smallest number in a list?"
   ]
  },
  {
   "cell_type": "code",
   "execution_count": 4,
   "id": "196573cb",
   "metadata": {},
   "outputs": [
    {
     "name": "stdout",
     "output_type": "stream",
     "text": [
      "1\n"
     ]
    }
   ],
   "source": [
    "import functools\n",
    "lst = [21,1,6,9,34]\n",
    "print(min(lst))"
   ]
  },
  {
   "cell_type": "markdown",
   "id": "2ba0dba5",
   "metadata": {},
   "source": [
    "### 4. Write a Python program to find largest number in a list?"
   ]
  },
  {
   "cell_type": "code",
   "execution_count": 5,
   "id": "c5c303d1",
   "metadata": {},
   "outputs": [
    {
     "name": "stdout",
     "output_type": "stream",
     "text": [
      "34\n"
     ]
    }
   ],
   "source": [
    "import functools\n",
    "lst = [21,1,6,9,34]\n",
    "print(max(lst))"
   ]
  },
  {
   "cell_type": "markdown",
   "id": "d1aebeb7",
   "metadata": {},
   "source": [
    "### 5. Write a Python program to find second largest number in a list?"
   ]
  },
  {
   "cell_type": "code",
   "execution_count": 6,
   "id": "f062313b",
   "metadata": {},
   "outputs": [
    {
     "name": "stdout",
     "output_type": "stream",
     "text": [
      "4\n",
      "List doesn't have enough unique elements to find the second largest number.\n",
      "4\n",
      "List doesn't have enough unique elements to find the second largest number.\n",
      "List doesn't have enough unique elements to find the second largest number.\n"
     ]
    }
   ],
   "source": [
    "def find_second_largest(lst):\n",
    "    # Sort the list\n",
    "    lst.sort()\n",
    "    \n",
    "    # Remove duplicates by converting to a set and back to a list\n",
    "    unique_lst = list(set(lst))\n",
    "    \n",
    "    # Sort the list again after removing duplicates\n",
    "    unique_lst.sort()\n",
    "    \n",
    "    # Check if the list has at least two unique elements\n",
    "    if len(unique_lst) < 2:\n",
    "        return \"List doesn't have enough unique elements to find the second largest number.\"\n",
    "    \n",
    "    # The last element is the largest, the second to last is the second largest\n",
    "    return unique_lst[-2]\n",
    "\n",
    "# Test the function\n",
    "print(find_second_largest([1, 2, 3, 4, 5]))  # Output should be 4\n",
    "print(find_second_largest([1, 1, 1, 1]))    # Output should indicate not enough unique elements\n",
    "print(find_second_largest([5, 5, 4, 4, 3])) # Output should be 4\n",
    "print(find_second_largest([10]))            # Output should indicate not enough unique elements\n",
    "print(find_second_largest([]))              # Output should indicate not enough unique elements\n"
   ]
  },
  {
   "cell_type": "markdown",
   "id": "c34ab9bb",
   "metadata": {},
   "source": [
    "### 6. Write a Python program to find N largest elements from a list?"
   ]
  },
  {
   "cell_type": "code",
   "execution_count": 7,
   "id": "4eac118a",
   "metadata": {},
   "outputs": [
    {
     "name": "stdout",
     "output_type": "stream",
     "text": [
      "[5, 4]\n",
      "List doesn't have enough unique elements to find 2 largest numbers.\n",
      "[5, 4]\n"
     ]
    }
   ],
   "source": [
    "import heapq\n",
    "\n",
    "def find_n_largest_heapq(lst, n):\n",
    "    # Remove duplicates by converting to a set\n",
    "    unique_lst = set(lst)\n",
    "    \n",
    "    # Check if the list has at least n unique elements\n",
    "    if len(unique_lst) < n:\n",
    "        return f\"List doesn't have enough unique elements to find {n} largest numbers.\"\n",
    "    \n",
    "    # Use heapq's nlargest function to find the N largest elements\n",
    "    return heapq.nlargest(n, unique_lst)\n",
    "\n",
    "# Test the function\n",
    "print(find_n_largest_heapq([1, 2, 3, 4, 5], 2))  # Output should be [5, 4]\n",
    "print(find_n_largest_heapq([1, 1, 1, 1], 2))    # Output should indicate not enough unique elements\n",
    "print(find_n_largest_heapq([5, 5, 4, 4, 3], 2)) # Output should be [5, 4]"
   ]
  },
  {
   "cell_type": "markdown",
   "id": "270692f0",
   "metadata": {},
   "source": [
    "### 7. Write a Python program to print even numbers in a list?"
   ]
  },
  {
   "cell_type": "code",
   "execution_count": 9,
   "id": "f0f77738",
   "metadata": {},
   "outputs": [
    {
     "name": "stdout",
     "output_type": "stream",
     "text": [
      "[2, 4]\n"
     ]
    }
   ],
   "source": [
    "lst = [1, 2, 3, 4, 5]\n",
    "print([x for x in lst if x%2==0])"
   ]
  },
  {
   "cell_type": "markdown",
   "id": "2c2de2dd",
   "metadata": {},
   "source": [
    "### 8. Write a Python program to print even numbers in a list?"
   ]
  },
  {
   "cell_type": "code",
   "execution_count": 10,
   "id": "0f24ce30",
   "metadata": {},
   "outputs": [
    {
     "name": "stdout",
     "output_type": "stream",
     "text": [
      "[1, 3, 5]\n"
     ]
    }
   ],
   "source": [
    "lst = [1, 2, 3, 4, 5]\n",
    "print([x for x in lst if x%2!=0])"
   ]
  },
  {
   "cell_type": "markdown",
   "id": "b282cc1d",
   "metadata": {},
   "source": [
    "### 9. Write a Python program to Remove empty List from List?"
   ]
  },
  {
   "cell_type": "code",
   "execution_count": 11,
   "id": "15ae4e89",
   "metadata": {},
   "outputs": [
    {
     "name": "stdout",
     "output_type": "stream",
     "text": [
      "[1, 2, 3, 4]\n"
     ]
    }
   ],
   "source": [
    "def remove_empty_lists(lst):\n",
    "    return [x for x in lst if x != []]\n",
    "\n",
    "# Test the function\n",
    "print(remove_empty_lists([1, 2, [], 3, [], [], 4]))  # Output should be [1, 2, 3, 4]\n"
   ]
  },
  {
   "cell_type": "markdown",
   "id": "29e8c381",
   "metadata": {},
   "source": [
    "### 10. Write a Python program to Cloning or Copying a list?"
   ]
  },
  {
   "cell_type": "code",
   "execution_count": 12,
   "id": "68f877ba",
   "metadata": {},
   "outputs": [
    {
     "name": "stdout",
     "output_type": "stream",
     "text": [
      "Original List: [1, 2, 3, 4, 5]\n",
      "Cloned List: [1, 2, 3, 4, 5]\n"
     ]
    }
   ],
   "source": [
    "def clone_list_copy(lst):\n",
    "    return lst.copy()\n",
    "\n",
    "# Test the function\n",
    "original_list = [1, 2, 3, 4, 5]\n",
    "cloned_list = clone_list_copy(original_list)\n",
    "print(\"Original List:\", original_list)\n",
    "print(\"Cloned List:\", cloned_list)"
   ]
  },
  {
   "cell_type": "markdown",
   "id": "56a92d48",
   "metadata": {},
   "source": [
    "### 11. Write a Python program to Count occurrences of an element in a list?"
   ]
  },
  {
   "cell_type": "code",
   "execution_count": 13,
   "id": "fdc43a4a",
   "metadata": {},
   "outputs": [
    {
     "name": "stdout",
     "output_type": "stream",
     "text": [
      "3\n"
     ]
    }
   ],
   "source": [
    "def count_occurrences(lst, element):\n",
    "    return lst.count(element)\n",
    "\n",
    "# Test the function\n",
    "print(count_occurrences([1, 2, 3, 4, 3, 5, 6, 3], 3))  # Output should be 3"
   ]
  },
  {
   "cell_type": "code",
   "execution_count": null,
   "id": "625070fc",
   "metadata": {},
   "outputs": [],
   "source": []
  }
 ],
 "metadata": {
  "kernelspec": {
   "display_name": "Python 3 (ipykernel)",
   "language": "python",
   "name": "python3"
  },
  "language_info": {
   "codemirror_mode": {
    "name": "ipython",
    "version": 3
   },
   "file_extension": ".py",
   "mimetype": "text/x-python",
   "name": "python",
   "nbconvert_exporter": "python",
   "pygments_lexer": "ipython3",
   "version": "3.10.9"
  }
 },
 "nbformat": 4,
 "nbformat_minor": 5
}
