{
 "cells": [
  {
   "cell_type": "markdown",
   "id": "90c63c24",
   "metadata": {},
   "source": [
    "**Question 1:Please write a program using generator to print the numbers which can be divisible by 5 and 7 between 0 and n in comma separated form while n is input by console.**\n",
    "\n",
    "- Example: If the following n is given as input to the program:100\n",
    "- Then, the output of the program should be:0,35,70"
   ]
  },
  {
   "cell_type": "code",
   "execution_count": 1,
   "id": "e1678140",
   "metadata": {},
   "outputs": [
    {
     "name": "stdout",
     "output_type": "stream",
     "text": [
      "Enter the value of n: 100\n",
      "0,35,70\n"
     ]
    }
   ],
   "source": [
    "def generate_numbers(n):\n",
    "    for i in range(n+1):\n",
    "        if i % 5 == 0 and i % 7 == 0:\n",
    "            yield i\n",
    "\n",
    "if __name__ == \"__main__\":\n",
    "    n = int(input(\"Enter the value of n: \"))\n",
    "    result = list(generate_numbers(n))\n",
    "    print(','.join(map(str, result)))"
   ]
  },
  {
   "cell_type": "markdown",
   "id": "1f7e11c9",
   "metadata": {},
   "source": [
    "**Question 2:-Please write a program using generator to print the even numbers between 0 and n in comma separated form while n is input by console.**\n",
    "\n",
    "- Example:If the following n is given as input to the program:10\n",
    "- Then, the output of the program should be:0,2,4,6,8,10"
   ]
  },
  {
   "cell_type": "code",
   "execution_count": 2,
   "id": "8b9e741e",
   "metadata": {},
   "outputs": [
    {
     "name": "stdout",
     "output_type": "stream",
     "text": [
      "Enter the value of n: 10\n",
      "0,2,4,6,8,10\n"
     ]
    }
   ],
   "source": [
    "def generate_even_numbers(n):\n",
    "    for i in range(n+1):\n",
    "        if i % 2 == 0:\n",
    "            yield i\n",
    "\n",
    "if __name__ == \"__main__\":\n",
    "    n = int(input(\"Enter the value of n: \"))\n",
    "    result = list(generate_even_numbers(n))\n",
    "    print(','.join(map(str, result)))"
   ]
  },
  {
   "cell_type": "markdown",
   "id": "a966f1a9",
   "metadata": {},
   "source": [
    "**Question 3: The Fibonacci Sequence is computed based on the following formula:**\n",
    "\n",
    "- f(n)=0 if n=0\n",
    "- f(n)=1 if n=1\n",
    "- f(n)=f(n-1)+f(n-2) if n > 1\n",
    "\n",
    "Please write a program using list comprehension to print the Fibonacci Sequence in comma separated form with a given n input by console.\n",
    "\n",
    "- Example:If the following n is given as input to the program:7\n",
    "- Then, the output of the program should be:0,1,1,2,3,5,8,13"
   ]
  },
  {
   "cell_type": "code",
   "execution_count": 8,
   "id": "214b0491",
   "metadata": {},
   "outputs": [
    {
     "name": "stdout",
     "output_type": "stream",
     "text": [
      "Enter the value of n: 7\n",
      "0,1,1,2,3,5,8,13\n"
     ]
    }
   ],
   "source": [
    "def fibonacci(n):\n",
    "    if n==0:\n",
    "        return 0\n",
    "    elif n==1:\n",
    "        return 1\n",
    "    else:\n",
    "        return fibonacci(n-1)+fibonacci(n-2)\n",
    "if __name__ == \"__main__\":\n",
    "    n = int(input(\"Enter the value of n: \"))\n",
    "    result = [fibonacci(i) for i in range(n+1)]\n",
    "    print(','.join(map(str, result)))"
   ]
  },
  {
   "cell_type": "markdown",
   "id": "5ebd1cdb",
   "metadata": {},
   "source": [
    "**Question 4: Assuming that we have some email addresses in the username@companyname.com format, please write program to print the user name of a given email address. Both user names and company names are composed of letters only.**\n",
    "\n",
    "- Example: If the following email address is given as input to the program: john@google.com\n",
    "- Then, the output of the program should be:john"
   ]
  },
  {
   "cell_type": "code",
   "execution_count": 9,
   "id": "030c51ec",
   "metadata": {},
   "outputs": [
    {
     "name": "stdout",
     "output_type": "stream",
     "text": [
      "Enter the email address: john@google.com\n",
      "john\n"
     ]
    }
   ],
   "source": [
    "def extract_username(email):\n",
    "    return email.split('@')[0]\n",
    "\n",
    "if __name__ == \"__main__\":\n",
    "    email = input(\"Enter the email address: \")\n",
    "    print(extract_username(email))"
   ]
  },
  {
   "cell_type": "markdown",
   "id": "d6e41d5f",
   "metadata": {},
   "source": [
    "**Question 5: Define a class named Shape and its subclass Square. The Square class has an init function which takes a length as argument. Both classes have a area function which can print the area of the shape where Shape's area is 0 by default.**"
   ]
  },
  {
   "cell_type": "code",
   "execution_count": 10,
   "id": "fd17dcc5",
   "metadata": {},
   "outputs": [
    {
     "name": "stdout",
     "output_type": "stream",
     "text": [
      "Area of shape: 0\n",
      "Area of square with length 5: 25\n"
     ]
    }
   ],
   "source": [
    "class Shape:\n",
    "    def area(self):\n",
    "        return 0\n",
    "\n",
    "class Square(Shape):\n",
    "    def __init__(self, length):\n",
    "        self.length = length\n",
    "\n",
    "    def area(self):\n",
    "        return self.length * self.length\n",
    "\n",
    "# Example usage:\n",
    "if __name__ == \"__main__\":\n",
    "    shape = Shape()\n",
    "    print(f\"Area of shape: {shape.area()}\")\n",
    "\n",
    "    square = Square(5)\n",
    "    print(f\"Area of square with length 5: {square.area()}\")"
   ]
  },
  {
   "cell_type": "code",
   "execution_count": null,
   "id": "8edc1ed9",
   "metadata": {},
   "outputs": [],
   "source": []
  }
 ],
 "metadata": {
  "kernelspec": {
   "display_name": "Python 3 (ipykernel)",
   "language": "python",
   "name": "python3"
  },
  "language_info": {
   "codemirror_mode": {
    "name": "ipython",
    "version": 3
   },
   "file_extension": ".py",
   "mimetype": "text/x-python",
   "name": "python",
   "nbconvert_exporter": "python",
   "pygments_lexer": "ipython3",
   "version": "3.10.9"
  }
 },
 "nbformat": 4,
 "nbformat_minor": 5
}
