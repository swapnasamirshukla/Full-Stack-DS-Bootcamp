{
 "cells": [
  {
   "cell_type": "markdown",
   "id": "a4461c8c",
   "metadata": {},
   "source": [
    "**Question1: Create a function that takes a string and returns a string in which each character is repeated once.**\n",
    "\n",
    "- Examples\n",
    "- double_char(&quot;String&quot;) ➞ &quot;SSttrriinngg&quot;\n",
    "- double_char(&quot;Hello World!&quot;) ➞ &quot;HHeelllloo WWoorrlldd!!&quot;\n",
    "- double_char(&quot;1234!_ &quot;) ➞ &quot;11223344!!__ &quot;"
   ]
  },
  {
   "cell_type": "code",
   "execution_count": 1,
   "id": "54796912",
   "metadata": {},
   "outputs": [
    {
     "name": "stdout",
     "output_type": "stream",
     "text": [
      "SSttrriinngg\n",
      "HHeelllloo  WWoorrlldd!!\n",
      "11223344!!__  \n"
     ]
    }
   ],
   "source": [
    "def double_char(s):\n",
    "    # Initialize an empty string to hold the result\n",
    "    result = ''\n",
    "    \n",
    "    # Go through each character in the string\n",
    "    for char in s:\n",
    "        # Add each character twice to the result string\n",
    "        result += char * 2\n",
    "    \n",
    "    # Return the final doubled string\n",
    "    return result\n",
    "\n",
    "# Test the function with the provided examples\n",
    "test1 = double_char(\"String\")  # \"SSttrriinngg\"\n",
    "test2 = double_char(\"Hello World!\")  # \"HHeelllloo WWoorrlldd!!\"\n",
    "test3 = double_char(\"1234!_ \")  # \"11223344!!__ \"\n",
    "\n",
    "print(test1)\n",
    "print(test2)\n",
    "print(test3)"
   ]
  },
  {
   "cell_type": "markdown",
   "id": "3934410c",
   "metadata": {},
   "source": [
    "**Question2: Create a function that reverses a boolean value and returns the string &quot;boolean expected&quot; if another variable type is given.**\n",
    "\n",
    "Examples\n",
    "- reverse(True) ➞ False\n",
    "- reverse(False) ➞ True\n",
    "- reverse(0) ➞ &quot;boolean expected&quot;\n",
    "- reverse(None) ➞ &quot;boolean expected&quot;"
   ]
  },
  {
   "cell_type": "code",
   "execution_count": 2,
   "id": "80304b69",
   "metadata": {},
   "outputs": [
    {
     "name": "stdout",
     "output_type": "stream",
     "text": [
      "False\n",
      "True\n",
      "boolean expected\n",
      "boolean expected\n"
     ]
    }
   ],
   "source": [
    "def reverse(value):\n",
    "    # Check if the value is exactly True or False\n",
    "    if value is True:\n",
    "        return False\n",
    "    elif value is False:\n",
    "        return True\n",
    "    else:\n",
    "        # If value is neither True nor False, return the error message\n",
    "        return \"boolean expected\"\n",
    "\n",
    "# Test the function with the provided examples\n",
    "test1 = reverse(True)  # Should return False\n",
    "test2 = reverse(False)  # Should return True\n",
    "test3 = reverse(0)  # Should return \"boolean expected\"\n",
    "test4 = reverse(None)  # Should return \"boolean expected\"\n",
    "\n",
    "print(test1)\n",
    "print(test2)\n",
    "print(test3)\n",
    "print(test4)"
   ]
  },
  {
   "cell_type": "markdown",
   "id": "8bcf9de7",
   "metadata": {},
   "source": [
    "**Question3 : Create a function that returns the thickness (in meters) of a piece of paper after folding it n number of times. The paper starts off with a thickness of 0.5mm.**\n",
    "\n",
    "- Examples\n",
    "- num_layers(1) ➞ &quot;0.001m&quot;\n",
    "#### Paper folded once is 1mm (equal to 0.001m)\n",
    "- num_layers(4) ➞ &quot;0.008m&quot;\n",
    "#### Paper folded 4 times is 8mm (equal to 0.008m)\n",
    "- num_layers(21) ➞ &quot;1048.576m&quot;\n",
    "#### Paper folded 21 times is 1048576mm (equal to 1048.576m)"
   ]
  },
  {
   "cell_type": "code",
   "execution_count": 3,
   "id": "3d368e86",
   "metadata": {},
   "outputs": [
    {
     "name": "stdout",
     "output_type": "stream",
     "text": [
      "0.001m\n",
      "0.008m\n",
      "1048.576m\n"
     ]
    }
   ],
   "source": [
    "def num_layers(n):\n",
    "    # The thickness of the paper when folded n times\n",
    "    # is 2^n times the original thickness (0.5mm).\n",
    "    thickness_mm = 0.5 * (2 ** n)\n",
    "\n",
    "    # Convert the thickness from millimeters to meters\n",
    "    thickness_m = thickness_mm / 1000  # as there are 1000mm in 1 meter\n",
    "\n",
    "    # Format the result to a string and return\n",
    "    return \"{:.3f}m\".format(thickness_m)\n",
    "\n",
    "# Test the function with the provided examples\n",
    "test1 = num_layers(1)  # \"0.001m\"\n",
    "test2 = num_layers(4)  # \"0.008m\"\n",
    "test3 = num_layers(21)  # \"1048.576m\"\n",
    "\n",
    "print(test1)\n",
    "print(test2)\n",
    "print(test3)"
   ]
  },
  {
   "cell_type": "markdown",
   "id": "8719c05f",
   "metadata": {},
   "source": [
    "**Question4 Create a function that takes a single string as argument and returns an ordered list containing the indices of all capital letters in the string.**\n",
    "\n",
    "Examples\n",
    "- index_of_caps(&quot;eDaBiT&quot;) ➞ [1, 3, 5]\n",
    "- index_of_caps(&quot;eQuINoX&quot;) ➞ [1, 3, 4, 6]\n",
    "- index_of_caps(&quot;determine&quot;) ➞ []\n",
    "- index_of_caps(&quot;STRIKE&quot;) ➞ [0, 1, 2, 3, 4, 5]\n",
    "- index_of_caps(&quot;sUn&quot;) ➞ [1]"
   ]
  },
  {
   "cell_type": "code",
   "execution_count": 4,
   "id": "f4c2e4c9",
   "metadata": {},
   "outputs": [
    {
     "name": "stdout",
     "output_type": "stream",
     "text": [
      "[1, 3, 5]\n",
      "[1, 3, 4, 6]\n",
      "[]\n",
      "[0, 1, 2, 3, 4, 5]\n",
      "[1]\n"
     ]
    }
   ],
   "source": [
    "def index_of_caps(word):\n",
    "    # List comprehension to store indices of capital letters\n",
    "    indices = [i for i, char in enumerate(word) if char.isupper()]\n",
    "    return indices\n",
    "\n",
    "# Test the function with the provided examples\n",
    "test1 = index_of_caps(\"eDaBiT\")      # [1, 3, 5]\n",
    "test2 = index_of_caps(\"eQuINoX\")     # [1, 3, 4, 6]\n",
    "test3 = index_of_caps(\"determine\")   # []\n",
    "test4 = index_of_caps(\"STRIKE\")      # [0, 1, 2, 3, 4, 5]\n",
    "test5 = index_of_caps(\"sUn\")         # [1]\n",
    "\n",
    "print(test1)\n",
    "print(test2)\n",
    "print(test3)\n",
    "print(test4)\n",
    "print(test5)"
   ]
  },
  {
   "cell_type": "markdown",
   "id": "0a3270df",
   "metadata": {},
   "source": [
    "**Question5 Using list comprehensions, create a function that finds all even numbers from 1 to the given number.**\n",
    "\n",
    "Examples\n",
    "- find_even_nums(8) ➞ [2, 4, 6, 8]\n",
    "- find_even_nums(4) ➞ [2, 4]\n",
    "- find_even_nums(2) ➞ [2]"
   ]
  },
  {
   "cell_type": "code",
   "execution_count": 5,
   "id": "49825182",
   "metadata": {},
   "outputs": [
    {
     "name": "stdout",
     "output_type": "stream",
     "text": [
      "[2, 4, 6, 8]\n",
      "[2, 4]\n",
      "[2]\n"
     ]
    }
   ],
   "source": [
    "def find_even_nums(num):\n",
    "    # List comprehension to generate a list of even numbers up to num\n",
    "    even_nums = [i for i in range(1, num + 1) if i % 2 == 0]\n",
    "    return even_nums\n",
    "\n",
    "# Test the function with the provided examples\n",
    "test1 = find_even_nums(8)  # [2, 4, 6, 8]\n",
    "test2 = find_even_nums(4)  # [2, 4]\n",
    "test3 = find_even_nums(2)  # [2]\n",
    "\n",
    "print(test1)\n",
    "print(test2)\n",
    "print(test3)"
   ]
  },
  {
   "cell_type": "code",
   "execution_count": null,
   "id": "32044b9d",
   "metadata": {},
   "outputs": [],
   "source": []
  }
 ],
 "metadata": {
  "kernelspec": {
   "display_name": "Python 3 (ipykernel)",
   "language": "python",
   "name": "python3"
  },
  "language_info": {
   "codemirror_mode": {
    "name": "ipython",
    "version": 3
   },
   "file_extension": ".py",
   "mimetype": "text/x-python",
   "name": "python",
   "nbconvert_exporter": "python",
   "pygments_lexer": "ipython3",
   "version": "3.10.9"
  }
 },
 "nbformat": 4,
 "nbformat_minor": 5
}
