{
 "cells": [
  {
   "cell_type": "markdown",
   "id": "8ed78250",
   "metadata": {},
   "source": [
    "**Question 1:** What does an empty dictionary's code look like?  \n",
    "**Answer 1:** An empty dictionary is represented using curly braces with no key-value pairs inside: `{}`.\n",
    "\n",
    "**Question 2:** What is the value of a dictionary value with the key 'foo' and the value 42?  \n",
    "**Answer 2:** The value associated with the key 'foo' is `42` in the dictionary.\n",
    "\n",
    "**Question 3:** What is the most significant distinction between a dictionary and a list?  \n",
    "**Answer 3:** The most significant distinction between a dictionary and a list is that a dictionary stores key-value pairs, allowing you to access values using keys, while a list stores an ordered collection of items that can be accessed using indices.\n",
    "\n",
    "**Question 4:** What happens if you try to access `spam['foo']` if `spam` is `{'bar': 100}`?  \n",
    "**Answer 4:** If you try to access `spam['foo']` and 'foo' is not a key in the dictionary `spam`, you will get a `KeyError` because the key 'foo' does not exist in the dictionary.\n",
    "\n",
    "**Question 5:** If a dictionary is stored in `spam`, what is the difference between the expressions `'cat' in spam` and `'cat' in spam.keys()`?  \n",
    "**Answer 5:** Both expressions will check if the key `'cat'` exists in the dictionary `spam`. There is no practical difference between the two expressions; they will produce the same result.\n",
    "\n",
    "**Question 6:** If a dictionary is stored in `spam`, what is the difference between the expressions `'cat' in spam` and `'cat' in spam.values()`?  \n",
    "**Answer 6:** `'cat' in spam` checks if the key `'cat'` exists in the dictionary `spam`, whereas `'cat' in spam.values()` checks if the value `'cat'` exists as a value in any of the dictionary's key-value pairs. The former checks keys, while the latter checks values.\n",
    "\n",
    "**Question 7:** What is a shortcut for the following code?\n",
    "```python\n",
    "if 'color' not in spam:\n",
    "    spam['color'] = 'black'\n",
    "```\n",
    "**Answer 7:** A shortcut for the given code is to use the `setdefault()` method:\n",
    "```python\n",
    "spam.setdefault('color', 'black')\n",
    "```\n",
    "\n",
    "**Question 8:** How do you \"pretty print\" dictionary values using which module and function?  \n",
    "**Answer 8:** You can \"pretty print\" dictionary values using the `pprint` module's `pprint()` function. To use it, you first need to import the `pprint` module and then call the `pprint()` function, passing the dictionary as an argument:\n",
    "```python\n",
    "import pprint\n",
    "\n",
    "my_dict = {'a': 1, 'b': 2, 'c': 3}\n",
    "pprint.pprint(my_dict)\n",
    "```"
   ]
  },
  {
   "cell_type": "code",
   "execution_count": null,
   "id": "b5aa0018",
   "metadata": {},
   "outputs": [],
   "source": []
  }
 ],
 "metadata": {
  "kernelspec": {
   "display_name": "Python 3 (ipykernel)",
   "language": "python",
   "name": "python3"
  },
  "language_info": {
   "codemirror_mode": {
    "name": "ipython",
    "version": 3
   },
   "file_extension": ".py",
   "mimetype": "text/x-python",
   "name": "python",
   "nbconvert_exporter": "python",
   "pygments_lexer": "ipython3",
   "version": "3.10.9"
  }
 },
 "nbformat": 4,
 "nbformat_minor": 5
}
