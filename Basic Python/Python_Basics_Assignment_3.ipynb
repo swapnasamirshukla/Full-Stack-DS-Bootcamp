{
 "cells": [
  {
   "cell_type": "markdown",
   "id": "8c24e197",
   "metadata": {},
   "source": [
    "1. **Why are functions advantageous to have in your programs?**\n",
    "\n",
    "   **Answer:** Functions are advantageous in programs because they promote code reusability, modularity, and organization. They allow you to break down complex tasks into smaller, manageable parts, making your code easier to understand, maintain, and debug.\n",
    "\n",
    "2. **When does the code in a function run: when it's specified or when it's called?**\n",
    "\n",
    "   **Answer:** The code in a function runs when the function is called (invoked), not when it's specified (defined).\n",
    "\n",
    "3. **What statement creates a function?**\n",
    "\n",
    "   **Answer:** The `def` statement creates a function in Python.\n",
    "\n",
    "4. **What is the difference between a function and a function call?**\n",
    "\n",
    "   **Answer:** A function is a block of code designed to perform a specific task, while a function call is the action of executing that code by using the function's name followed by parentheses.\n",
    "\n",
    "5. **How many global scopes are there in a Python program? How many local scopes?**\n",
    "\n",
    "   **Answer:** There is only one global scope in a Python program. Local scopes can be multiple, one for each function call.\n",
    "\n",
    "6. **What happens to variables in a local scope when the function call returns?**\n",
    "\n",
    "   **Answer:** Variables in a local scope cease to exist once the function call returns. They are destroyed, and their values are no longer accessible.\n",
    "\n",
    "7. **What is the concept of a return value? Is it possible to have a return value in an expression?**\n",
    "\n",
    "   **Answer:** A return value is the value that a function sends back to the caller. Yes, it's possible to use a return value in an expression, allowing you to perform operations on the returned value directly.\n",
    "\n",
    "8. **If a function does not have a return statement, what is the return value of a call to that function?**\n",
    "\n",
    "   **Answer:** If a function does not have a return statement, the return value of a call to that function will be `None`.\n",
    "\n",
    "9. **How do you make a function variable refer to the global variable?**\n",
    "\n",
    "   **Answer:** To make a function variable refer to the global variable, you need to use the `global` keyword before the variable name inside the function.\n",
    "\n",
    "10. **What is the data type of None?**\n",
    "\n",
    "    **Answer:** The data type of `None` is `NoneType`.\n",
    "\n",
    "11. **What does the sentence `import areallyourpetsnamederic` do?**\n",
    "\n",
    "    **Answer:** The sentence doesn't have any standard meaning in Python. It seems to be a playful statement and doesn't have a defined Python module to import. It throws a ModuleNotFoundError. \n",
    "\n",
    "12. **If you had a `bacon()` feature in a `spam` module, what would you call it after importing `spam`?**\n",
    "\n",
    "    **Answer:** You would call the `bacon()` feature as `spam.bacon()` after importing the `spam` module.\n",
    "\n",
    "13. **What can you do to save a program from crashing if it encounters an error?**\n",
    "\n",
    "    **Answer:** You can use error handling techniques like `try` and `except` blocks to catch and handle exceptions, preventing the program from crashing.\n",
    "\n",
    "14. **What is the purpose of the `try` clause? What is the purpose of the `except` clause?**\n",
    "\n",
    "    **Answer:** The purpose of the `try` clause is to enclose the code that might raise an exception. The purpose of the `except` clause is to define a block of code that is executed when an exception occurs within the `try` block, allowing you to handle the exception gracefully."
   ]
  },
  {
   "cell_type": "code",
   "execution_count": null,
   "id": "fee96e39",
   "metadata": {},
   "outputs": [],
   "source": []
  }
 ],
 "metadata": {
  "kernelspec": {
   "display_name": "Python 3 (ipykernel)",
   "language": "python",
   "name": "python3"
  },
  "language_info": {
   "codemirror_mode": {
    "name": "ipython",
    "version": 3
   },
   "file_extension": ".py",
   "mimetype": "text/x-python",
   "name": "python",
   "nbconvert_exporter": "python",
   "pygments_lexer": "ipython3",
   "version": "3.10.9"
  }
 },
 "nbformat": 4,
 "nbformat_minor": 5
}
