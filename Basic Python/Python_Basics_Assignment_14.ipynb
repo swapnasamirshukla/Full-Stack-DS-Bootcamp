{
 "cells": [
  {
   "cell_type": "markdown",
   "id": "aebcbbc3",
   "metadata": {},
   "source": [
    "1. What does RGBA stand for?\n",
    "   - RGBA stands for Red, Green, Blue, and Alpha. It represents a color model where each pixel in an image is defined by its levels of red, green, and blue, along with an alpha value that represents transparency.\n",
    "\n",
    "2. From the Pillow module, how do you get the RGBA value of any images?\n",
    "   - You can use the `.getpixel()` method on an Image object to retrieve the RGBA value of a specific pixel.\n",
    "\n",
    "3. What is a box tuple, and how does it work?\n",
    "   - A box tuple is a tuple that defines a rectangular region within an image. It consists of four values: (left, upper, right, lower). These values represent the coordinates of the left, upper, right, and lower boundaries of the box.\n",
    "\n",
    "4. How can you find out the width and height of an Image object?\n",
    "   - You can use the `.size` attribute of the Image object to get a tuple representing the width and height: `(width, height)`.\n",
    "\n",
    "5. What method would you call to get an Image object for a 100×100 image, excluding the lower-left quarter of it?\n",
    "   - You can use the `.crop()` method to extract a specific region from an image. To exclude the lower-left quarter, you would provide the box tuple for the desired region.\n",
    "\n",
    "6. After making changes to an Image object, how could you save it as an image file?\n",
    "   - You can use the `.save()` method on the Image object, providing the desired file name and format as arguments.\n",
    "\n",
    "7. What module contains Pillow’s shape-drawing code?\n",
    "   - The `ImageDraw` module contains Pillow's shape-drawing code. You need to import it using `from PIL import ImageDraw`.\n",
    "\n",
    "8. Image objects do not have drawing methods. What kind of object does? How do you get this kind of object?\n",
    "   - The `ImageDraw` object, which you can create using `ImageDraw.Draw(image)`, has various drawing methods that allow you to draw shapes, lines, text, etc., onto the Image object."
   ]
  },
  {
   "cell_type": "code",
   "execution_count": null,
   "id": "4a6cc432",
   "metadata": {},
   "outputs": [],
   "source": []
  }
 ],
 "metadata": {
  "kernelspec": {
   "display_name": "Python 3 (ipykernel)",
   "language": "python",
   "name": "python3"
  },
  "language_info": {
   "codemirror_mode": {
    "name": "ipython",
    "version": 3
   },
   "file_extension": ".py",
   "mimetype": "text/x-python",
   "name": "python",
   "nbconvert_exporter": "python",
   "pygments_lexer": "ipython3",
   "version": "3.10.9"
  }
 },
 "nbformat": 4,
 "nbformat_minor": 5
}
