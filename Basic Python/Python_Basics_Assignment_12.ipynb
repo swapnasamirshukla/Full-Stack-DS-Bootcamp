{
 "cells": [
  {
   "cell_type": "markdown",
   "id": "c5b0eb14",
   "metadata": {},
   "source": [
    "1. In what modes should the `PdfFileReader()` and `PdfFileWriter()` File objects be opened?\n",
    "   - `PdfFileReader()` should be opened in binary read mode (`'rb'`).\n",
    "   - `PdfFileWriter()` should be opened in binary write mode (`'wb'`).\n",
    "\n",
    "2. From a `PdfFileReader` object, how do you get a Page object for page 5?\n",
    "   - You can get a Page object for page 5 using the `getPage()` method: `page = pdf_reader.getPage(4)`. (Note that page indices are 0-based.)\n",
    "\n",
    "3. What `PdfFileReader` variable stores the number of pages in the PDF document?\n",
    "   - The `numPages` variable stores the number of pages in the PDF document: `num_pages = pdf_reader.numPages`.\n",
    "\n",
    "4. If a `PdfFileReader` object’s PDF is encrypted with the password \"swordfish,\" what must you do before you can obtain Page objects from it?\n",
    "   - You must decrypt the PDF using the provided password using the `decrypt('password')` method before obtaining Page objects.\n",
    "\n",
    "5. What methods do you use to rotate a page?\n",
    "   - The `rotateClockwise(degrees)` and `rotateCounterClockwise(degrees)` methods are used to rotate a page in a `PdfFileWriter` object.\n",
    "\n",
    "6. What is the difference between a Run object and a Paragraph object?\n",
    "   - In the context of the `python-docx` library (used for working with Word documents):\n",
    "     - A **Run** object represents a contiguous run of text with the same style within a paragraph.\n",
    "     - A **Paragraph** object represents a single paragraph of text.\n",
    "\n",
    "7. How do you obtain a list of Paragraph objects for a Document object that’s stored in a variable named doc?\n",
    "   - You can obtain a list of Paragraph objects using the `paragraphs` attribute: `paragraphs_list = doc.paragraphs`.\n",
    "\n",
    "8. What type of object has bold, underline, italic, strike, and outline variables?\n",
    "   - A **Run** object has bold, underline, italic, strike, and outline attributes that can be used to format the text within a paragraph.\n",
    "\n",
    "9. What is the difference between False, True, and None for the bold variable?\n",
    "   - `True` makes the text bold.\n",
    "   - `False` makes the text not bold.\n",
    "   - `None` inherits the bold style from the surrounding context.\n",
    "\n",
    "10. How do you create a Document object for a new Word document?\n",
    "    - You can create a Document object using the `docx.Document()` constructor: `doc = Document()`.\n",
    "\n",
    "11. How do you add a paragraph with the text 'Hello, there!' to a Document object stored in a variable named doc?\n",
    "    - You can add a paragraph using the `add_paragraph()` method: `doc.add_paragraph('Hello, there!')`.\n",
    "\n",
    "12. What integers represent the levels of headings available in Word documents?\n",
    "    - The integers 0 to 8 represent the levels of headings available in Word documents. Level 0 is for the Title style, while levels 1 to 8 are for headings of decreasing significance."
   ]
  },
  {
   "cell_type": "code",
   "execution_count": null,
   "id": "f2fb72ab",
   "metadata": {},
   "outputs": [],
   "source": []
  }
 ],
 "metadata": {
  "kernelspec": {
   "display_name": "Python 3 (ipykernel)",
   "language": "python",
   "name": "python3"
  },
  "language_info": {
   "codemirror_mode": {
    "name": "ipython",
    "version": 3
   },
   "file_extension": ".py",
   "mimetype": "text/x-python",
   "name": "python",
   "nbconvert_exporter": "python",
   "pygments_lexer": "ipython3",
   "version": "3.10.9"
  }
 },
 "nbformat": 4,
 "nbformat_minor": 5
}
