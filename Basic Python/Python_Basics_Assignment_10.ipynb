{
 "cells": [
  {
   "cell_type": "markdown",
   "id": "3e1526a9",
   "metadata": {},
   "source": [
    "**1. How do you distinguish between shutil.copy() and shutil.copytree()?**\n",
    "- `shutil.copy(src, dst)`: This function copies the file at the source path (`src`) to the destination path (`dst`). It is used for copying individual files.\n",
    "- `shutil.copytree(src, dst)`: This function recursively copies an entire directory tree from the source path (`src`) to the destination path (`dst`). It copies all files and subdirectories within the source directory.\n",
    "\n",
    "**2. What function is used to rename files?**\n",
    "The `os.rename(src, dst)` function is used to rename files. It takes the source path (`src`) and the new destination path (`dst`) as arguments.\n",
    "\n",
    "**3. What is the difference between the delete functions in the send2trash and shutil modules?**\n",
    "- `send2trash.send2trash(path)`: This function moves a file or directory to the trash or recycle bin instead of permanently deleting it. It's safer than direct deletion.\n",
    "- `shutil.rmtree(path)`: This function removes an entire directory tree at the specified path, including all its files and subdirectories. It's equivalent to deleting the directory and its contents.\n",
    "\n",
    "**4. ZipFile objects have a close() method just like File objects’ close() method. What ZipFile method is equivalent to File objects’ open() method?**\n",
    "The `ZipFile` method equivalent to File objects' `open()` method is `ZipFile('filename.zip', 'w')`. This creates a new zip archive or opens an existing one for writing.\n",
    "\n",
    "**5. Create a program that searches a folder tree for files with a certain file extension (such as .pdf or .jpg). Copy these files from whatever location they are in to a new folder.**\n",
    "\n",
    "```python\n",
    "import os\n",
    "import shutil\n",
    "\n",
    "def copy_files_by_extension(source_folder, dest_folder, extension):\n",
    "    if not os.path.exists(dest_folder):\n",
    "        os.makedirs(dest_folder)\n",
    "    \n",
    "    for foldername, subfolders, filenames in os.walk(source_folder):\n",
    "        for filename in filenames:\n",
    "            if filename.endswith(extension):\n",
    "                source_path = os.path.join(foldername, filename)\n",
    "                dest_path = os.path.join(dest_folder, filename)\n",
    "                shutil.copy(source_path, dest_path)\n",
    "                print(f\"Copying {source_path} to {dest_path}\")\n",
    "\n",
    "source_folder = 'path/to/source/folder'\n",
    "dest_folder = 'path/to/destination/folder'\n",
    "extension = '.pdf'  # Change this to the desired file extension\n",
    "\n",
    "copy_files_by_extension(source_folder, dest_folder, extension)\n",
    "```\n",
    "\n",
    "Replace `'path/to/source/folder'`, `'path/to/destination/folder'`, and `'.pdf'` with appropriate paths and the desired file extension. This program recursively searches for files with the specified extension in the source folder tree and copies them to the destination folder."
   ]
  },
  {
   "cell_type": "code",
   "execution_count": null,
   "id": "0b6017d8",
   "metadata": {},
   "outputs": [],
   "source": []
  }
 ],
 "metadata": {
  "kernelspec": {
   "display_name": "Python 3 (ipykernel)",
   "language": "python",
   "name": "python3"
  },
  "language_info": {
   "codemirror_mode": {
    "name": "ipython",
    "version": 3
   },
   "file_extension": ".py",
   "mimetype": "text/x-python",
   "name": "python",
   "nbconvert_exporter": "python",
   "pygments_lexer": "ipython3",
   "version": "3.10.9"
  }
 },
 "nbformat": 4,
 "nbformat_minor": 5
}
