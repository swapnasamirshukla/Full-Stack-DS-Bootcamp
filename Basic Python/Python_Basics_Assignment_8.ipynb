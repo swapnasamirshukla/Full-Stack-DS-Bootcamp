{
 "cells": [
  {
   "cell_type": "markdown",
   "id": "65adb5dc",
   "metadata": {},
   "source": [
    "**1. Is the Python Standard Library included with PyInputPlus?**\n",
    "No, the Python Standard Library is not included with PyInputPlus. PyInputPlus is a separate third-party library designed to simplify user input validation in Python programs.\n",
    "\n",
    "**2. Why is PyInputPlus commonly imported with import pyinputplus as pypi?**\n",
    "Importing PyInputPlus as `pypi` (or any other shorter alias) is a common convention to make it quicker and easier to reference PyInputPlus functions and classes when writing code.\n",
    "\n",
    "**3. How do you distinguish between inputInt() and inputFloat()?**\n",
    "`inputInt()` is used to get an integer input from the user, while `inputFloat()` is used to get a floating-point (decimal) input. `inputInt()` validates and ensures the input is a whole number, while `inputFloat()` allows decimal numbers.\n",
    "\n",
    "**4. Using PyInputPlus, how do you ensure that the user enters a whole number between 0 and 99?**\n",
    "You can use the `inputInt()` function with the `min` and `max` keyword arguments:\n",
    "```python\n",
    "import pyinputplus as pypi\n",
    "\n",
    "number = pypi.inputInt(prompt='Enter a number: ', min=0, max=99)\n",
    "```\n",
    "\n",
    "**5. What is transferred to the keyword arguments allowRegexes and blockRegexes?**\n",
    "The `allowRegexes` keyword argument allows you to specify a list of regular expressions. If any of these regular expressions match the user's input, it's considered valid. The `blockRegexes` keyword argument allows you to specify a list of regular expressions. If any of these regular expressions match the user's input, it's considered invalid.\n",
    "\n",
    "**6. If a blank input is entered three times, what does inputStr(limit=3) do?**\n",
    "If a blank input is entered three times, `inputStr(limit=3)` will raise a `TimeoutException` after the third attempt, indicating that the user failed to provide a valid input within the specified limit.\n",
    "\n",
    "**7. If blank input is entered three times, what does inputStr(limit=3, default='hello') do?**\n",
    "If blank input is entered three times, `inputStr(limit=3, default='hello')` will return the default value `'hello'` after the third attempt, assuming the user did not provide any valid input within the specified limit."
   ]
  },
  {
   "cell_type": "code",
   "execution_count": null,
   "id": "1410fac7",
   "metadata": {},
   "outputs": [],
   "source": []
  }
 ],
 "metadata": {
  "kernelspec": {
   "display_name": "Python 3 (ipykernel)",
   "language": "python",
   "name": "python3"
  },
  "language_info": {
   "codemirror_mode": {
    "name": "ipython",
    "version": 3
   },
   "file_extension": ".py",
   "mimetype": "text/x-python",
   "name": "python",
   "nbconvert_exporter": "python",
   "pygments_lexer": "ipython3",
   "version": "3.10.9"
  }
 },
 "nbformat": 4,
 "nbformat_minor": 5
}
