{
 "cells": [
  {
   "cell_type": "markdown",
   "id": "b7d33ee7",
   "metadata": {},
   "source": [
    "**Question 1:** What are escape characters, and how do you use them?  \n",
    "**Answer 1:** Escape characters are special characters in a string that are used to represent characters that are difficult to type or have special meanings. They are preceded by a backslash (`\\`) in the string. For example, `\\'` represents a single quote, `\\\"` represents a double quote, `\\\\` represents a backslash, and `\\n` represents a newline character.\n",
    "\n",
    "**Question 2:** What do the escape characters `\\n` and `\\t` stand for?  \n",
    "**Answer 2:** The escape character `\\n` stands for a newline, and the escape character `\\t` stands for a tab.\n",
    "\n",
    "**Question 3:** What is the way to include backslash characters in a string?  \n",
    "**Answer 3:** To include a backslash character itself in a string, you can escape it by using a double backslash (`\\\\`). For example, `'\\\\'` will result in a single backslash in the string.\n",
    "\n",
    "**Question 4:** The string \"Howl's Moving Castle\" is a correct value. Why isn't the single quote character in the word \"Howl's\" not being escaped a problem?  \n",
    "**Answer 4:** The single quote character inside the word \"Howl's\" is not being escaped because the string itself is enclosed in double quotes (`\"`), which allows single quotes to be used without needing to escape them. This is a common technique in Python string handling.\n",
    "\n",
    "**Question 5:** How do you write a string of newlines if you don't want to use the `\\n` character?  \n",
    "**Answer 5:** You can use triple-quoted strings (`'''` or `\"\"\"`) to write a string with multiple lines without using the `\\n` character. For example:\n",
    "```python\n",
    "multi_line_string = '''This is a string\n",
    "that spans multiple lines.'''\n",
    "```\n",
    "\n",
    "**Question 6:** What are the values of the given expressions?\n",
    "- `'Hello, world!'[1]`\n",
    "- `'Hello, world!'[0:5]`\n",
    "- `'Hello, world!'[:5]`\n",
    "- `'Hello, world!'[3:]`\n",
    "\n",
    "**Answer 6:**\n",
    "- `'Hello, world!'[1]` gives `'e'`\n",
    "- `'Hello, world!'[0:5]` gives `'Hello'`\n",
    "- `'Hello, world!'[:5]` gives `'Hello'`\n",
    "- `'Hello, world!'[3:]` gives `'lo, world!'`\n",
    "\n",
    "**Question 7:** What are the values of the following expressions?\n",
    "- `'Hello'.upper()`\n",
    "- `'Hello'.upper().isupper()`\n",
    "- `'Hello'.upper().lower()`\n",
    "\n",
    "**Answer 7:**\n",
    "- `'Hello'.upper()` gives `'HELLO'`\n",
    "- `'Hello'.upper().isupper()` gives `True`\n",
    "- `'Hello'.upper().lower()` gives `'hello'`\n",
    "\n",
    "**Question 8:** What are the values of the following expressions?\n",
    "- `'Remember, remember, the fifth of July.'.split()`\n",
    "- `'-'.join('There can only one.'.split())`\n",
    "\n",
    "**Answer 8:**\n",
    "- `'Remember, remember, the fifth of July.'.split()` gives `['Remember,', 'remember,', 'the', 'fifth', 'of', 'July.']`\n",
    "- `'-'.join('There can only one.'.split())` gives `'There-can-only-one.'`\n",
    "\n",
    "**Question 9:** What are the methods for right-justifying, left-justifying, and centering a string?  \n",
    "**Answer 9:**\n",
    "- Right-justifying: `string.rjust(width)`\n",
    "- Left-justifying: `string.ljust(width)`\n",
    "- Centering: `string.center(width)`\n",
    "\n",
    "**Question 10:** What is the best way to remove whitespace characters from the start or end?  \n",
    "**Answer 10:** The best way to remove whitespace characters from the start or end of a string is to use the `strip()` method. You can use `lstrip()` to remove leading whitespace and `rstrip()` to remove trailing whitespace."
   ]
  },
  {
   "cell_type": "code",
   "execution_count": null,
   "id": "aea051f8",
   "metadata": {},
   "outputs": [],
   "source": []
  }
 ],
 "metadata": {
  "kernelspec": {
   "display_name": "Python 3 (ipykernel)",
   "language": "python",
   "name": "python3"
  },
  "language_info": {
   "codemirror_mode": {
    "name": "ipython",
    "version": 3
   },
   "file_extension": ".py",
   "mimetype": "text/x-python",
   "name": "python",
   "nbconvert_exporter": "python",
   "pygments_lexer": "ipython3",
   "version": "3.10.9"
  }
 },
 "nbformat": 4,
 "nbformat_minor": 5
}
