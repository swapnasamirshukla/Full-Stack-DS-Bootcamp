{
 "cells": [
  {
   "cell_type": "markdown",
   "id": "cd5d3a7f",
   "metadata": {},
   "source": [
    "**1. To what does a relative path refer?**\n",
    "A relative path refers to the location of a file or directory in relation to the current working directory. It doesn't start from the root directory but instead starts from the current location in the file system.\n",
    "\n",
    "**2. What does an absolute path start with in your operating system?**\n",
    "An absolute path starts with the root directory of the operating system. In most operating systems, this is represented by a drive letter (such as `C:\\` in Windows) or the root directory (such as `/` in Unix-like systems).\n",
    "\n",
    "**3. What do the functions os.getcwd() and os.chdir() do?**\n",
    "- `os.getcwd()`: This function returns the current working directory as a string.\n",
    "- `os.chdir(path)`: This function changes the current working directory to the specified path.\n",
    "\n",
    "**4. What are the . and .. folders?**\n",
    "In file systems, `.` represents the current directory, and `..` represents the parent directory. These are used to refer to directories in relative paths.\n",
    "\n",
    "**5. In C:\\bacon\\eggs\\spam.txt, which part is the dir name, and which part is the base name?**\n",
    "- Directory name (dir name): `C:\\bacon\\eggs`\n",
    "- Base name: `spam.txt`\n",
    "\n",
    "**6. What are the three “mode” arguments that can be passed to the open() function?**\n",
    "The three mode arguments that can be passed to the `open()` function are:\n",
    "- `'r'`: Read mode\n",
    "- `'w'`: Write mode (creates a new file or truncates an existing file)\n",
    "- `'a'`: Append mode (opens for writing but preserves existing content and appends new data)\n",
    "\n",
    "**7. What happens if an existing file is opened in write mode?**\n",
    "If an existing file is opened in write mode (`'w'`), the file's contents will be truncated (completely deleted) and the file will be ready to accept new data. If the file does not exist, a new file with the specified name will be created.\n",
    "\n",
    "**8. How do you tell the difference between read() and readlines()?**\n",
    "- `read()`: This method reads the entire content of the file as a single string.\n",
    "- `readlines()`: This method reads the lines of the file into a list, where each list item is a line from the file.\n",
    "\n",
    "**9. What data structure does a shelf value resemble?**\n",
    "A shelf value in Python (using the `shelve` module) resembles a dictionary-like data structure. It allows you to store and retrieve data using key-value pairs, just like a dictionary, but the data is stored persistently in a file on disk."
   ]
  },
  {
   "cell_type": "code",
   "execution_count": null,
   "id": "a1f5dcef",
   "metadata": {},
   "outputs": [],
   "source": []
  }
 ],
 "metadata": {
  "kernelspec": {
   "display_name": "Python 3 (ipykernel)",
   "language": "python",
   "name": "python3"
  },
  "language_info": {
   "codemirror_mode": {
    "name": "ipython",
    "version": 3
   },
   "file_extension": ".py",
   "mimetype": "text/x-python",
   "name": "python",
   "nbconvert_exporter": "python",
   "pygments_lexer": "ipython3",
   "version": "3.10.9"
  }
 },
 "nbformat": 4,
 "nbformat_minor": 5
}
