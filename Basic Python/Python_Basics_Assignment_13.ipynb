{
 "cells": [
  {
   "cell_type": "markdown",
   "id": "71d1f7af",
   "metadata": {},
   "source": [
    "1. What advantages do Excel spreadsheets have over CSV spreadsheets?\n",
    "   - Excel spreadsheets have certain advantages over CSV (Comma-Separated Values) spreadsheets:\n",
    "     - Excel supports more complex formatting options like cell colors, fonts, and formulas.\n",
    "     - Excel can handle multiple sheets within a single file.\n",
    "     - Excel can store images and other media directly within the spreadsheet.\n",
    "     - Excel files (.xlsx) can potentially be more compact than CSV files.\n",
    "\n",
    "2. What do you pass to `csv.reader()` and `csv.writer()` to create reader and writer objects?\n",
    "   - To create a reader object, you pass a File object (opened in read mode) to `csv.reader()`.\n",
    "   - To create a writer object, you pass a File object (opened in write mode) to `csv.writer()`.\n",
    "\n",
    "3. What modes do File objects for reader and writer objects need to be opened in?\n",
    "   - File objects for reader objects need to be opened in text read mode (`'rt'` or just `'r'`).\n",
    "   - File objects for writer objects need to be opened in text write mode (`'wt'` or just `'w'`).\n",
    "\n",
    "4. What method takes a list argument and writes it to a CSV file?\n",
    "   - The `writerow()` method of a CSV writer object takes a list argument and writes it as a row to a CSV file.\n",
    "\n",
    "5. What do the keyword arguments `delimiter` and `line terminator` do?\n",
    "   - `delimiter` specifies the character used to separate fields in the CSV data.\n",
    "   - `line terminator` specifies the character sequence used to terminate lines in the CSV data.\n",
    "\n",
    "6. What function takes a string of JSON data and returns a Python data structure?\n",
    "   - The `json.loads()` function takes a string of JSON data and returns a Python data structure (usually a dictionary or a list).\n",
    "\n",
    "7. What function takes a Python data structure and returns a string of JSON data?\n",
    "   - The `json.dumps()` function takes a Python data structure and returns a string of JSON data."
   ]
  },
  {
   "cell_type": "code",
   "execution_count": null,
   "id": "d04626cc",
   "metadata": {},
   "outputs": [],
   "source": []
  }
 ],
 "metadata": {
  "kernelspec": {
   "display_name": "Python 3 (ipykernel)",
   "language": "python",
   "name": "python3"
  },
  "language_info": {
   "codemirror_mode": {
    "name": "ipython",
    "version": 3
   },
   "file_extension": ".py",
   "mimetype": "text/x-python",
   "name": "python",
   "nbconvert_exporter": "python",
   "pygments_lexer": "ipython3",
   "version": "3.10.9"
  }
 },
 "nbformat": 4,
 "nbformat_minor": 5
}
