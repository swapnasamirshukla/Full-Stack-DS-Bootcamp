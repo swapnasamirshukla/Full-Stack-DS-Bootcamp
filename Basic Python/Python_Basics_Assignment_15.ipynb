{
 "cells": [
  {
   "cell_type": "markdown",
   "id": "4e038a76",
   "metadata": {},
   "source": [
    "1. How many seconds are in an hour? Use the interactive interpreter as a calculator and multiply the number of seconds in a minute (60) by the number of minutes in an hour (also 60)."
   ]
  },
  {
   "cell_type": "code",
   "execution_count": 12,
   "id": "64017a0a",
   "metadata": {},
   "outputs": [
    {
     "data": {
      "text/plain": [
       "3600"
      ]
     },
     "execution_count": 12,
     "metadata": {},
     "output_type": "execute_result"
    }
   ],
   "source": [
    "60*60"
   ]
  },
  {
   "cell_type": "markdown",
   "id": "252ce48e",
   "metadata": {},
   "source": [
    "2. Assign the result from the previous task (seconds in an hour) to a variable called `seconds_per_hour`."
   ]
  },
  {
   "cell_type": "code",
   "execution_count": 14,
   "id": "1f397602",
   "metadata": {},
   "outputs": [],
   "source": [
    "seconds_per_hour = 3600"
   ]
  },
  {
   "cell_type": "markdown",
   "id": "8a55c190",
   "metadata": {},
   "source": [
    "3. How many seconds do you think there are in a day? Make use of the variables seconds per hour and minutes per hour."
   ]
  },
  {
   "cell_type": "code",
   "execution_count": 15,
   "id": "a52d7698",
   "metadata": {},
   "outputs": [],
   "source": [
    "seconds_in_a_day = seconds_per_hour * 24"
   ]
  },
  {
   "cell_type": "markdown",
   "id": "ec9888ed",
   "metadata": {},
   "source": [
    "4. Calculate seconds per day again, but this time save the result in a variable called `seconds_per_day`."
   ]
  },
  {
   "cell_type": "code",
   "execution_count": 16,
   "id": "d93c6bc8",
   "metadata": {},
   "outputs": [],
   "source": [
    "seconds_per_day = seconds_per_hour * 24"
   ]
  },
  {
   "cell_type": "markdown",
   "id": "a6e7e07e",
   "metadata": {},
   "source": [
    "5. Divide `seconds_per_day` by `seconds_per_hour`. Use floating-point (/) division."
   ]
  },
  {
   "cell_type": "code",
   "execution_count": 17,
   "id": "506a6b68",
   "metadata": {},
   "outputs": [],
   "source": [
    "division_result = seconds_per_day / seconds_per_hour"
   ]
  },
  {
   "cell_type": "code",
   "execution_count": 18,
   "id": "8874aa99",
   "metadata": {},
   "outputs": [
    {
     "data": {
      "text/plain": [
       "24.0"
      ]
     },
     "execution_count": 18,
     "metadata": {},
     "output_type": "execute_result"
    }
   ],
   "source": [
    "division_result"
   ]
  },
  {
   "cell_type": "markdown",
   "id": "6790ddfb",
   "metadata": {},
   "source": [
    "\n",
    "6. Divide `seconds_per_day` by `seconds_per_hour`, using integer (//) division. Did this number agree with the floating-point value from the previous question, aside from the final .0?"
   ]
  },
  {
   "cell_type": "code",
   "execution_count": 19,
   "id": "e3d22c8a",
   "metadata": {},
   "outputs": [],
   "source": [
    "integer_division_result = seconds_per_day // seconds_per_hour"
   ]
  },
  {
   "cell_type": "code",
   "execution_count": 20,
   "id": "15b51085",
   "metadata": {},
   "outputs": [
    {
     "data": {
      "text/plain": [
       "24"
      ]
     },
     "execution_count": 20,
     "metadata": {},
     "output_type": "execute_result"
    }
   ],
   "source": [
    "integer_division_result"
   ]
  },
  {
   "cell_type": "markdown",
   "id": "98908420",
   "metadata": {},
   "source": [
    "The integer division result will be the same as the floating-point division result, just rounded down to the nearest integer."
   ]
  },
  {
   "cell_type": "markdown",
   "id": "4e152932",
   "metadata": {},
   "source": [
    "7. Write a generator, `genPrimes`, that returns the sequence of prime numbers on successive calls to its `next()` method: 2, 3, 5, 7, 11, ..."
   ]
  },
  {
   "cell_type": "code",
   "execution_count": 6,
   "id": "93ca6931",
   "metadata": {},
   "outputs": [],
   "source": [
    "def is_prime(n):\n",
    "       if n <= 1:\n",
    "           return False\n",
    "       for i in range(2, int(n**0.5) + 1):\n",
    "           if n % i == 0:\n",
    "               return False\n",
    "       return True\n",
    "\n",
    "def genPrimes():\n",
    "       num = 2\n",
    "       while True:\n",
    "           if is_prime(num):\n",
    "               yield num\n",
    "           num += 1\n",
    "\n",
    "primes_generator = genPrimes()"
   ]
  },
  {
   "cell_type": "code",
   "execution_count": 9,
   "id": "bf5783d5",
   "metadata": {},
   "outputs": [
    {
     "data": {
      "text/plain": [
       "2"
      ]
     },
     "execution_count": 9,
     "metadata": {},
     "output_type": "execute_result"
    }
   ],
   "source": [
    "next(primes_generator)"
   ]
  },
  {
   "cell_type": "code",
   "execution_count": 10,
   "id": "19c11976",
   "metadata": {},
   "outputs": [
    {
     "data": {
      "text/plain": [
       "3"
      ]
     },
     "execution_count": 10,
     "metadata": {},
     "output_type": "execute_result"
    }
   ],
   "source": [
    "next(primes_generator)"
   ]
  },
  {
   "cell_type": "code",
   "execution_count": 11,
   "id": "2d152c09",
   "metadata": {},
   "outputs": [
    {
     "data": {
      "text/plain": [
       "5"
      ]
     },
     "execution_count": 11,
     "metadata": {},
     "output_type": "execute_result"
    }
   ],
   "source": [
    "next(primes_generator)"
   ]
  },
  {
   "cell_type": "code",
   "execution_count": null,
   "id": "94395b3c",
   "metadata": {},
   "outputs": [],
   "source": []
  }
 ],
 "metadata": {
  "kernelspec": {
   "display_name": "Python 3 (ipykernel)",
   "language": "python",
   "name": "python3"
  },
  "language_info": {
   "codemirror_mode": {
    "name": "ipython",
    "version": 3
   },
   "file_extension": ".py",
   "mimetype": "text/x-python",
   "name": "python",
   "nbconvert_exporter": "python",
   "pygments_lexer": "ipython3",
   "version": "3.10.9"
  }
 },
 "nbformat": 4,
 "nbformat_minor": 5
}
