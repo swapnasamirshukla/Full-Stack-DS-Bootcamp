{
 "cells": [
  {
   "cell_type": "markdown",
   "id": "3822ece1",
   "metadata": {},
   "source": [
    "1. How many seconds are in an hour? Use the interactive interpreter as a calculator and multiply the number of seconds in a minute (60) by the number of minutes in an hour (also 60)."
   ]
  },
  {
   "cell_type": "code",
   "execution_count": 12,
   "id": "3e186a3c",
   "metadata": {},
   "outputs": [
    {
     "data": {
      "text/plain": [
       "3600"
      ]
     },
     "execution_count": 12,
     "metadata": {},
     "output_type": "execute_result"
    }
   ],
   "source": [
    "60*60"
   ]
  },
  {
   "cell_type": "markdown",
   "id": "38d4ca22",
   "metadata": {},
   "source": [
    "2. Assign the result from the previous task (seconds in an hour) to a variable called `seconds_per_hour`.\n",
    "   ```python\n",
    "   seconds_per_hour = 3600\n",
    "   ```\n",
    "\n",
    "3. How many seconds do you think there are in a day? Make use of the variables seconds per hour and minutes per hour.\n",
    "   - Answer: There are 24 hours in a day.\n",
    "   ```python\n",
    "   seconds_in_a_day = seconds_per_hour * 24\n",
    "   ```\n",
    "\n",
    "4. Calculate seconds per day again, but this time save the result in a variable called `seconds_per_day`.\n",
    "   ```python\n",
    "   seconds_per_day = seconds_per_hour * 24\n",
    "   ```\n",
    "\n",
    "5. Divide `seconds_per_day` by `seconds_per_hour`. Use floating-point (/) division.\n",
    "   ```python\n",
    "   division_result = seconds_per_day / seconds_per_hour\n",
    "   ```\n",
    "\n",
    "6. Divide `seconds_per_day` by `seconds_per_hour`, using integer (//) division. Did this number agree with the floating-point value from the previous question, aside from the final .0?\n",
    "   ```python\n",
    "   integer_division_result = seconds_per_day // seconds_per_hour\n",
    "   ```\n",
    "   The integer division result will be the same as the floating-point division result, just rounded down to the nearest integer.\n",
    "\n",
    "7. Write a generator, `genPrimes`, that returns the sequence of prime numbers on successive calls to its `next()` method: 2, 3, 5, 7, 11, ..."
   ]
  },
  {
   "cell_type": "code",
   "execution_count": 6,
   "id": "69221420",
   "metadata": {},
   "outputs": [],
   "source": [
    "def is_prime(n):\n",
    "       if n <= 1:\n",
    "           return False\n",
    "       for i in range(2, int(n**0.5) + 1):\n",
    "           if n % i == 0:\n",
    "               return False\n",
    "       return True\n",
    "\n",
    "def genPrimes():\n",
    "       num = 2\n",
    "       while True:\n",
    "           if is_prime(num):\n",
    "               yield num\n",
    "           num += 1\n",
    "\n",
    "primes_generator = genPrimes()"
   ]
  },
  {
   "cell_type": "code",
   "execution_count": 9,
   "id": "2e2b2ccb",
   "metadata": {},
   "outputs": [
    {
     "data": {
      "text/plain": [
       "2"
      ]
     },
     "execution_count": 9,
     "metadata": {},
     "output_type": "execute_result"
    }
   ],
   "source": [
    "next(primes_generator)"
   ]
  },
  {
   "cell_type": "code",
   "execution_count": 10,
   "id": "d4ee9e1e",
   "metadata": {},
   "outputs": [
    {
     "data": {
      "text/plain": [
       "3"
      ]
     },
     "execution_count": 10,
     "metadata": {},
     "output_type": "execute_result"
    }
   ],
   "source": [
    "next(primes_generator)"
   ]
  },
  {
   "cell_type": "code",
   "execution_count": 11,
   "id": "651e086b",
   "metadata": {},
   "outputs": [
    {
     "data": {
      "text/plain": [
       "5"
      ]
     },
     "execution_count": 11,
     "metadata": {},
     "output_type": "execute_result"
    }
   ],
   "source": [
    "next(primes_generator)"
   ]
  },
  {
   "cell_type": "code",
   "execution_count": null,
   "id": "979bb7aa",
   "metadata": {},
   "outputs": [],
   "source": []
  }
 ],
 "metadata": {
  "kernelspec": {
   "display_name": "Python 3 (ipykernel)",
   "language": "python",
   "name": "python3"
  },
  "language_info": {
   "codemirror_mode": {
    "name": "ipython",
    "version": 3
   },
   "file_extension": ".py",
   "mimetype": "text/x-python",
   "name": "python",
   "nbconvert_exporter": "python",
   "pygments_lexer": "ipython3",
   "version": "3.10.9"
  }
 },
 "nbformat": 4,
 "nbformat_minor": 5
}
