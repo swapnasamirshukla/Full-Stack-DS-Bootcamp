{
 "cells": [
  {
   "cell_type": "code",
   "execution_count": 4,
   "id": "8ee825b2",
   "metadata": {},
   "outputs": [
    {
     "name": "stdout",
     "output_type": "stream",
     "text": [
      "C:\\Users\\shuklas\\Trial-iNeuron\n",
      "['today.txt']\n",
      "['.aws', '.conda', '.condarc', '.continuum', '.ipynb_checkpoints']\n",
      "Monday\n",
      "2017-05-19\n"
     ]
    }
   ],
   "source": [
    "import os\n",
    "import datetime\n",
    "import random\n",
    "import multiprocessing\n",
    "\n",
    "import os\n",
    "\n",
    "# Change to a new directory\n",
    "new_directory = 'C:\\\\Users\\\\shuklas\\\\Trial-iNeuron'\n",
    "os.chdir(new_directory)\n",
    "\n",
    "# Print the current working directory to verify\n",
    "print(os.getcwd())\n",
    "\n",
    "\n",
    "# 1. Add the current date to the text file today.txt as a string.\n",
    "with open('today.txt', 'w') as file:\n",
    "    file.write(str(datetime.date.today()))\n",
    "\n",
    "# 2. Read the text file today.txt into the string today_string\n",
    "with open('today.txt', 'r') as file:\n",
    "    today_string = file.read()\n",
    "\n",
    "# 3. Parse the date from today_string.\n",
    "parsed_date = datetime.datetime.strptime(today_string, '%Y-%m-%d').date()\n",
    "\n",
    "# 4. List the files in your current directory\n",
    "files_in_current_directory = os.listdir()\n",
    "\n",
    "print(files_in_current_directory)\n",
    "\n",
    "# 5. Create a list of all of the files in your parent directory\n",
    "parent_directory = os.path.abspath(os.path.join(os.getcwd(), os.pardir))\n",
    "files_in_parent_directory = os.listdir(parent_directory)\n",
    "\n",
    "print(files_in_parent_directory[:5])  # show minimum 5\n",
    "\n",
    "# 6. Use multiprocessing to create three separate processes.\n",
    "\n",
    "def print_current_time_after_wait():\n",
    "    wait_time = random.randint(1, 5)\n",
    "    time.sleep(wait_time)\n",
    "    print(datetime.datetime.now().time())\n",
    "\n",
    "for _ in range(3):\n",
    "    process = multiprocessing.Process(target=print_current_time_after_wait)\n",
    "    process.start()\n",
    "\n",
    "# 7. Create a date object of your day of birth.\n",
    "dob = datetime.date(1990, 1, 1)\n",
    "\n",
    "# 8. What day of the week was your day of birth?\n",
    "days = [\"Monday\", \"Tuesday\", \"Wednesday\", \"Thursday\", \"Friday\", \"Saturday\", \"Sunday\"]\n",
    "print(days[dob.weekday()])\n",
    "\n",
    "# 9. When will you be (or when were you) 10,000 days old?\n",
    "ten_thousand_days_later = dob + datetime.timedelta(days=10000)\n",
    "print(ten_thousand_days_later)\n"
   ]
  },
  {
   "cell_type": "code",
   "execution_count": null,
   "id": "1d55a9f7",
   "metadata": {},
   "outputs": [],
   "source": []
  }
 ],
 "metadata": {
  "kernelspec": {
   "display_name": "Python 3 (ipykernel)",
   "language": "python",
   "name": "python3"
  },
  "language_info": {
   "codemirror_mode": {
    "name": "ipython",
    "version": 3
   },
   "file_extension": ".py",
   "mimetype": "text/x-python",
   "name": "python",
   "nbconvert_exporter": "python",
   "pygments_lexer": "ipython3",
   "version": "3.10.9"
  }
 },
 "nbformat": 4,
 "nbformat_minor": 5
}
